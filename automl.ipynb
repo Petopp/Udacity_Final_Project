{
 "cells": [
  {
   "cell_type": "markdown",
   "metadata": {},
   "source": [
    "# Automated ML with MS Azure"
   ]
  },
  {
   "cell_type": "code",
   "execution_count": 1,
   "metadata": {
    "gather": {
     "logged": 1620676200773
    },
    "jupyter": {
     "outputs_hidden": false,
     "source_hidden": false
    },
    "nteract": {
     "transient": {
      "deleting": false
     }
    }
   },
   "outputs": [],
   "source": [
    "from azureml.core import Workspace, Experiment\n",
    "from azureml.core.compute import ComputeTarget, AmlCompute\n",
    "from azureml.core.compute_target import ComputeTargetException\n",
    "from azureml.widgets import RunDetails\n",
    "from azureml.data.dataset_factory import TabularDatasetFactory\n",
    "from sklearn.model_selection import train_test_split\n",
    "import pandas as pd\n",
    "from azureml.core.dataset import Dataset\n",
    "from azureml.train.automl.utilities import get_primary_metrics\n",
    "from azureml.train.automl import AutoMLConfig\n",
    "from azureml.core.model import InferenceConfig\n",
    "from azureml.core.webservice import AciWebservice\n",
    "from azureml.core.webservice import Webservice\n",
    "from azureml.core.model import Model\n",
    "from azureml.core.environment import Environment\n",
    "from azureml.automl.core.shared import constants\n",
    "import joblib\n",
    "import time\n"
   ]
  },
  {
   "cell_type": "markdown",
   "metadata": {},
   "source": [
    "## Dataset\n",
    "\n",
    "### Source of the data set \n",
    "For this project we are using files from [Kaggle](https://www.kaggle.com/andrewmvd/heart-failure-clinical-data). In this dataset are data on cardiovascular diseases (CVDs). Which are the number one cause of death worldwide, claiming the lives of an estimated 17 million people each year. This represents approximately 31% of all deaths worldwide.\n",
    "Heart failure is one of the common events caused by CVDs. This dataset contains 12 characteristics that can be used to predict mortality from heart failure.\n",
    "In order for people with cardiovascular disease or at high cardiovascular risk (due to the presence of one or more risk factors such as hypertension, diabetes, hyperlipidaemia or established disease) to receive early detection and treatment, these datasets attempt to improve prediction.\n",
    "\n",
    "### Content of the data set\n",
    "The dataset contains 12 features that can be used to predict mortality from heart failure:\n",
    "- age: Age of the patient\n",
    "- amaemia: Decrease of red blood cells or hemoglobin\n",
    "- creatinine_phosphokinase: Level of the CPK enzyme in the blood (mcg/L)\n",
    "- diabetes: If the patient has diabetes\n",
    "- ejection_fraction: Percentage of blood leaving the heart at each contraction\n",
    "- high_blood_pressure: If the patient has hypertension\n",
    "- platelets: Platelets in the blood (kiloplatelets/mL)\n",
    "- serum_creatinine: Level of serum creatinine in the blood (mg/dL)\n",
    "- serum_sodium: Level of serum sodium in the blood (mEq/L)\n",
    "- sex: Woman or man (Gender at birth)\n",
    "- smoking: patient smokes or not\n",
    "- time: Follow-up period (days)\n",
    "\n",
    "### Target\n",
    "Our goal is to develop a machine learning algorithm that can detect whether a person is likely to die from heart failure. This will help in diagnosis and early prevention. For this, the above mentioned 12 features in the dataset are used to develop a model for the detection.\n",
    "\n",
    "### Attention!\n",
    "This is an experiment that was developed in the course of a test for the Udacity learning platform. Do not use this model in a medical environment or for acute indications. Always consult your doctor for medical questions or the medical emergency service in acute cases!\n"
   ]
  },
  {
   "cell_type": "code",
   "execution_count": 2,
   "metadata": {
    "gather": {
     "logged": 1620676202690
    },
    "jupyter": {
     "outputs_hidden": false,
     "source_hidden": false
    },
    "nteract": {
     "transient": {
      "deleting": false
     }
    }
   },
   "outputs": [
    {
     "name": "stdout",
     "output_type": "stream",
     "text": [
      "Workspace name: quick-starts-ws-144480\n",
      "Azure region: southcentralus\n",
      "Subscription id: d4ad7261-832d-46b2-b093-22156001df5b\n",
      "Resource group: aml-quickstarts-144480\n"
     ]
    }
   ],
   "source": [
    "# Creating a new experiment with AutoML\n",
    "\n",
    "ws = Workspace.from_config()\n",
    "string_name_experiment = \"automl_experiment_heart_failure\"\n",
    "\n",
    "experiment=Experiment(ws, string_name_experiment)\n",
    "\n",
    "print(\"Workspace name: \" + ws.name, \n",
    "      \"Azure region: \" + ws.location, \n",
    "      \"Subscription ID: \"  + ws.subscription_id, \n",
    "      \"Resource group: \" + ws.resource_group, sep = \"\\n\")\n",
    "\n",
    "run = experiment.start_logging()"
   ]
  },
  {
   "cell_type": "code",
   "execution_count": 3,
   "metadata": {
    "gather": {
     "logged": 1620676203076
    }
   },
   "outputs": [
    {
     "name": "stdout",
     "output_type": "stream",
     "text": [
      "ProjectPC ComputeInstance Succeeded\n",
      "cpu-compute AmlCompute Succeeded\n"
     ]
    }
   ],
   "source": [
    "# Checking and printing existing compute targets\n",
    "compute_targets= ws.compute_targets\n",
    "for name, ct in compute_targets.items():\n",
    "    print(\"Name: \"+ name) \n",
    "    print(\"Type: \" +ct.type)\n",
    "    print(\"State: \"+ ct.provisioning_state)"
   ]
  },
  {
   "cell_type": "code",
   "execution_count": 4,
   "metadata": {
    "gather": {
     "logged": 1620676203312
    }
   },
   "outputs": [
    {
     "name": "stdout",
     "output_type": "stream",
     "text": [
      "Found existing cluster, use it...\n",
      "Succeeded\n",
      "AmlCompute wait for completion finished\n",
      "\n",
      "Minimum number of nodes requested have been provisioned\n"
     ]
    }
   ],
   "source": [
    "# Dfine compute claster name\n",
    "compute_cluster_name= \"computcluster\"\n",
    "\n",
    "#Check if compute cluster already exists\n",
    "\n",
    "try:\n",
    "    # Using exist cluster\n",
    "    compute_cluster=ComputeTarget(workspace=ws, name=compute_cluster_name)\n",
    "    print(\"Found existing cluster, use it\")\n",
    "except ComputeTargetException:\n",
    "    #Create compute cluster\n",
    "    print(\"Creating new cluster\")\n",
    "    compute_config = AmlCompute.provisioning_configuration(vm_size='STANDARD_D2_V2',max_nodes=5)\n",
    "    compute_cluster = ComputeTarget.create(ws, compute_cluster_name, compute_config)\n",
    "\n",
    "# Wait for loading\n",
    "compute_cluster.wait_for_completion(show_output=True)"
   ]
  },
  {
   "cell_type": "code",
   "execution_count": 35,
   "metadata": {
    "gather": {
     "logged": 1620679375978
    }
   },
   "outputs": [
    {
     "data": {
      "text/html": [
       "<div>\n",
       "<style scoped>\n",
       "    .dataframe tbody tr th:only-of-type {\n",
       "        vertical-align: middle;\n",
       "    }\n",
       "\n",
       "    .dataframe tbody tr th {\n",
       "        vertical-align: top;\n",
       "    }\n",
       "\n",
       "    .dataframe thead th {\n",
       "        text-align: right;\n",
       "    }\n",
       "</style>\n",
       "<table border=\"1\" class=\"dataframe\">\n",
       "  <thead>\n",
       "    <tr style=\"text-align: right;\">\n",
       "      <th></th>\n",
       "      <th>age</th>\n",
       "      <th>anaemia</th>\n",
       "      <th>creatinine_phosphokinase</th>\n",
       "      <th>diabetes</th>\n",
       "      <th>ejection_fraction</th>\n",
       "      <th>high_blood_pressure</th>\n",
       "      <th>platelets</th>\n",
       "      <th>serum_creatinine</th>\n",
       "      <th>serum_sodium</th>\n",
       "      <th>sex</th>\n",
       "      <th>smoking</th>\n",
       "      <th>time</th>\n",
       "      <th>DEATH_EVENT</th>\n",
       "    </tr>\n",
       "  </thead>\n",
       "  <tbody>\n",
       "    <tr>\n",
       "      <th>0</th>\n",
       "      <td>75.0</td>\n",
       "      <td>0</td>\n",
       "      <td>582</td>\n",
       "      <td>0</td>\n",
       "      <td>20</td>\n",
       "      <td>1</td>\n",
       "      <td>265000.00</td>\n",
       "      <td>1.9</td>\n",
       "      <td>130</td>\n",
       "      <td>1</td>\n",
       "      <td>0</td>\n",
       "      <td>4</td>\n",
       "      <td>1</td>\n",
       "    </tr>\n",
       "    <tr>\n",
       "      <th>1</th>\n",
       "      <td>55.0</td>\n",
       "      <td>0</td>\n",
       "      <td>7861</td>\n",
       "      <td>0</td>\n",
       "      <td>38</td>\n",
       "      <td>0</td>\n",
       "      <td>263358.03</td>\n",
       "      <td>1.1</td>\n",
       "      <td>136</td>\n",
       "      <td>1</td>\n",
       "      <td>0</td>\n",
       "      <td>6</td>\n",
       "      <td>1</td>\n",
       "    </tr>\n",
       "    <tr>\n",
       "      <th>2</th>\n",
       "      <td>65.0</td>\n",
       "      <td>0</td>\n",
       "      <td>146</td>\n",
       "      <td>0</td>\n",
       "      <td>20</td>\n",
       "      <td>0</td>\n",
       "      <td>162000.00</td>\n",
       "      <td>1.3</td>\n",
       "      <td>129</td>\n",
       "      <td>1</td>\n",
       "      <td>1</td>\n",
       "      <td>7</td>\n",
       "      <td>1</td>\n",
       "    </tr>\n",
       "    <tr>\n",
       "      <th>3</th>\n",
       "      <td>50.0</td>\n",
       "      <td>1</td>\n",
       "      <td>111</td>\n",
       "      <td>0</td>\n",
       "      <td>20</td>\n",
       "      <td>0</td>\n",
       "      <td>210000.00</td>\n",
       "      <td>1.9</td>\n",
       "      <td>137</td>\n",
       "      <td>1</td>\n",
       "      <td>0</td>\n",
       "      <td>7</td>\n",
       "      <td>1</td>\n",
       "    </tr>\n",
       "    <tr>\n",
       "      <th>4</th>\n",
       "      <td>65.0</td>\n",
       "      <td>1</td>\n",
       "      <td>160</td>\n",
       "      <td>1</td>\n",
       "      <td>20</td>\n",
       "      <td>0</td>\n",
       "      <td>327000.00</td>\n",
       "      <td>2.7</td>\n",
       "      <td>116</td>\n",
       "      <td>0</td>\n",
       "      <td>0</td>\n",
       "      <td>8</td>\n",
       "      <td>1</td>\n",
       "    </tr>\n",
       "  </tbody>\n",
       "</table>\n",
       "</div>"
      ],
      "text/plain": [
       "    age  anaemia  creatinine_phosphokinase  diabetes  ejection_fraction  \\\n",
       "0  75.0        0                       582         0                 20   \n",
       "1  55.0        0                      7861         0                 38   \n",
       "2  65.0        0                       146         0                 20   \n",
       "3  50.0        1                       111         0                 20   \n",
       "4  65.0        1                       160         1                 20   \n",
       "\n",
       "   high_blood_pressure  platelets  serum_creatinine  serum_sodium  sex  \\\n",
       "0                    1  265000.00               1.9           130    1   \n",
       "1                    0  263358.03               1.1           136    1   \n",
       "2                    0  162000.00               1.3           129    1   \n",
       "3                    0  210000.00               1.9           137    1   \n",
       "4                    0  327000.00               2.7           116    0   \n",
       "\n",
       "   smoking  time  DEATH_EVENT  \n",
       "0        0     4            1  \n",
       "1        0     6            1  \n",
       "2        1     7            1  \n",
       "3        0     7            1  \n",
       "4        0     8            1  "
      ]
     },
     "execution_count": 35,
     "metadata": {},
     "output_type": "execute_result"
    }
   ],
   "source": [
    "# Get data from CSV file\n",
    "data=pd.read_csv (\"heart_failure_clinical_records_dataset.csv\")\n",
    "data.head()"
   ]
  },
  {
   "cell_type": "code",
   "execution_count": 36,
   "metadata": {
    "gather": {
     "logged": 1620679380093
    }
   },
   "outputs": [
    {
     "data": {
      "text/html": [
       "<div>\n",
       "<style scoped>\n",
       "    .dataframe tbody tr th:only-of-type {\n",
       "        vertical-align: middle;\n",
       "    }\n",
       "\n",
       "    .dataframe tbody tr th {\n",
       "        vertical-align: top;\n",
       "    }\n",
       "\n",
       "    .dataframe thead th {\n",
       "        text-align: right;\n",
       "    }\n",
       "</style>\n",
       "<table border=\"1\" class=\"dataframe\">\n",
       "  <thead>\n",
       "    <tr style=\"text-align: right;\">\n",
       "      <th></th>\n",
       "      <th>age</th>\n",
       "      <th>anaemia</th>\n",
       "      <th>creatinine_phosphokinase</th>\n",
       "      <th>diabetes</th>\n",
       "      <th>ejection_fraction</th>\n",
       "      <th>high_blood_pressure</th>\n",
       "      <th>platelets</th>\n",
       "      <th>serum_creatinine</th>\n",
       "      <th>serum_sodium</th>\n",
       "      <th>sex</th>\n",
       "      <th>smoking</th>\n",
       "      <th>time</th>\n",
       "      <th>DEATH_EVENT</th>\n",
       "    </tr>\n",
       "  </thead>\n",
       "  <tbody>\n",
       "    <tr>\n",
       "      <th>118</th>\n",
       "      <td>65.0</td>\n",
       "      <td>1</td>\n",
       "      <td>113</td>\n",
       "      <td>1</td>\n",
       "      <td>60</td>\n",
       "      <td>1</td>\n",
       "      <td>203000.00</td>\n",
       "      <td>0.90</td>\n",
       "      <td>140</td>\n",
       "      <td>0</td>\n",
       "      <td>0</td>\n",
       "      <td>94</td>\n",
       "      <td>0</td>\n",
       "    </tr>\n",
       "    <tr>\n",
       "      <th>224</th>\n",
       "      <td>58.0</td>\n",
       "      <td>0</td>\n",
       "      <td>582</td>\n",
       "      <td>1</td>\n",
       "      <td>25</td>\n",
       "      <td>0</td>\n",
       "      <td>504000.00</td>\n",
       "      <td>1.00</td>\n",
       "      <td>138</td>\n",
       "      <td>1</td>\n",
       "      <td>0</td>\n",
       "      <td>205</td>\n",
       "      <td>0</td>\n",
       "    </tr>\n",
       "    <tr>\n",
       "      <th>43</th>\n",
       "      <td>72.0</td>\n",
       "      <td>0</td>\n",
       "      <td>127</td>\n",
       "      <td>1</td>\n",
       "      <td>50</td>\n",
       "      <td>1</td>\n",
       "      <td>218000.00</td>\n",
       "      <td>1.00</td>\n",
       "      <td>134</td>\n",
       "      <td>1</td>\n",
       "      <td>0</td>\n",
       "      <td>33</td>\n",
       "      <td>0</td>\n",
       "    </tr>\n",
       "    <tr>\n",
       "      <th>207</th>\n",
       "      <td>85.0</td>\n",
       "      <td>0</td>\n",
       "      <td>212</td>\n",
       "      <td>0</td>\n",
       "      <td>38</td>\n",
       "      <td>0</td>\n",
       "      <td>186000.00</td>\n",
       "      <td>0.90</td>\n",
       "      <td>136</td>\n",
       "      <td>1</td>\n",
       "      <td>0</td>\n",
       "      <td>187</td>\n",
       "      <td>0</td>\n",
       "    </tr>\n",
       "    <tr>\n",
       "      <th>151</th>\n",
       "      <td>62.0</td>\n",
       "      <td>0</td>\n",
       "      <td>30</td>\n",
       "      <td>1</td>\n",
       "      <td>60</td>\n",
       "      <td>1</td>\n",
       "      <td>244000.00</td>\n",
       "      <td>0.90</td>\n",
       "      <td>139</td>\n",
       "      <td>1</td>\n",
       "      <td>0</td>\n",
       "      <td>117</td>\n",
       "      <td>0</td>\n",
       "    </tr>\n",
       "    <tr>\n",
       "      <th>...</th>\n",
       "      <td>...</td>\n",
       "      <td>...</td>\n",
       "      <td>...</td>\n",
       "      <td>...</td>\n",
       "      <td>...</td>\n",
       "      <td>...</td>\n",
       "      <td>...</td>\n",
       "      <td>...</td>\n",
       "      <td>...</td>\n",
       "      <td>...</td>\n",
       "      <td>...</td>\n",
       "      <td>...</td>\n",
       "      <td>...</td>\n",
       "    </tr>\n",
       "    <tr>\n",
       "      <th>220</th>\n",
       "      <td>73.0</td>\n",
       "      <td>0</td>\n",
       "      <td>582</td>\n",
       "      <td>0</td>\n",
       "      <td>20</td>\n",
       "      <td>0</td>\n",
       "      <td>263358.03</td>\n",
       "      <td>1.83</td>\n",
       "      <td>134</td>\n",
       "      <td>1</td>\n",
       "      <td>0</td>\n",
       "      <td>198</td>\n",
       "      <td>1</td>\n",
       "    </tr>\n",
       "    <tr>\n",
       "      <th>46</th>\n",
       "      <td>51.0</td>\n",
       "      <td>0</td>\n",
       "      <td>1380</td>\n",
       "      <td>0</td>\n",
       "      <td>25</td>\n",
       "      <td>1</td>\n",
       "      <td>271000.00</td>\n",
       "      <td>0.90</td>\n",
       "      <td>130</td>\n",
       "      <td>1</td>\n",
       "      <td>0</td>\n",
       "      <td>38</td>\n",
       "      <td>1</td>\n",
       "    </tr>\n",
       "    <tr>\n",
       "      <th>145</th>\n",
       "      <td>50.0</td>\n",
       "      <td>0</td>\n",
       "      <td>185</td>\n",
       "      <td>0</td>\n",
       "      <td>30</td>\n",
       "      <td>0</td>\n",
       "      <td>266000.00</td>\n",
       "      <td>0.70</td>\n",
       "      <td>141</td>\n",
       "      <td>1</td>\n",
       "      <td>1</td>\n",
       "      <td>112</td>\n",
       "      <td>0</td>\n",
       "    </tr>\n",
       "    <tr>\n",
       "      <th>174</th>\n",
       "      <td>65.0</td>\n",
       "      <td>0</td>\n",
       "      <td>198</td>\n",
       "      <td>1</td>\n",
       "      <td>35</td>\n",
       "      <td>1</td>\n",
       "      <td>281000.00</td>\n",
       "      <td>0.90</td>\n",
       "      <td>137</td>\n",
       "      <td>1</td>\n",
       "      <td>1</td>\n",
       "      <td>146</td>\n",
       "      <td>0</td>\n",
       "    </tr>\n",
       "    <tr>\n",
       "      <th>293</th>\n",
       "      <td>63.0</td>\n",
       "      <td>1</td>\n",
       "      <td>103</td>\n",
       "      <td>1</td>\n",
       "      <td>35</td>\n",
       "      <td>0</td>\n",
       "      <td>179000.00</td>\n",
       "      <td>0.90</td>\n",
       "      <td>136</td>\n",
       "      <td>1</td>\n",
       "      <td>1</td>\n",
       "      <td>270</td>\n",
       "      <td>0</td>\n",
       "    </tr>\n",
       "  </tbody>\n",
       "</table>\n",
       "<p>224 rows × 13 columns</p>\n",
       "</div>"
      ],
      "text/plain": [
       "      age  anaemia  creatinine_phosphokinase  diabetes  ejection_fraction  \\\n",
       "118  65.0        1                       113         1                 60   \n",
       "224  58.0        0                       582         1                 25   \n",
       "43   72.0        0                       127         1                 50   \n",
       "207  85.0        0                       212         0                 38   \n",
       "151  62.0        0                        30         1                 60   \n",
       "..    ...      ...                       ...       ...                ...   \n",
       "220  73.0        0                       582         0                 20   \n",
       "46   51.0        0                      1380         0                 25   \n",
       "145  50.0        0                       185         0                 30   \n",
       "174  65.0        0                       198         1                 35   \n",
       "293  63.0        1                       103         1                 35   \n",
       "\n",
       "     high_blood_pressure  platelets  serum_creatinine  serum_sodium  sex  \\\n",
       "118                    1  203000.00              0.90           140    0   \n",
       "224                    0  504000.00              1.00           138    1   \n",
       "43                     1  218000.00              1.00           134    1   \n",
       "207                    0  186000.00              0.90           136    1   \n",
       "151                    1  244000.00              0.90           139    1   \n",
       "..                   ...        ...               ...           ...  ...   \n",
       "220                    0  263358.03              1.83           134    1   \n",
       "46                     1  271000.00              0.90           130    1   \n",
       "145                    0  266000.00              0.70           141    1   \n",
       "174                    1  281000.00              0.90           137    1   \n",
       "293                    0  179000.00              0.90           136    1   \n",
       "\n",
       "     smoking  time  DEATH_EVENT  \n",
       "118        0    94            0  \n",
       "224        0   205            0  \n",
       "43         0    33            0  \n",
       "207        0   187            0  \n",
       "151        0   117            0  \n",
       "..       ...   ...          ...  \n",
       "220        0   198            1  \n",
       "46         0    38            1  \n",
       "145        1   112            0  \n",
       "174        1   146            0  \n",
       "293        1   270            0  \n",
       "\n",
       "[224 rows x 13 columns]"
      ]
     },
     "execution_count": 36,
     "metadata": {},
     "output_type": "execute_result"
    }
   ],
   "source": [
    "# split into train and test datasets\n",
    "train_df,test_df=train_test_split(data,shuffle=True)\n",
    "\n",
    "\n",
    "train_df"
   ]
  },
  {
   "cell_type": "code",
   "execution_count": 37,
   "metadata": {
    "gather": {
     "logged": 1620679384747
    }
   },
   "outputs": [
    {
     "name": "stdout",
     "output_type": "stream",
     "text": [
      "Uploading an estimated of 2 files\n",
      "Uploading ./data/test_data.csv\n",
      "Uploaded ./data/test_data.csv, 1 files out of an estimated total of 2\n",
      "Uploading ./data/train_data.csv\n",
      "Uploaded ./data/train_data.csv, 2 files out of an estimated total of 2\n",
      "Uploaded 2 files\n"
     ]
    },
    {
     "data": {
      "text/plain": [
       "$AZUREML_DATAREFERENCE_a0b4b9dc46be479698f1790305931d50"
      ]
     },
     "execution_count": 37,
     "metadata": {},
     "output_type": "execute_result"
    }
   ],
   "source": [
    "#save train/test dataset as .csv and upload to datastore\n",
    "if not os.path.isdir(\"data\"):\n",
    "    os.mkdir(\"data\")\n",
    "pd.DataFrame(train_df).to_csv(\"data/train_data.csv\", index=False)\n",
    "pd.DataFrame(test_df).to_csv(\"data/test_data.csv\", index=False)\n",
    "\n",
    "ds = ws.get_default_datastore()\n",
    "ds.upload(src_dir=\"./data\", target_path=\"heart_failure\", overwrite=True, show_progress=True)"
   ]
  },
  {
   "cell_type": "code",
   "execution_count": 38,
   "metadata": {
    "gather": {
     "logged": 1620679391468
    }
   },
   "outputs": [],
   "source": [
    "#Load dataset as TabularDataset\n",
    "train_data = Dataset.Tabular.from_delimited_files(path=ds.path(\"heart_failure/train_data.csv\"))"
   ]
  },
  {
   "cell_type": "code",
   "execution_count": 39,
   "metadata": {
    "gather": {
     "logged": 1620679395480
    }
   },
   "outputs": [
    {
     "data": {
      "text/plain": [
       "['AUC_weighted',\n",
       " 'norm_macro_recall',\n",
       " 'accuracy',\n",
       " 'average_precision_score_weighted',\n",
       " 'precision_score_weighted']"
      ]
     },
     "execution_count": 39,
     "metadata": {},
     "output_type": "execute_result"
    }
   ],
   "source": [
    "get_primary_metrics(\"classification\")"
   ]
  },
  {
   "cell_type": "markdown",
   "metadata": {},
   "source": [
    "## AutoML Configuration\n",
    "The AutoML Config class is a way of leveraging the AutoML SDK to automate machine learning. \n",
    "\n",
    "The AutoML settings file is a dictionary that specifies all the parameters controlling the experiment like experiment_timeout_minutes, whether or not to enable early stoppong, number of cross validations, the primary metric, etc.\n",
    "\n",
    "In the AutoML Config, we specify the task, the training data to be used, the target column name, the compute target and we pass the automl settings dictionary."
   ]
  },
  {
   "cell_type": "code",
   "execution_count": 33,
   "metadata": {
    "gather": {
     "logged": 1620677660840
    },
    "jupyter": {
     "outputs_hidden": false,
     "source_hidden": false
    },
    "nteract": {
     "transient": {
      "deleting": false
     }
    }
   },
   "outputs": [],
   "source": [
    "# automl settings \n",
    "automl_settings = {\n",
    "    \"enable_early_stopping\" : True,\n",
    "    \"experiment_timeout_minutes\": 20,\n",
    "    \"n_cross_validations\": 4,\n",
    "    \"featurization\": \"auto\",\n",
    "    \"primary_metric\": \"accuracy\",\n",
    "    \"verbosity\": logging.INFO\n",
    "}\n",
    "\n",
    "# automl config (with onnx compatible modus)\n",
    "automl_config = AutoMLConfig(\n",
    "    task=\"classification\",\n",
    "    debug_log = \"automl_errors.log\",\n",
    "    training_data=train_data,\n",
    "    label_column_name=\"DEATH_EVENT\",\n",
    "    compute_target=compute_cluster,\n",
    "    enable_onnx_compatible_models=True,\n",
    "    **automl_settings\n",
    ")"
   ]
  },
  {
   "cell_type": "code",
   "execution_count": 34,
   "metadata": {
    "gather": {
     "logged": 1620679327123
    },
    "jupyter": {
     "outputs_hidden": false,
     "source_hidden": false
    },
    "nteract": {
     "transient": {
      "deleting": false
     }
    }
   },
   "outputs": [
    {
     "name": "stdout",
     "output_type": "stream",
     "text": [
      "Submitting remote run.\n",
      "No run_configuration provided, running on cpu-compute with default configuration\n",
      "Running on remote compute: cpu-compute\n"
     ]
    },
    {
     "data": {
      "text/html": [
       "<table style=\"width:100%\"><tr><th>Experiment</th><th>Id</th><th>Type</th><th>Status</th><th>Details Page</th><th>Docs Page</th></tr><tr><td>heart-failure-automl</td><td>AutoML_b7740e25-c266-481a-b486-ff34d918d2bf</td><td>automl</td><td>NotStarted</td><td><a href=\"https://ml.azure.com/runs/AutoML_b7740e25-c266-481a-b486-ff34d918d2bf?wsid=/subscriptions/d4ad7261-832d-46b2-b093-22156001df5b/resourcegroups/aml-quickstarts-144480/workspaces/quick-starts-ws-144480&amp;tid=660b3398-b80e-49d2-bc5b-ac1dc93b5254\" target=\"_blank\" rel=\"noopener\">Link to Azure Machine Learning studio</a></td><td><a href=\"https://docs.microsoft.com/en-us/python/api/overview/azure/ml/intro?view=azure-ml-py\" target=\"_blank\" rel=\"noopener\">Link to Documentation</a></td></tr></table>"
      ],
      "text/plain": [
       "<IPython.core.display.HTML object>"
      ]
     },
     "metadata": {},
     "output_type": "display_data"
    },
    {
     "name": "stdout",
     "output_type": "stream",
     "text": [
      "\n",
      "Current status: FeaturesGeneration. Generating features for the dataset.\n",
      "Current status: ModelSelection. Beginning model selection.\n",
      "\n",
      "****************************************************************************************************\n",
      "DATA GUARDRAILS: \n",
      "\n",
      "TYPE:         Class balancing detection\n",
      "STATUS:       PASSED\n",
      "DESCRIPTION:  Your inputs were analyzed, and all classes are balanced in your training data.\n",
      "              Learn more about imbalanced data: https://aka.ms/AutomatedMLImbalancedData\n",
      "\n",
      "****************************************************************************************************\n",
      "\n",
      "TYPE:         Missing feature values imputation\n",
      "STATUS:       PASSED\n",
      "DESCRIPTION:  No feature missing values were detected in the training data.\n",
      "              Learn more about missing value imputation: https://aka.ms/AutomatedMLFeaturization\n",
      "\n",
      "****************************************************************************************************\n",
      "\n",
      "TYPE:         High cardinality feature detection\n",
      "STATUS:       PASSED\n",
      "DESCRIPTION:  Your inputs were analyzed, and no high cardinality features were detected.\n",
      "              Learn more about high cardinality feature handling: https://aka.ms/AutomatedMLFeaturization\n",
      "\n",
      "****************************************************************************************************\n",
      "\n",
      "****************************************************************************************************\n",
      "ITERATION: The iteration being evaluated.\n",
      "PIPELINE: A summary description of the pipeline being evaluated.\n",
      "DURATION: Time taken for the current iteration.\n",
      "METRIC: The result of computing score on the fitted pipeline.\n",
      "BEST: The best observed score thus far.\n",
      "****************************************************************************************************\n",
      "\n",
      " ITERATION   PIPELINE                                       DURATION      METRIC      BEST\n",
      "         0   MaxAbsScaler LightGBM                          0:00:43       0.8574    0.8574\n",
      "         1   MaxAbsScaler XGBoostClassifier                 0:00:52       0.8661    0.8661\n",
      "         2   MinMaxScaler RandomForest                      0:00:43       0.8527    0.8661\n",
      "         3   MinMaxScaler RandomForest                      0:00:43       0.8305    0.8661\n",
      "         4   MinMaxScaler RandomForest                      0:01:44       0.8707    0.8707\n",
      "         5   MinMaxScaler SVM                               0:00:44       0.7591    0.8707\n",
      "         6   MaxAbsScaler GradientBoosting                  0:00:45       0.8750    0.8750\n",
      "         7   StandardScalerWrapper RandomForest             0:00:42       0.8260    0.8750\n",
      "         8   SparseNormalizer LightGBM                      0:00:41       0.8439    0.8750\n",
      "         9   SparseNormalizer XGBoostClassifier             0:00:45       0.8573    0.8750\n",
      "        10   RobustScaler RandomForest                      0:00:47       0.8571    0.8750\n",
      "        11   MaxAbsScaler LightGBM                          0:00:45       0.8573    0.8750\n",
      "        12   SparseNormalizer XGBoostClassifier             0:00:47       0.8217    0.8750\n",
      "        13   RobustScaler ExtremeRandomTrees                0:00:41       0.8574    0.8750\n",
      "        14   StandardScalerWrapper ExtremeRandomTrees       0:00:47       0.8662    0.8750\n",
      "        15   StandardScalerWrapper XGBoostClassifier        0:00:44       0.8261    0.8750\n",
      "        16   StandardScalerWrapper GradientBoosting         0:00:48       0.8753    0.8753\n",
      "        17   StandardScalerWrapper ExtremeRandomTrees       0:00:42       0.7816    0.8753\n",
      "        18                                                  0:00:23          nan    0.8753\n",
      "ERROR: {\n",
      "    \"additional_properties\": {},\n",
      "    \"error\": {\n",
      "        \"additional_properties\": {\n",
      "            \"debugInfo\": null\n",
      "        },\n",
      "        \"code\": \"UserError\",\n",
      "        \"severity\": null,\n",
      "        \"message\": \"Experiment timeout reached, please consider increasing your experiment timeout.\",\n",
      "        \"message_format\": \"Experiment timeout reached, please consider increasing your experiment timeout.\",\n",
      "        \"message_parameters\": {},\n",
      "        \"reference_code\": null,\n",
      "        \"details_uri\": null,\n",
      "        \"target\": null,\n",
      "        \"details\": [],\n",
      "        \"inner_error\": {\n",
      "            \"additional_properties\": {},\n",
      "            \"code\": \"ResourceExhausted\",\n",
      "            \"inner_error\": {\n",
      "                \"additional_properties\": {},\n",
      "                \"code\": \"Timeout\",\n",
      "                \"inner_error\": {\n",
      "                    \"additional_properties\": {},\n",
      "                    \"code\": \"ExperimentTimeoutForIterations\",\n",
      "                    \"inner_error\": null\n",
      "                }\n",
      "            }\n",
      "        }\n",
      "    },\n",
      "    \"correlation\": null,\n",
      "    \"environment\": null,\n",
      "    \"location\": null,\n",
      "    \"time\": {},\n",
      "    \"component_name\": null\n",
      "}\n",
      "        19    VotingEnsemble                                0:00:48       0.8975    0.8975\n",
      "        20    StackEnsemble                                 0:00:54       0.8886    0.8975\n"
     ]
    }
   ],
   "source": [
    "# Submit your experiment\n",
    "remote_run = experiment.submit(automl_config,show_output=True)"
   ]
  },
  {
   "cell_type": "markdown",
   "metadata": {},
   "source": [
    "## Run Details"
   ]
  },
  {
   "cell_type": "code",
   "execution_count": 40,
   "metadata": {
    "gather": {
     "logged": 1620679408241
    },
    "jupyter": {
     "outputs_hidden": false,
     "source_hidden": false
    },
    "nteract": {
     "transient": {
      "deleting": false
     }
    }
   },
   "outputs": [
    {
     "data": {
      "application/vnd.jupyter.widget-view+json": {
       "model_id": "cbdba423d4d547c899d0bc4f2ce8e315",
       "version_major": 2,
       "version_minor": 0
      },
      "text/plain": [
       "_AutoMLWidget(widget_settings={'childWidgetDisplay': 'popup', 'send_telemetry': False, 'log_level': 'INFO', 's…"
      ]
     },
     "metadata": {},
     "output_type": "display_data"
    },
    {
     "data": {
      "application/aml.mini.widget.v1": "{\"status\": \"Completed\", \"workbench_run_details_uri\": \"https://ml.azure.com/runs/AutoML_b7740e25-c266-481a-b486-ff34d918d2bf?wsid=/subscriptions/d4ad7261-832d-46b2-b093-22156001df5b/resourcegroups/aml-quickstarts-144480/workspaces/quick-starts-ws-144480&tid=660b3398-b80e-49d2-bc5b-ac1dc93b5254\", \"run_id\": \"AutoML_b7740e25-c266-481a-b486-ff34d918d2bf\", \"run_properties\": {\"run_id\": \"AutoML_b7740e25-c266-481a-b486-ff34d918d2bf\", \"created_utc\": \"2021-05-10T20:14:28.163299Z\", \"properties\": {\"num_iterations\": \"1000\", \"training_type\": \"TrainFull\", \"acquisition_function\": \"EI\", \"primary_metric\": \"accuracy\", \"train_split\": \"0\", \"acquisition_parameter\": \"0\", \"num_cross_validation\": \"3\", \"target\": \"cpu-compute\", \"AMLSettingsJsonString\": \"{\\\"path\\\":null,\\\"name\\\":\\\"heart-failure-automl\\\",\\\"subscription_id\\\":\\\"d4ad7261-832d-46b2-b093-22156001df5b\\\",\\\"resource_group\\\":\\\"aml-quickstarts-144480\\\",\\\"workspace_name\\\":\\\"quick-starts-ws-144480\\\",\\\"region\\\":\\\"southcentralus\\\",\\\"compute_target\\\":\\\"cpu-compute\\\",\\\"spark_service\\\":null,\\\"azure_service\\\":\\\"remote\\\",\\\"many_models\\\":false,\\\"pipeline_fetch_max_batch_size\\\":1,\\\"enable_batch_run\\\":false,\\\"enable_run_restructure\\\":false,\\\"start_auxiliary_runs_before_parent_complete\\\":false,\\\"iterations\\\":1000,\\\"primary_metric\\\":\\\"accuracy\\\",\\\"task_type\\\":\\\"classification\\\",\\\"data_script\\\":null,\\\"test_size\\\":0.0,\\\"validation_size\\\":0.0,\\\"n_cross_validations\\\":3,\\\"y_min\\\":null,\\\"y_max\\\":null,\\\"num_classes\\\":null,\\\"featurization\\\":\\\"auto\\\",\\\"_ignore_package_version_incompatibilities\\\":false,\\\"is_timeseries\\\":false,\\\"max_cores_per_iteration\\\":1,\\\"max_concurrent_iterations\\\":1,\\\"iteration_timeout_minutes\\\":null,\\\"mem_in_mb\\\":null,\\\"enforce_time_on_windows\\\":false,\\\"experiment_timeout_minutes\\\":18,\\\"experiment_exit_score\\\":null,\\\"whitelist_models\\\":null,\\\"blacklist_algos\\\":[\\\"TensorFlowLinearClassifier\\\",\\\"TensorFlowDNN\\\"],\\\"supported_models\\\":[\\\"ExtremeRandomTrees\\\",\\\"XGBoostClassifier\\\",\\\"LinearSVM\\\",\\\"RandomForest\\\",\\\"AveragedPerceptronClassifier\\\",\\\"BernoulliNaiveBayes\\\",\\\"KNN\\\",\\\"TensorFlowDNN\\\",\\\"MultinomialNaiveBayes\\\",\\\"GradientBoosting\\\",\\\"LogisticRegression\\\",\\\"LightGBM\\\",\\\"SVM\\\",\\\"TensorFlowLinearClassifier\\\",\\\"DecisionTree\\\",\\\"SGD\\\"],\\\"private_models\\\":[],\\\"auto_blacklist\\\":true,\\\"blacklist_samples_reached\\\":false,\\\"exclude_nan_labels\\\":true,\\\"verbosity\\\":20,\\\"_debug_log\\\":\\\"azureml_automl.log\\\",\\\"show_warnings\\\":false,\\\"model_explainability\\\":true,\\\"service_url\\\":null,\\\"sdk_url\\\":null,\\\"sdk_packages\\\":null,\\\"enable_onnx_compatible_models\\\":false,\\\"enable_split_onnx_featurizer_estimator_models\\\":false,\\\"vm_type\\\":\\\"STANDARD_DS3_V2\\\",\\\"telemetry_verbosity\\\":20,\\\"send_telemetry\\\":true,\\\"enable_dnn\\\":false,\\\"scenario\\\":\\\"SDK-1.13.0\\\",\\\"environment_label\\\":null,\\\"save_mlflow\\\":false,\\\"force_text_dnn\\\":false,\\\"enable_feature_sweeping\\\":true,\\\"enable_early_stopping\\\":true,\\\"early_stopping_n_iters\\\":10,\\\"metrics\\\":null,\\\"enable_metric_confidence\\\":false,\\\"enable_ensembling\\\":true,\\\"enable_stack_ensembling\\\":true,\\\"ensemble_iterations\\\":15,\\\"enable_tf\\\":false,\\\"enable_subsampling\\\":null,\\\"subsample_seed\\\":null,\\\"enable_nimbusml\\\":false,\\\"enable_streaming\\\":false,\\\"force_streaming\\\":false,\\\"track_child_runs\\\":true,\\\"allowed_private_models\\\":[],\\\"label_column_name\\\":\\\"DEATH_EVENT\\\",\\\"weight_column_name\\\":null,\\\"cv_split_column_names\\\":null,\\\"enable_local_managed\\\":false,\\\"_local_managed_run_id\\\":null,\\\"cost_mode\\\":1,\\\"lag_length\\\":0,\\\"metric_operation\\\":\\\"maximize\\\",\\\"preprocess\\\":true}\", \"DataPrepJsonString\": \"{\\\\\\\"training_data\\\\\\\": {\\\\\\\"datasetId\\\\\\\": \\\\\\\"8ecd0f9d-ca67-4d27-a7bf-95acbba8346b\\\\\\\"}, \\\\\\\"datasets\\\\\\\": 0}\", \"EnableSubsampling\": null, \"runTemplate\": \"AutoML\", \"azureml.runsource\": \"automl\", \"display_task_type\": \"classification\", \"dependencies_versions\": \"{\\\"azureml-widgets\\\": \\\"1.27.0\\\", \\\"azureml-train\\\": \\\"1.27.0\\\", \\\"azureml-train-restclients-hyperdrive\\\": \\\"1.27.0\\\", \\\"azureml-train-core\\\": \\\"1.27.0\\\", \\\"azureml-train-automl\\\": \\\"1.27.0\\\", \\\"azureml-train-automl-runtime\\\": \\\"1.27.0\\\", \\\"azureml-train-automl-client\\\": \\\"1.27.0\\\", \\\"azureml-tensorboard\\\": \\\"1.27.0\\\", \\\"azureml-telemetry\\\": \\\"1.27.0\\\", \\\"azureml-sdk\\\": \\\"1.27.0\\\", \\\"azureml-samples\\\": \\\"0+unknown\\\", \\\"azureml-pipeline\\\": \\\"1.27.0\\\", \\\"azureml-pipeline-steps\\\": \\\"1.27.0\\\", \\\"azureml-pipeline-core\\\": \\\"1.27.0\\\", \\\"azureml-opendatasets\\\": \\\"1.27.0\\\", \\\"azureml-model-management-sdk\\\": \\\"1.0.1b6.post1\\\", \\\"azureml-mlflow\\\": \\\"1.27.0\\\", \\\"azureml-interpret\\\": \\\"1.27.0\\\", \\\"azureml-explain-model\\\": \\\"1.27.0\\\", \\\"azureml-defaults\\\": \\\"1.27.0\\\", \\\"azureml-dataset-runtime\\\": \\\"1.27.0\\\", \\\"azureml-dataprep\\\": \\\"2.14.2\\\", \\\"azureml-dataprep-rslex\\\": \\\"1.12.1\\\", \\\"azureml-dataprep-native\\\": \\\"33.0.0\\\", \\\"azureml-datadrift\\\": \\\"1.27.0\\\", \\\"azureml-core\\\": \\\"1.27.0\\\", \\\"azureml-contrib-services\\\": \\\"1.27.0\\\", \\\"azureml-contrib-server\\\": \\\"1.27.0\\\", \\\"azureml-contrib-reinforcementlearning\\\": \\\"1.27.0\\\", \\\"azureml-contrib-pipeline-steps\\\": \\\"1.27.0\\\", \\\"azureml-contrib-notebook\\\": \\\"1.27.0\\\", \\\"azureml-contrib-gbdt\\\": \\\"1.27.0\\\", \\\"azureml-contrib-fairness\\\": \\\"1.27.0\\\", \\\"azureml-contrib-dataset\\\": \\\"1.27.0\\\", \\\"azureml-cli-common\\\": \\\"1.27.0\\\", \\\"azureml-automl-runtime\\\": \\\"1.27.0\\\", \\\"azureml-automl-dnn-nlp\\\": \\\"1.27.0\\\", \\\"azureml-automl-core\\\": \\\"1.27.0\\\", \\\"azureml-accel-models\\\": \\\"1.27.0\\\"}\", \"_aml_system_scenario_identification\": \"Remote.Parent\", \"ClientType\": \"SDK\", \"environment_cpu_name\": \"AzureML-AutoML\", \"environment_cpu_label\": \"prod\", \"environment_gpu_name\": \"AzureML-AutoML-GPU\", \"environment_gpu_label\": \"prod\", \"root_attribution\": \"automl\", \"attribution\": \"AutoML\", \"Orchestrator\": \"AutoML\", \"CancelUri\": \"https://southcentralus.api.azureml.ms/jasmine/v1.0/subscriptions/d4ad7261-832d-46b2-b093-22156001df5b/resourceGroups/aml-quickstarts-144480/providers/Microsoft.MachineLearningServices/workspaces/quick-starts-ws-144480/experimentids/ce43e630-231b-459a-b6bd-f99b34f0bcab/cancel/AutoML_b7740e25-c266-481a-b486-ff34d918d2bf\", \"ClientSdkVersion\": \"1.27.0.post1\", \"snapshotId\": \"00000000-0000-0000-0000-000000000000\", \"SetupRunId\": \"AutoML_b7740e25-c266-481a-b486-ff34d918d2bf_setup\", \"SetupRunContainerId\": \"dcid.AutoML_b7740e25-c266-481a-b486-ff34d918d2bf_setup\", \"FeaturizationRunJsonPath\": \"featurizer_container.json\", \"FeaturizationRunId\": \"AutoML_b7740e25-c266-481a-b486-ff34d918d2bf_featurize\", \"ProblemInfoJsonString\": \"{\\\"dataset_num_categorical\\\": 0, \\\"is_sparse\\\": false, \\\"subsampling\\\": false, \\\"dataset_classes\\\": 2, \\\"dataset_features\\\": 12, \\\"dataset_samples\\\": 224, \\\"single_frequency_class_detected\\\": false}\", \"ModelExplainRunId\": \"AutoML_b7740e25-c266-481a-b486-ff34d918d2bf_ModelExplain\"}, \"tags\": {\"model_explain_run\": \"best_run\", \"_aml_system_azureml.automlComponent\": \"AutoML\", \"pipeline_id\": \"\", \"score\": \"\", \"predicted_cost\": \"\", \"fit_time\": \"\", \"training_percent\": \"\", \"iteration\": \"\", \"run_preprocessor\": \"\", \"run_algorithm\": \"\", \"automl_best_child_run_id\": \"AutoML_b7740e25-c266-481a-b486-ff34d918d2bf_19\", \"model_explain_best_run_child_id\": \"AutoML_b7740e25-c266-481a-b486-ff34d918d2bf_19\"}, \"end_time_utc\": \"2021-05-10T20:41:46.77788Z\", \"status\": \"Completed\", \"log_files\": {}, \"log_groups\": [], \"run_duration\": \"0:27:18\", \"run_number\": \"3\", \"run_queued_details\": {\"status\": \"Completed\", \"details\": null}}, \"child_runs\": [{\"run_id\": \"AutoML_b7740e25-c266-481a-b486-ff34d918d2bf_0\", \"run_number\": 7, \"metric\": null, \"status\": \"Completed\", \"run_type\": \"azureml.scriptrun\", \"training_percent\": \"100\", \"start_time\": \"2021-05-10T20:21:26.16244Z\", \"end_time\": \"2021-05-10T20:22:09.38303Z\", \"created_time\": \"2021-05-10T20:21:12.167105Z\", \"created_time_dt\": \"2021-05-10T20:21:12.167105Z\", \"duration\": \"0:00:57\", \"iteration\": \"0\", \"goal\": \"accuracy_max\", \"run_name\": \"MaxAbsScaler, LightGBM\", \"run_properties\": \"copy=True\", \"primary_metric\": 0.85741742, \"best_metric\": 0.85741742}, {\"run_id\": \"AutoML_b7740e25-c266-481a-b486-ff34d918d2bf_1\", \"run_number\": 8, \"metric\": null, \"status\": \"Completed\", \"run_type\": \"azureml.scriptrun\", \"training_percent\": \"100\", \"start_time\": \"2021-05-10T20:22:24.183558Z\", \"end_time\": \"2021-05-10T20:23:16.369441Z\", \"created_time\": \"2021-05-10T20:22:10.340785Z\", \"created_time_dt\": \"2021-05-10T20:22:10.340785Z\", \"duration\": \"0:01:06\", \"iteration\": \"1\", \"goal\": \"accuracy_max\", \"run_name\": \"MaxAbsScaler, XGBoostClassifier\", \"run_properties\": \"copy=True\", \"primary_metric\": 0.86612613, \"best_metric\": 0.86612613}, {\"run_id\": \"AutoML_b7740e25-c266-481a-b486-ff34d918d2bf_2\", \"run_number\": 9, \"metric\": null, \"status\": \"Completed\", \"run_type\": \"azureml.scriptrun\", \"training_percent\": \"100\", \"start_time\": \"2021-05-10T20:23:32.606077Z\", \"end_time\": \"2021-05-10T20:24:15.897989Z\", \"created_time\": \"2021-05-10T20:23:17.766155Z\", \"created_time_dt\": \"2021-05-10T20:23:17.766155Z\", \"duration\": \"0:00:58\", \"iteration\": \"2\", \"goal\": \"accuracy_max\", \"run_name\": \"MinMaxScaler, RandomForest\", \"run_properties\": \"copy=True, feature_range=(0, 1\", \"primary_metric\": 0.85267267, \"best_metric\": 0.86612613}, {\"run_id\": \"AutoML_b7740e25-c266-481a-b486-ff34d918d2bf_3\", \"run_number\": 10, \"metric\": null, \"status\": \"Completed\", \"run_type\": \"azureml.scriptrun\", \"training_percent\": \"100\", \"start_time\": \"2021-05-10T20:24:31.752635Z\", \"end_time\": \"2021-05-10T20:25:15.068947Z\", \"created_time\": \"2021-05-10T20:24:17.89082Z\", \"created_time_dt\": \"2021-05-10T20:24:17.89082Z\", \"duration\": \"0:00:57\", \"iteration\": \"3\", \"goal\": \"accuracy_max\", \"run_name\": \"MinMaxScaler, RandomForest\", \"run_properties\": \"copy=True, feature_range=(0, 1\", \"primary_metric\": 0.83051051, \"best_metric\": 0.86612613}, {\"run_id\": \"AutoML_b7740e25-c266-481a-b486-ff34d918d2bf_4\", \"run_number\": 11, \"metric\": null, \"status\": \"Completed\", \"run_type\": \"azureml.scriptrun\", \"training_percent\": \"100\", \"start_time\": \"2021-05-10T20:25:27.375301Z\", \"end_time\": \"2021-05-10T20:27:11.064743Z\", \"created_time\": \"2021-05-10T20:25:17.11913Z\", \"created_time_dt\": \"2021-05-10T20:25:17.11913Z\", \"duration\": \"0:01:53\", \"iteration\": \"4\", \"goal\": \"accuracy_max\", \"run_name\": \"MinMaxScaler, RandomForest\", \"run_properties\": \"copy=True, feature_range=(0, 1\", \"primary_metric\": 0.87069069, \"best_metric\": 0.87069069}, {\"run_id\": \"AutoML_b7740e25-c266-481a-b486-ff34d918d2bf_5\", \"run_number\": 12, \"metric\": null, \"status\": \"Completed\", \"run_type\": \"azureml.scriptrun\", \"training_percent\": \"100\", \"start_time\": \"2021-05-10T20:27:20.283871Z\", \"end_time\": \"2021-05-10T20:28:04.284024Z\", \"created_time\": \"2021-05-10T20:27:13.009431Z\", \"created_time_dt\": \"2021-05-10T20:27:13.009431Z\", \"duration\": \"0:00:51\", \"iteration\": \"5\", \"goal\": \"accuracy_max\", \"run_name\": \"MinMaxScaler, SVM\", \"run_properties\": \"copy=True, feature_range=(0, 1\", \"primary_metric\": 0.7590991, \"best_metric\": 0.87069069}, {\"run_id\": \"AutoML_b7740e25-c266-481a-b486-ff34d918d2bf_6\", \"run_number\": 13, \"metric\": null, \"status\": \"Completed\", \"run_type\": \"azureml.scriptrun\", \"training_percent\": \"100\", \"start_time\": \"2021-05-10T20:28:15.723359Z\", \"end_time\": \"2021-05-10T20:29:00.382934Z\", \"created_time\": \"2021-05-10T20:28:06.323492Z\", \"created_time_dt\": \"2021-05-10T20:28:06.323492Z\", \"duration\": \"0:00:54\", \"iteration\": \"6\", \"goal\": \"accuracy_max\", \"run_name\": \"MaxAbsScaler, GradientBoosting\", \"run_properties\": \"copy=True\", \"primary_metric\": 0.87501502, \"best_metric\": 0.87501502}, {\"run_id\": \"AutoML_b7740e25-c266-481a-b486-ff34d918d2bf_7\", \"run_number\": 14, \"metric\": null, \"status\": \"Completed\", \"run_type\": \"azureml.scriptrun\", \"training_percent\": \"100\", \"start_time\": \"2021-05-10T20:29:11.967299Z\", \"end_time\": \"2021-05-10T20:29:53.967028Z\", \"created_time\": \"2021-05-10T20:29:02.31478Z\", \"created_time_dt\": \"2021-05-10T20:29:02.31478Z\", \"duration\": \"0:00:51\", \"iteration\": \"7\", \"goal\": \"accuracy_max\", \"run_name\": \"StandardScalerWrapper, RandomForest\", \"run_properties\": \"<azureml.automl.runtime.shared.model_wrappers.StandardScalerWrapper object at 0x7f6ca8100128\", \"primary_metric\": 0.82600601, \"best_metric\": 0.87501502}, {\"run_id\": \"AutoML_b7740e25-c266-481a-b486-ff34d918d2bf_8\", \"run_number\": 15, \"metric\": null, \"status\": \"Completed\", \"run_type\": \"azureml.scriptrun\", \"training_percent\": \"100\", \"start_time\": \"2021-05-10T20:30:02.936479Z\", \"end_time\": \"2021-05-10T20:30:44.064403Z\", \"created_time\": \"2021-05-10T20:29:55.667886Z\", \"created_time_dt\": \"2021-05-10T20:29:55.667886Z\", \"duration\": \"0:00:48\", \"iteration\": \"8\", \"goal\": \"accuracy_max\", \"run_name\": \"SparseNormalizer, LightGBM\", \"run_properties\": \"<azureml.automl.runtime.shared.model_wrappers.SparseNormalizer object at 0x7fb11e99beb8\", \"primary_metric\": 0.8439039, \"best_metric\": 0.87501502}, {\"run_id\": \"AutoML_b7740e25-c266-481a-b486-ff34d918d2bf_9\", \"run_number\": 16, \"metric\": null, \"status\": \"Completed\", \"run_type\": \"azureml.scriptrun\", \"training_percent\": \"100\", \"start_time\": \"2021-05-10T20:30:55.639519Z\", \"end_time\": \"2021-05-10T20:31:40.388151Z\", \"created_time\": \"2021-05-10T20:30:45.988059Z\", \"created_time_dt\": \"2021-05-10T20:30:45.988059Z\", \"duration\": \"0:00:54\", \"iteration\": \"9\", \"goal\": \"accuracy_max\", \"run_name\": \"SparseNormalizer, XGBoostClassifier\", \"run_properties\": \"<azureml.automl.runtime.shared.model_wrappers.SparseNormalizer object at 0x7fb9f0086eb8\", \"primary_metric\": 0.8572973, \"best_metric\": 0.87501502}, {\"run_id\": \"AutoML_b7740e25-c266-481a-b486-ff34d918d2bf_10\", \"run_number\": 17, \"metric\": null, \"status\": \"Completed\", \"run_type\": \"azureml.scriptrun\", \"training_percent\": \"100\", \"start_time\": \"2021-05-10T20:31:49.685528Z\", \"end_time\": \"2021-05-10T20:32:36.597217Z\", \"created_time\": \"2021-05-10T20:31:42.379082Z\", \"created_time_dt\": \"2021-05-10T20:31:42.379082Z\", \"duration\": \"0:00:54\", \"iteration\": \"10\", \"goal\": \"accuracy_max\", \"run_name\": \"RobustScaler, RandomForest\", \"run_properties\": \"copy=True, quantile_range=[10, 90], with_centering=True,\\n             with_scaling=True\", \"primary_metric\": 0.85711712, \"best_metric\": 0.87501502}, {\"run_id\": \"AutoML_b7740e25-c266-481a-b486-ff34d918d2bf_11\", \"run_number\": 18, \"metric\": null, \"status\": \"Completed\", \"run_type\": \"azureml.scriptrun\", \"training_percent\": \"100\", \"start_time\": \"2021-05-10T20:32:48.386088Z\", \"end_time\": \"2021-05-10T20:33:33.051657Z\", \"created_time\": \"2021-05-10T20:32:38.579507Z\", \"created_time_dt\": \"2021-05-10T20:32:38.579507Z\", \"duration\": \"0:00:54\", \"iteration\": \"11\", \"goal\": \"accuracy_max\", \"run_name\": \"MaxAbsScaler, LightGBM\", \"run_properties\": \"copy=True\", \"primary_metric\": 0.8572973, \"best_metric\": 0.87501502}, {\"run_id\": \"AutoML_b7740e25-c266-481a-b486-ff34d918d2bf_12\", \"run_number\": 19, \"metric\": null, \"status\": \"Completed\", \"run_type\": \"azureml.scriptrun\", \"training_percent\": \"100\", \"start_time\": \"2021-05-10T20:33:42.481619Z\", \"end_time\": \"2021-05-10T20:34:29.305053Z\", \"created_time\": \"2021-05-10T20:33:34.862631Z\", \"created_time_dt\": \"2021-05-10T20:33:34.862631Z\", \"duration\": \"0:00:54\", \"iteration\": \"12\", \"goal\": \"accuracy_max\", \"run_name\": \"SparseNormalizer, XGBoostClassifier\", \"run_properties\": \"<azureml.automl.runtime.shared.model_wrappers.SparseNormalizer object at 0x7f2a7db0f3c8\", \"primary_metric\": 0.82168168, \"best_metric\": 0.87501502}, {\"run_id\": \"AutoML_b7740e25-c266-481a-b486-ff34d918d2bf_13\", \"run_number\": 20, \"metric\": null, \"status\": \"Completed\", \"run_type\": \"azureml.scriptrun\", \"training_percent\": \"100\", \"start_time\": \"2021-05-10T20:34:39.230358Z\", \"end_time\": \"2021-05-10T20:35:20.408532Z\", \"created_time\": \"2021-05-10T20:34:31.223988Z\", \"created_time_dt\": \"2021-05-10T20:34:31.223988Z\", \"duration\": \"0:00:49\", \"iteration\": \"13\", \"goal\": \"accuracy_max\", \"run_name\": \"RobustScaler, ExtremeRandomTrees\", \"run_properties\": \"copy=True, quantile_range=[25, 75], with_centering=True,\\n             with_scaling=False\", \"primary_metric\": 0.85735736, \"best_metric\": 0.87501502}, {\"run_id\": \"AutoML_b7740e25-c266-481a-b486-ff34d918d2bf_14\", \"run_number\": 21, \"metric\": null, \"status\": \"Completed\", \"run_type\": \"azureml.scriptrun\", \"training_percent\": \"100\", \"start_time\": \"2021-05-10T20:35:30.542842Z\", \"end_time\": \"2021-05-10T20:36:17.371129Z\", \"created_time\": \"2021-05-10T20:35:23.022862Z\", \"created_time_dt\": \"2021-05-10T20:35:23.022862Z\", \"duration\": \"0:00:54\", \"iteration\": \"14\", \"goal\": \"accuracy_max\", \"run_name\": \"StandardScalerWrapper, ExtremeRandomTrees\", \"run_properties\": \"<azureml.automl.runtime.shared.model_wrappers.StandardScalerWrapper object at 0x7f39d4d9aa20\", \"primary_metric\": 0.86624625, \"best_metric\": 0.87501502}, {\"run_id\": \"AutoML_b7740e25-c266-481a-b486-ff34d918d2bf_15\", \"run_number\": 22, \"metric\": null, \"status\": \"Completed\", \"run_type\": \"azureml.scriptrun\", \"training_percent\": \"100\", \"start_time\": \"2021-05-10T20:36:26.632356Z\", \"end_time\": \"2021-05-10T20:37:10.601292Z\", \"created_time\": \"2021-05-10T20:36:19.430596Z\", \"created_time_dt\": \"2021-05-10T20:36:19.430596Z\", \"duration\": \"0:00:51\", \"iteration\": \"15\", \"goal\": \"accuracy_max\", \"run_name\": \"StandardScalerWrapper, XGBoostClassifier\", \"run_properties\": \"<azureml.automl.runtime.shared.model_wrappers.StandardScalerWrapper object at 0x7f3aee0cc668\", \"primary_metric\": 0.82606607, \"best_metric\": 0.87501502}, {\"run_id\": \"AutoML_b7740e25-c266-481a-b486-ff34d918d2bf_16\", \"run_number\": 23, \"metric\": null, \"status\": \"Completed\", \"run_type\": \"azureml.scriptrun\", \"training_percent\": \"100\", \"start_time\": \"2021-05-10T20:37:21.893892Z\", \"end_time\": \"2021-05-10T20:38:09.557479Z\", \"created_time\": \"2021-05-10T20:37:12.406343Z\", \"created_time_dt\": \"2021-05-10T20:37:12.406343Z\", \"duration\": \"0:00:57\", \"iteration\": \"16\", \"goal\": \"accuracy_max\", \"run_name\": \"StandardScalerWrapper, GradientBoosting\", \"run_properties\": \"<azureml.automl.runtime.shared.model_wrappers.StandardScalerWrapper object at 0x7fbe11087390\", \"primary_metric\": 0.87525526, \"best_metric\": 0.87525526}, {\"run_id\": \"AutoML_b7740e25-c266-481a-b486-ff34d918d2bf_17\", \"run_number\": 24, \"metric\": null, \"status\": \"Completed\", \"run_type\": \"azureml.scriptrun\", \"training_percent\": \"100\", \"start_time\": \"2021-05-10T20:38:21.322461Z\", \"end_time\": \"2021-05-10T20:39:03.248016Z\", \"created_time\": \"2021-05-10T20:38:11.266459Z\", \"created_time_dt\": \"2021-05-10T20:38:11.266459Z\", \"duration\": \"0:00:51\", \"iteration\": \"17\", \"goal\": \"accuracy_max\", \"run_name\": \"StandardScalerWrapper, ExtremeRandomTrees\", \"run_properties\": \"<azureml.automl.runtime.shared.model_wrappers.StandardScalerWrapper object at 0x7f3c969effd0\", \"primary_metric\": 0.78162162, \"best_metric\": 0.87525526}, {\"run_id\": \"AutoML_b7740e25-c266-481a-b486-ff34d918d2bf_18\", \"run_number\": 25, \"metric\": null, \"status\": \"Canceled\", \"run_type\": \"azureml.scriptrun\", \"training_percent\": \"100\", \"start_time\": \"2021-05-10T20:39:16.821129Z\", \"end_time\": \"2021-05-10T20:39:39.763171Z\", \"created_time\": \"2021-05-10T20:39:05.228359Z\", \"created_time_dt\": \"2021-05-10T20:39:05.228359Z\", \"duration\": \"0:00:34\", \"iteration\": \"18\", \"goal\": null, \"run_name\": \"Canceled\", \"run_properties\": null}, {\"run_id\": \"AutoML_b7740e25-c266-481a-b486-ff34d918d2bf_19\", \"run_number\": 26, \"metric\": null, \"status\": \"Completed\", \"run_type\": \"azureml.scriptrun\", \"training_percent\": \"100\", \"start_time\": \"2021-05-10T20:39:52.358516Z\", \"end_time\": \"2021-05-10T20:40:40.758163Z\", \"created_time\": \"2021-05-10T20:39:40.808117Z\", \"created_time_dt\": \"2021-05-10T20:39:40.808117Z\", \"duration\": \"0:00:59\", \"iteration\": \"19\", \"goal\": \"accuracy_max\", \"run_name\": \"VotingEnsemble\", \"run_properties\": \"classification_labels=None,\\n                              estimators=[('16',\\n                                           Pipeline(memory=None,\\n                                                    steps=[('standardscalerwrapper',\\n                                                            <azureml.automl.runtime.shared.model_wrappers.StandardScalerWrapper object at 0x7fdfe3f6cdd8>\", \"primary_metric\": 0.89747748, \"best_metric\": 0.89747748}, {\"run_id\": \"AutoML_b7740e25-c266-481a-b486-ff34d918d2bf_20\", \"run_number\": 27, \"metric\": null, \"status\": \"Completed\", \"run_type\": \"azureml.scriptrun\", \"training_percent\": \"100\", \"start_time\": \"2021-05-10T20:40:51.143247Z\", \"end_time\": \"2021-05-10T20:41:44.671137Z\", \"created_time\": \"2021-05-10T20:40:41.564715Z\", \"created_time_dt\": \"2021-05-10T20:40:41.564715Z\", \"duration\": \"0:01:03\", \"iteration\": \"20\", \"goal\": \"accuracy_max\", \"run_name\": \"StackEnsemble\", \"run_properties\": \"base_learners=[('16',\\n                                        Pipeline(memory=None,\\n                                                 steps=[('standardscalerwrapper',\\n                                                         <azureml.automl.runtime.shared.model_wrappers.StandardScalerWrapper object at 0x7f6dbc078780>\", \"primary_metric\": 0.88858859, \"best_metric\": 0.89747748}], \"children_metrics\": {\"categories\": [0], \"series\": {\"average_precision_score_weighted\": [{\"categories\": [\"0\", \"1\", \"2\", \"3\", \"4\", \"5\", \"6\", \"7\", \"8\", \"9\", \"10\", \"11\", \"12\", \"13\", \"14\", \"15\", \"16\", \"17\", \"19\", \"20\"], \"mode\": \"markers\", \"name\": \"average_precision_score_weighted\", \"stepped\": false, \"type\": \"scatter\", \"data\": [0.927137855153774, 0.9415097056189904, 0.9296603213122068, 0.9429273460843328, 0.9340163721623772, 0.8273174584985448, 0.9430245610620909, 0.9409501273185118, 0.9266744496748975, 0.9302945000018187, 0.9403649625232853, 0.9362611324527009, 0.9080456197126777, 0.9328318060501268, 0.9241751773143863, 0.9312274459282802, 0.9370178804812791, 0.9120946113565175, 0.9433829432466446, 0.9390032016657734]}, {\"categories\": [\"0\", \"1\", \"2\", \"3\", \"4\", \"5\", \"6\", \"7\", \"8\", \"9\", \"10\", \"11\", \"12\", \"13\", \"14\", \"15\", \"16\", \"17\", \"19\", \"20\"], \"mode\": \"lines\", \"name\": \"average_precision_score_weighted_max\", \"stepped\": true, \"type\": \"scatter\", \"data\": [0.927137855153774, 0.9415097056189904, 0.9415097056189904, 0.9429273460843328, 0.9429273460843328, 0.9429273460843328, 0.9430245610620909, 0.9430245610620909, 0.9430245610620909, 0.9430245610620909, 0.9430245610620909, 0.9430245610620909, 0.9430245610620909, 0.9430245610620909, 0.9430245610620909, 0.9430245610620909, 0.9430245610620909, 0.9430245610620909, 0.9433829432466446, 0.9433829432466446]}], \"weighted_accuracy\": [{\"categories\": [\"0\", \"1\", \"2\", \"3\", \"4\", \"5\", \"6\", \"7\", \"8\", \"9\", \"10\", \"11\", \"12\", \"13\", \"14\", \"15\", \"16\", \"17\", \"19\", \"20\"], \"mode\": \"markers\", \"name\": \"weighted_accuracy\", \"stepped\": false, \"type\": \"scatter\", \"data\": [0.8762537424040314, 0.8809548935329281, 0.87068603329875, 0.862405809989625, 0.881283335803567, 0.8033421273652488, 0.896108492663406, 0.8493526999654167, 0.8683478089027221, 0.883999209525221, 0.8784809050936219, 0.8902898078158193, 0.8535471567610294, 0.8915138580109677, 0.9065935477496171, 0.8614854997282743, 0.8886545131169408, 0.85452220740082, 0.9137485302109578, 0.9049963934588212]}, {\"categories\": [\"0\", \"1\", \"2\", \"3\", \"4\", \"5\", \"6\", \"7\", \"8\", \"9\", \"10\", \"11\", \"12\", \"13\", \"14\", \"15\", \"16\", \"17\", \"19\", \"20\"], \"mode\": \"lines\", \"name\": \"weighted_accuracy_max\", \"stepped\": true, \"type\": \"scatter\", \"data\": [0.8762537424040314, 0.8809548935329281, 0.8809548935329281, 0.8809548935329281, 0.881283335803567, 0.881283335803567, 0.896108492663406, 0.896108492663406, 0.896108492663406, 0.896108492663406, 0.896108492663406, 0.896108492663406, 0.896108492663406, 0.896108492663406, 0.9065935477496171, 0.9065935477496171, 0.9065935477496171, 0.9065935477496171, 0.9137485302109578, 0.9137485302109578]}], \"average_precision_score_micro\": [{\"categories\": [\"0\", \"1\", \"2\", \"3\", \"4\", \"5\", \"6\", \"7\", \"8\", \"9\", \"10\", \"11\", \"12\", \"13\", \"14\", \"15\", \"16\", \"17\", \"19\", \"20\"], \"mode\": \"markers\", \"name\": \"average_precision_score_micro\", \"stepped\": false, \"type\": \"scatter\", \"data\": [0.9263864370351947, 0.9353128995829086, 0.9271974911749025, 0.9249346762893422, 0.927662396765793, 0.8367054991894363, 0.9418146007045284, 0.9305360382696923, 0.9256383560477192, 0.9296643298677741, 0.9384844688060134, 0.9285097512782513, 0.9003136054593752, 0.9240526426859885, 0.9144739789242404, 0.9221128659874333, 0.9329456322307869, 0.8770063688494627, 0.9407831339029317, 0.9308785697300407]}, {\"categories\": [\"0\", \"1\", \"2\", \"3\", \"4\", \"5\", \"6\", \"7\", \"8\", \"9\", \"10\", \"11\", \"12\", \"13\", \"14\", \"15\", \"16\", \"17\", \"19\", \"20\"], \"mode\": \"lines\", \"name\": \"average_precision_score_micro_max\", \"stepped\": true, \"type\": \"scatter\", \"data\": [0.9263864370351947, 0.9353128995829086, 0.9353128995829086, 0.9353128995829086, 0.9353128995829086, 0.9353128995829086, 0.9418146007045284, 0.9418146007045284, 0.9418146007045284, 0.9418146007045284, 0.9418146007045284, 0.9418146007045284, 0.9418146007045284, 0.9418146007045284, 0.9418146007045284, 0.9418146007045284, 0.9418146007045284, 0.9418146007045284, 0.9418146007045284, 0.9418146007045284]}], \"recall_score_macro\": [{\"categories\": [\"0\", \"1\", \"2\", \"3\", \"4\", \"5\", \"6\", \"7\", \"8\", \"9\", \"10\", \"11\", \"12\", \"13\", \"14\", \"15\", \"16\", \"17\", \"19\", \"20\"], \"mode\": \"markers\", \"name\": \"recall_score_macro\", \"stepped\": false, \"type\": \"scatter\", \"data\": [0.8325529100529101, 0.8491666666666667, 0.8273280423280424, 0.7888227513227513, 0.8580820105820107, 0.6958597883597885, 0.8447619047619047, 0.7947354497354496, 0.8103174603174604, 0.8199603174603175, 0.8276984126984127, 0.81255291005291, 0.7769973544973544, 0.8110846560846561, 0.8103571428571428, 0.7780952380952382, 0.8584788359788359, 0.6818518518518518, 0.8769973544973545, 0.8681084656084656]}, {\"categories\": [\"0\", \"1\", \"2\", \"3\", \"4\", \"5\", \"6\", \"7\", \"8\", \"9\", \"10\", \"11\", \"12\", \"13\", \"14\", \"15\", \"16\", \"17\", \"19\", \"20\"], \"mode\": \"lines\", \"name\": \"recall_score_macro_max\", \"stepped\": true, \"type\": \"scatter\", \"data\": [0.8325529100529101, 0.8491666666666667, 0.8491666666666667, 0.8491666666666667, 0.8580820105820107, 0.8580820105820107, 0.8580820105820107, 0.8580820105820107, 0.8580820105820107, 0.8580820105820107, 0.8580820105820107, 0.8580820105820107, 0.8580820105820107, 0.8580820105820107, 0.8580820105820107, 0.8580820105820107, 0.8584788359788359, 0.8584788359788359, 0.8769973544973545, 0.8769973544973545]}], \"f1_score_weighted\": [{\"categories\": [\"0\", \"1\", \"2\", \"3\", \"4\", \"5\", \"6\", \"7\", \"8\", \"9\", \"10\", \"11\", \"12\", \"13\", \"14\", \"15\", \"16\", \"17\", \"19\", \"20\"], \"mode\": \"markers\", \"name\": \"f1_score_weighted\", \"stepped\": false, \"type\": \"scatter\", \"data\": [0.856269832394871, 0.8658644556552856, 0.8525202414359428, 0.8238577636031668, 0.8708706981697371, 0.7456655102073654, 0.8740198193947611, 0.8245971161263909, 0.8413991301424929, 0.8550050698933028, 0.8563652989905113, 0.8528225644284332, 0.8178959429087306, 0.8518034273224778, 0.8594249396817576, 0.8195055398227892, 0.8744751047450445, 0.742250481416554, 0.8964915996023645, 0.8875076986273897]}, {\"categories\": [\"0\", \"1\", \"2\", \"3\", \"4\", \"5\", \"6\", \"7\", \"8\", \"9\", \"10\", \"11\", \"12\", \"13\", \"14\", \"15\", \"16\", \"17\", \"19\", \"20\"], \"mode\": \"lines\", \"name\": \"f1_score_weighted_max\", \"stepped\": true, \"type\": \"scatter\", \"data\": [0.856269832394871, 0.8658644556552856, 0.8658644556552856, 0.8658644556552856, 0.8708706981697371, 0.8708706981697371, 0.8740198193947611, 0.8740198193947611, 0.8740198193947611, 0.8740198193947611, 0.8740198193947611, 0.8740198193947611, 0.8740198193947611, 0.8740198193947611, 0.8740198193947611, 0.8740198193947611, 0.8744751047450445, 0.8744751047450445, 0.8964915996023645, 0.8964915996023645]}], \"recall_score_weighted\": [{\"categories\": [\"0\", \"1\", \"2\", \"3\", \"4\", \"5\", \"6\", \"7\", \"8\", \"9\", \"10\", \"11\", \"12\", \"13\", \"14\", \"15\", \"16\", \"17\", \"19\", \"20\"], \"mode\": \"markers\", \"name\": \"recall_score_weighted\", \"stepped\": false, \"type\": \"scatter\", \"data\": [0.8574174174174174, 0.866126126126126, 0.8526726726726727, 0.8305105105105106, 0.8706906906906906, 0.7590990990990991, 0.875015015015015, 0.8260060060060059, 0.8439039039039039, 0.8572972972972973, 0.8571171171171171, 0.8572972972972973, 0.8216816816816817, 0.8573573573573573, 0.8662462462462462, 0.826066066066066, 0.8752552552552553, 0.7816216216216216, 0.8974774774774774, 0.8885885885885886]}, {\"categories\": [\"0\", \"1\", \"2\", \"3\", \"4\", \"5\", \"6\", \"7\", \"8\", \"9\", \"10\", \"11\", \"12\", \"13\", \"14\", \"15\", \"16\", \"17\", \"19\", \"20\"], \"mode\": \"lines\", \"name\": \"recall_score_weighted_max\", \"stepped\": true, \"type\": \"scatter\", \"data\": [0.8574174174174174, 0.866126126126126, 0.866126126126126, 0.866126126126126, 0.8706906906906906, 0.8706906906906906, 0.875015015015015, 0.875015015015015, 0.875015015015015, 0.875015015015015, 0.875015015015015, 0.875015015015015, 0.875015015015015, 0.875015015015015, 0.875015015015015, 0.875015015015015, 0.8752552552552553, 0.8752552552552553, 0.8974774774774774, 0.8974774774774774]}], \"AUC_macro\": [{\"categories\": [\"0\", \"1\", \"2\", \"3\", \"4\", \"5\", \"6\", \"7\", \"8\", \"9\", \"10\", \"11\", \"12\", \"13\", \"14\", \"15\", \"16\", \"17\", \"19\", \"20\"], \"mode\": \"markers\", \"name\": \"AUC_macro\", \"stepped\": false, \"type\": \"scatter\", \"data\": [0.9142509700176368, 0.9319008818342152, 0.9202430335097002, 0.9389820105820106, 0.9344305114638448, 0.8159599647266313, 0.9349326278659612, 0.928415343915344, 0.9154878306878308, 0.9277285714285713, 0.9341231040564374, 0.9256349206349205, 0.8935278659611994, 0.9251326278659612, 0.9183961199294531, 0.9233239858906526, 0.9296305114638447, 0.8995731922398589, 0.9389927689594356, 0.9367902998236332]}, {\"categories\": [\"0\", \"1\", \"2\", \"3\", \"4\", \"5\", \"6\", \"7\", \"8\", \"9\", \"10\", \"11\", \"12\", \"13\", \"14\", \"15\", \"16\", \"17\", \"19\", \"20\"], \"mode\": \"lines\", \"name\": \"AUC_macro_max\", \"stepped\": true, \"type\": \"scatter\", \"data\": [0.9142509700176368, 0.9319008818342152, 0.9319008818342152, 0.9389820105820106, 0.9389820105820106, 0.9389820105820106, 0.9389820105820106, 0.9389820105820106, 0.9389820105820106, 0.9389820105820106, 0.9389820105820106, 0.9389820105820106, 0.9389820105820106, 0.9389820105820106, 0.9389820105820106, 0.9389820105820106, 0.9389820105820106, 0.9389820105820106, 0.9389927689594356, 0.9389927689594356]}], \"matthews_correlation\": [{\"categories\": [\"0\", \"1\", \"2\", \"3\", \"4\", \"5\", \"6\", \"7\", \"8\", \"9\", \"10\", \"11\", \"12\", \"13\", \"14\", \"15\", \"16\", \"17\", \"19\", \"20\"], \"mode\": \"markers\", \"name\": \"matthews_correlation\", \"stepped\": false, \"type\": \"scatter\", \"data\": [0.6769818479485717, 0.6991590289863773, 0.6585838430340879, 0.6172160020743783, 0.7108703793931039, 0.42813409952626075, 0.7040171018905238, 0.6080924440463908, 0.6433399267270716, 0.66602961183233, 0.6665332443466467, 0.6674572903717536, 0.5856149994528758, 0.6738129098579276, 0.6911804096954567, 0.6012875147356204, 0.7216869782526767, 0.5023668363107815, 0.7673002428942496, 0.7498242135262725]}, {\"categories\": [\"0\", \"1\", \"2\", \"3\", \"4\", \"5\", \"6\", \"7\", \"8\", \"9\", \"10\", \"11\", \"12\", \"13\", \"14\", \"15\", \"16\", \"17\", \"19\", \"20\"], \"mode\": \"lines\", \"name\": \"matthews_correlation_max\", \"stepped\": true, \"type\": \"scatter\", \"data\": [0.6769818479485717, 0.6991590289863773, 0.6991590289863773, 0.6991590289863773, 0.7108703793931039, 0.7108703793931039, 0.7108703793931039, 0.7108703793931039, 0.7108703793931039, 0.7108703793931039, 0.7108703793931039, 0.7108703793931039, 0.7108703793931039, 0.7108703793931039, 0.7108703793931039, 0.7108703793931039, 0.7216869782526767, 0.7216869782526767, 0.7673002428942496, 0.7673002428942496]}], \"average_precision_score_macro\": [{\"categories\": [\"0\", \"1\", \"2\", \"3\", \"4\", \"5\", \"6\", \"7\", \"8\", \"9\", \"10\", \"11\", \"12\", \"13\", \"14\", \"15\", \"16\", \"17\", \"19\", \"20\"], \"mode\": \"markers\", \"name\": \"average_precision_score_macro\", \"stepped\": false, \"type\": \"scatter\", \"data\": [0.9099474771206734, 0.9265025207081695, 0.9127807704472582, 0.9255522193529729, 0.9212855819051202, 0.7898876995990728, 0.928050213948811, 0.9212130628705241, 0.9072999739422151, 0.9097184817646532, 0.923093996492749, 0.920398555309994, 0.8850179107349249, 0.9170073821422776, 0.9085700169020757, 0.9123854154338225, 0.9230810288442085, 0.8971570058446936, 0.9316316915909795, 0.9270097175809676]}, {\"categories\": [\"0\", \"1\", \"2\", \"3\", \"4\", \"5\", \"6\", \"7\", \"8\", \"9\", \"10\", \"11\", \"12\", \"13\", \"14\", \"15\", \"16\", \"17\", \"19\", \"20\"], \"mode\": \"lines\", \"name\": \"average_precision_score_macro_max\", \"stepped\": true, \"type\": \"scatter\", \"data\": [0.9099474771206734, 0.9265025207081695, 0.9265025207081695, 0.9265025207081695, 0.9265025207081695, 0.9265025207081695, 0.928050213948811, 0.928050213948811, 0.928050213948811, 0.928050213948811, 0.928050213948811, 0.928050213948811, 0.928050213948811, 0.928050213948811, 0.928050213948811, 0.928050213948811, 0.928050213948811, 0.928050213948811, 0.9316316915909795, 0.9316316915909795]}], \"AUC_micro\": [{\"categories\": [\"0\", \"1\", \"2\", \"3\", \"4\", \"5\", \"6\", \"7\", \"8\", \"9\", \"10\", \"11\", \"12\", \"13\", \"14\", \"15\", \"16\", \"17\", \"19\", \"20\"], \"mode\": \"markers\", \"name\": \"AUC_micro\", \"stepped\": false, \"type\": \"scatter\", \"data\": [0.926031566701837, 0.9344391202012824, 0.927414279144009, 0.9265741633525417, 0.9346176987798609, 0.838135789843898, 0.9408012228444661, 0.9255699916132348, 0.922050710169629, 0.9304594756919081, 0.937898731163596, 0.9271937667397127, 0.8996273354435518, 0.9237732543354165, 0.9165500743987232, 0.9192530259989721, 0.9318518626734843, 0.8757881773665558, 0.9431034602169737, 0.9352683386088793]}, {\"categories\": [\"0\", \"1\", \"2\", \"3\", \"4\", \"5\", \"6\", \"7\", \"8\", \"9\", \"10\", \"11\", \"12\", \"13\", \"14\", \"15\", \"16\", \"17\", \"19\", \"20\"], \"mode\": \"lines\", \"name\": \"AUC_micro_max\", \"stepped\": true, \"type\": \"scatter\", \"data\": [0.926031566701837, 0.9344391202012824, 0.9344391202012824, 0.9344391202012824, 0.9346176987798609, 0.9346176987798609, 0.9408012228444661, 0.9408012228444661, 0.9408012228444661, 0.9408012228444661, 0.9408012228444661, 0.9408012228444661, 0.9408012228444661, 0.9408012228444661, 0.9408012228444661, 0.9408012228444661, 0.9408012228444661, 0.9408012228444661, 0.9431034602169737, 0.9431034602169737]}], \"accuracy\": [{\"categories\": [\"0\", \"1\", \"2\", \"3\", \"4\", \"5\", \"6\", \"7\", \"8\", \"9\", \"10\", \"11\", \"12\", \"13\", \"14\", \"15\", \"16\", \"17\", \"19\", \"20\"], \"mode\": \"markers\", \"name\": \"accuracy\", \"stepped\": false, \"type\": \"scatter\", \"data\": [0.8574174174174174, 0.866126126126126, 0.8526726726726727, 0.8305105105105106, 0.8706906906906906, 0.7590990990990991, 0.875015015015015, 0.8260060060060059, 0.8439039039039039, 0.8572972972972973, 0.8571171171171171, 0.8572972972972973, 0.8216816816816817, 0.8573573573573573, 0.8662462462462462, 0.826066066066066, 0.8752552552552553, 0.7816216216216216, 0.8974774774774774, 0.8885885885885886]}, {\"categories\": [\"0\", \"1\", \"2\", \"3\", \"4\", \"5\", \"6\", \"7\", \"8\", \"9\", \"10\", \"11\", \"12\", \"13\", \"14\", \"15\", \"16\", \"17\", \"19\", \"20\"], \"mode\": \"lines\", \"name\": \"accuracy_max\", \"stepped\": true, \"type\": \"scatter\", \"data\": [0.8574174174174174, 0.866126126126126, 0.866126126126126, 0.866126126126126, 0.8706906906906906, 0.8706906906906906, 0.875015015015015, 0.875015015015015, 0.875015015015015, 0.875015015015015, 0.875015015015015, 0.875015015015015, 0.875015015015015, 0.875015015015015, 0.875015015015015, 0.875015015015015, 0.8752552552552553, 0.8752552552552553, 0.8974774774774774, 0.8974774774774774]}], \"balanced_accuracy\": [{\"categories\": [\"0\", \"1\", \"2\", \"3\", \"4\", \"5\", \"6\", \"7\", \"8\", \"9\", \"10\", \"11\", \"12\", \"13\", \"14\", \"15\", \"16\", \"17\", \"19\", \"20\"], \"mode\": \"markers\", \"name\": \"balanced_accuracy\", \"stepped\": false, \"type\": \"scatter\", \"data\": [0.8325529100529101, 0.8491666666666667, 0.8273280423280424, 0.7888227513227513, 0.8580820105820107, 0.6958597883597885, 0.8447619047619047, 0.7947354497354496, 0.8103174603174604, 0.8199603174603175, 0.8276984126984127, 0.81255291005291, 0.7769973544973544, 0.8110846560846561, 0.8103571428571428, 0.7780952380952382, 0.8584788359788359, 0.6818518518518518, 0.8769973544973545, 0.8681084656084656]}, {\"categories\": [\"0\", \"1\", \"2\", \"3\", \"4\", \"5\", \"6\", \"7\", \"8\", \"9\", \"10\", \"11\", \"12\", \"13\", \"14\", \"15\", \"16\", \"17\", \"19\", \"20\"], \"mode\": \"lines\", \"name\": \"balanced_accuracy_max\", \"stepped\": true, \"type\": \"scatter\", \"data\": [0.8325529100529101, 0.8491666666666667, 0.8491666666666667, 0.8491666666666667, 0.8580820105820107, 0.8580820105820107, 0.8580820105820107, 0.8580820105820107, 0.8580820105820107, 0.8580820105820107, 0.8580820105820107, 0.8580820105820107, 0.8580820105820107, 0.8580820105820107, 0.8580820105820107, 0.8580820105820107, 0.8584788359788359, 0.8584788359788359, 0.8769973544973545, 0.8769973544973545]}], \"norm_macro_recall\": [{\"categories\": [\"0\", \"1\", \"2\", \"3\", \"4\", \"5\", \"6\", \"7\", \"8\", \"9\", \"10\", \"11\", \"12\", \"13\", \"14\", \"15\", \"16\", \"17\", \"19\", \"20\"], \"mode\": \"markers\", \"name\": \"norm_macro_recall\", \"stepped\": false, \"type\": \"scatter\", \"data\": [0.6651058201058201, 0.6983333333333333, 0.6546560846560847, 0.5776455026455026, 0.7161640211640211, 0.39171957671957675, 0.6895238095238095, 0.5894708994708995, 0.6206349206349207, 0.6399206349206349, 0.6553968253968254, 0.62510582010582, 0.553994708994709, 0.6221693121693123, 0.6207142857142857, 0.5561904761904762, 0.7169576719576719, 0.3637037037037037, 0.7539947089947091, 0.7362169312169312]}, {\"categories\": [\"0\", \"1\", \"2\", \"3\", \"4\", \"5\", \"6\", \"7\", \"8\", \"9\", \"10\", \"11\", \"12\", \"13\", \"14\", \"15\", \"16\", \"17\", \"19\", \"20\"], \"mode\": \"lines\", \"name\": \"norm_macro_recall_max\", \"stepped\": true, \"type\": \"scatter\", \"data\": [0.6651058201058201, 0.6983333333333333, 0.6983333333333333, 0.6983333333333333, 0.7161640211640211, 0.7161640211640211, 0.7161640211640211, 0.7161640211640211, 0.7161640211640211, 0.7161640211640211, 0.7161640211640211, 0.7161640211640211, 0.7161640211640211, 0.7161640211640211, 0.7161640211640211, 0.7161640211640211, 0.7169576719576719, 0.7169576719576719, 0.7539947089947091, 0.7539947089947091]}], \"precision_score_macro\": [{\"categories\": [\"0\", \"1\", \"2\", \"3\", \"4\", \"5\", \"6\", \"7\", \"8\", \"9\", \"10\", \"11\", \"12\", \"13\", \"14\", \"15\", \"16\", \"17\", \"19\", \"20\"], \"mode\": \"markers\", \"name\": \"precision_score_macro\", \"stepped\": false, \"type\": \"scatter\", \"data\": [0.8448631682327333, 0.8511842306599341, 0.8316132385082332, 0.832613600995954, 0.8534244847484765, 0.736601672946284, 0.8594977640178878, 0.8151323061037506, 0.8342817146351718, 0.8467398794946418, 0.8393295034484965, 0.8566188361446981, 0.8098938809673273, 0.865529744111031, 0.8849464455590427, 0.8267890294633341, 0.8637137093420465, 0.8596681096681097, 0.8908576416703351, 0.8824663717613072]}, {\"categories\": [\"0\", \"1\", \"2\", \"3\", \"4\", \"5\", \"6\", \"7\", \"8\", \"9\", \"10\", \"11\", \"12\", \"13\", \"14\", \"15\", \"16\", \"17\", \"19\", \"20\"], \"mode\": \"lines\", \"name\": \"precision_score_macro_max\", \"stepped\": true, \"type\": \"scatter\", \"data\": [0.8448631682327333, 0.8511842306599341, 0.8511842306599341, 0.8511842306599341, 0.8534244847484765, 0.8534244847484765, 0.8594977640178878, 0.8594977640178878, 0.8594977640178878, 0.8594977640178878, 0.8594977640178878, 0.8594977640178878, 0.8594977640178878, 0.865529744111031, 0.8849464455590427, 0.8849464455590427, 0.8849464455590427, 0.8849464455590427, 0.8908576416703351, 0.8908576416703351]}], \"precision_score_weighted\": [{\"categories\": [\"0\", \"1\", \"2\", \"3\", \"4\", \"5\", \"6\", \"7\", \"8\", \"9\", \"10\", \"11\", \"12\", \"13\", \"14\", \"15\", \"16\", \"17\", \"19\", \"20\"], \"mode\": \"markers\", \"name\": \"precision_score_weighted\", \"stepped\": false, \"type\": \"scatter\", \"data\": [0.8608293195249717, 0.8747954525448133, 0.8570250325066286, 0.8466760878525585, 0.8767376351387943, 0.7638161636417653, 0.8761280413540474, 0.8393982444654338, 0.8514284528766813, 0.8592192860569702, 0.8615637595957962, 0.8631957136267481, 0.8246918589291471, 0.8669111143266631, 0.8764074371710263, 0.8389112468262948, 0.8798605948427967, 0.8310921310921312, 0.9018098989461217, 0.8945029022884037]}, {\"categories\": [\"0\", \"1\", \"2\", \"3\", \"4\", \"5\", \"6\", \"7\", \"8\", \"9\", \"10\", \"11\", \"12\", \"13\", \"14\", \"15\", \"16\", \"17\", \"19\", \"20\"], \"mode\": \"lines\", \"name\": \"precision_score_weighted_max\", \"stepped\": true, \"type\": \"scatter\", \"data\": [0.8608293195249717, 0.8747954525448133, 0.8747954525448133, 0.8747954525448133, 0.8767376351387943, 0.8767376351387943, 0.8767376351387943, 0.8767376351387943, 0.8767376351387943, 0.8767376351387943, 0.8767376351387943, 0.8767376351387943, 0.8767376351387943, 0.8767376351387943, 0.8767376351387943, 0.8767376351387943, 0.8798605948427967, 0.8798605948427967, 0.9018098989461217, 0.9018098989461217]}], \"f1_score_macro\": [{\"categories\": [\"0\", \"1\", \"2\", \"3\", \"4\", \"5\", \"6\", \"7\", \"8\", \"9\", \"10\", \"11\", \"12\", \"13\", \"14\", \"15\", \"16\", \"17\", \"19\", \"20\"], \"mode\": \"markers\", \"name\": \"f1_score_macro\", \"stepped\": false, \"type\": \"scatter\", \"data\": [0.835529979086823, 0.8443556284354088, 0.826838923565114, 0.7937878396683207, 0.8522870958022771, 0.6973940475502868, 0.8503756978931641, 0.7956984112760388, 0.8151872021783526, 0.8295497195637256, 0.830168129615708, 0.8259278721756848, 0.7871327942683441, 0.8260921378206678, 0.8325048302755794, 0.7874270905880802, 0.8576087296319602, 0.6874112760605989, 0.8803631187767703, 0.8707235021520736]}, {\"categories\": [\"0\", \"1\", \"2\", \"3\", \"4\", \"5\", \"6\", \"7\", \"8\", \"9\", \"10\", \"11\", \"12\", \"13\", \"14\", \"15\", \"16\", \"17\", \"19\", \"20\"], \"mode\": \"lines\", \"name\": \"f1_score_macro_max\", \"stepped\": true, \"type\": \"scatter\", \"data\": [0.835529979086823, 0.8443556284354088, 0.8443556284354088, 0.8443556284354088, 0.8522870958022771, 0.8522870958022771, 0.8522870958022771, 0.8522870958022771, 0.8522870958022771, 0.8522870958022771, 0.8522870958022771, 0.8522870958022771, 0.8522870958022771, 0.8522870958022771, 0.8522870958022771, 0.8522870958022771, 0.8576087296319602, 0.8576087296319602, 0.8803631187767703, 0.8803631187767703]}], \"f1_score_micro\": [{\"categories\": [\"0\", \"1\", \"2\", \"3\", \"4\", \"5\", \"6\", \"7\", \"8\", \"9\", \"10\", \"11\", \"12\", \"13\", \"14\", \"15\", \"16\", \"17\", \"19\", \"20\"], \"mode\": \"markers\", \"name\": \"f1_score_micro\", \"stepped\": false, \"type\": \"scatter\", \"data\": [0.8574174174174175, 0.866126126126126, 0.8526726726726727, 0.8305105105105106, 0.8706906906906906, 0.7590990990990991, 0.875015015015015, 0.826006006006006, 0.8439039039039039, 0.8572972972972973, 0.857117117117117, 0.8572972972972973, 0.8216816816816817, 0.8573573573573573, 0.8662462462462462, 0.826066066066066, 0.8752552552552553, 0.7816216216216216, 0.8974774774774775, 0.8885885885885886]}, {\"categories\": [\"0\", \"1\", \"2\", \"3\", \"4\", \"5\", \"6\", \"7\", \"8\", \"9\", \"10\", \"11\", \"12\", \"13\", \"14\", \"15\", \"16\", \"17\", \"19\", \"20\"], \"mode\": \"lines\", \"name\": \"f1_score_micro_max\", \"stepped\": true, \"type\": \"scatter\", \"data\": [0.8574174174174175, 0.866126126126126, 0.866126126126126, 0.866126126126126, 0.8706906906906906, 0.8706906906906906, 0.875015015015015, 0.875015015015015, 0.875015015015015, 0.875015015015015, 0.875015015015015, 0.875015015015015, 0.875015015015015, 0.875015015015015, 0.875015015015015, 0.875015015015015, 0.8752552552552553, 0.8752552552552553, 0.8974774774774775, 0.8974774774774775]}], \"AUC_weighted\": [{\"categories\": [\"0\", \"1\", \"2\", \"3\", \"4\", \"5\", \"6\", \"7\", \"8\", \"9\", \"10\", \"11\", \"12\", \"13\", \"14\", \"15\", \"16\", \"17\", \"19\", \"20\"], \"mode\": \"markers\", \"name\": \"AUC_weighted\", \"stepped\": false, \"type\": \"scatter\", \"data\": [0.9142509700176368, 0.9319008818342152, 0.9202430335097, 0.9389820105820106, 0.9344305114638448, 0.8159599647266313, 0.9349326278659612, 0.9284153439153439, 0.9154878306878308, 0.9277285714285716, 0.9341231040564372, 0.9256349206349205, 0.8935278659611994, 0.9251326278659614, 0.9183961199294534, 0.9233239858906526, 0.9296305114638449, 0.8995731922398589, 0.9389927689594356, 0.9367902998236332]}, {\"categories\": [\"0\", \"1\", \"2\", \"3\", \"4\", \"5\", \"6\", \"7\", \"8\", \"9\", \"10\", \"11\", \"12\", \"13\", \"14\", \"15\", \"16\", \"17\", \"19\", \"20\"], \"mode\": \"lines\", \"name\": \"AUC_weighted_max\", \"stepped\": true, \"type\": \"scatter\", \"data\": [0.9142509700176368, 0.9319008818342152, 0.9319008818342152, 0.9389820105820106, 0.9389820105820106, 0.9389820105820106, 0.9389820105820106, 0.9389820105820106, 0.9389820105820106, 0.9389820105820106, 0.9389820105820106, 0.9389820105820106, 0.9389820105820106, 0.9389820105820106, 0.9389820105820106, 0.9389820105820106, 0.9389820105820106, 0.9389820105820106, 0.9389927689594356, 0.9389927689594356]}], \"log_loss\": [{\"categories\": [\"0\", \"1\", \"2\", \"3\", \"4\", \"5\", \"6\", \"7\", \"8\", \"9\", \"10\", \"11\", \"12\", \"13\", \"14\", \"15\", \"16\", \"17\", \"19\", \"20\"], \"mode\": \"markers\", \"name\": \"log_loss\", \"stepped\": false, \"type\": \"scatter\", \"data\": [0.38931852244915416, 0.3379260605136319, 0.35286517064337763, 0.38868411661628094, 0.4900281871663848, 0.5346891141145524, 0.3116098291089689, 0.372993837804732, 0.36472465660005055, 0.3485423318812623, 0.3306004677492988, 0.40460946140252246, 0.4778568836599726, 0.389084523869514, 0.405722719740018, 0.48545511644080813, 0.35305533022169694, 0.49175081297366074, 0.3161240594637804, 0.33813416243418337]}, {\"categories\": [\"0\", \"1\", \"2\", \"3\", \"4\", \"5\", \"6\", \"7\", \"8\", \"9\", \"10\", \"11\", \"12\", \"13\", \"14\", \"15\", \"16\", \"17\", \"19\", \"20\"], \"mode\": \"lines\", \"name\": \"log_loss_min\", \"stepped\": true, \"type\": \"scatter\", \"data\": [0.38931852244915416, 0.3379260605136319, 0.3379260605136319, 0.3379260605136319, 0.3379260605136319, 0.3379260605136319, 0.3116098291089689, 0.3116098291089689, 0.3116098291089689, 0.3116098291089689, 0.3116098291089689, 0.3116098291089689, 0.3116098291089689, 0.3116098291089689, 0.3116098291089689, 0.3116098291089689, 0.3116098291089689, 0.3116098291089689, 0.3116098291089689, 0.3116098291089689]}], \"recall_score_micro\": [{\"categories\": [\"0\", \"1\", \"2\", \"3\", \"4\", \"5\", \"6\", \"7\", \"8\", \"9\", \"10\", \"11\", \"12\", \"13\", \"14\", \"15\", \"16\", \"17\", \"19\", \"20\"], \"mode\": \"markers\", \"name\": \"recall_score_micro\", \"stepped\": false, \"type\": \"scatter\", \"data\": [0.8574174174174174, 0.866126126126126, 0.8526726726726727, 0.8305105105105106, 0.8706906906906906, 0.7590990990990991, 0.875015015015015, 0.8260060060060059, 0.8439039039039039, 0.8572972972972973, 0.8571171171171171, 0.8572972972972973, 0.8216816816816817, 0.8573573573573573, 0.8662462462462462, 0.826066066066066, 0.8752552552552553, 0.7816216216216216, 0.8974774774774774, 0.8885885885885886]}, {\"categories\": [\"0\", \"1\", \"2\", \"3\", \"4\", \"5\", \"6\", \"7\", \"8\", \"9\", \"10\", \"11\", \"12\", \"13\", \"14\", \"15\", \"16\", \"17\", \"19\", \"20\"], \"mode\": \"lines\", \"name\": \"recall_score_micro_max\", \"stepped\": true, \"type\": \"scatter\", \"data\": [0.8574174174174174, 0.866126126126126, 0.866126126126126, 0.866126126126126, 0.8706906906906906, 0.8706906906906906, 0.875015015015015, 0.875015015015015, 0.875015015015015, 0.875015015015015, 0.875015015015015, 0.875015015015015, 0.875015015015015, 0.875015015015015, 0.875015015015015, 0.875015015015015, 0.8752552552552553, 0.8752552552552553, 0.8974774774774774, 0.8974774774774774]}], \"precision_score_micro\": [{\"categories\": [\"0\", \"1\", \"2\", \"3\", \"4\", \"5\", \"6\", \"7\", \"8\", \"9\", \"10\", \"11\", \"12\", \"13\", \"14\", \"15\", \"16\", \"17\", \"19\", \"20\"], \"mode\": \"markers\", \"name\": \"precision_score_micro\", \"stepped\": false, \"type\": \"scatter\", \"data\": [0.8574174174174174, 0.866126126126126, 0.8526726726726727, 0.8305105105105106, 0.8706906906906906, 0.7590990990990991, 0.875015015015015, 0.8260060060060059, 0.8439039039039039, 0.8572972972972973, 0.8571171171171171, 0.8572972972972973, 0.8216816816816817, 0.8573573573573573, 0.8662462462462462, 0.826066066066066, 0.8752552552552553, 0.7816216216216216, 0.8974774774774774, 0.8885885885885886]}, {\"categories\": [\"0\", \"1\", \"2\", \"3\", \"4\", \"5\", \"6\", \"7\", \"8\", \"9\", \"10\", \"11\", \"12\", \"13\", \"14\", \"15\", \"16\", \"17\", \"19\", \"20\"], \"mode\": \"lines\", \"name\": \"precision_score_micro_max\", \"stepped\": true, \"type\": \"scatter\", \"data\": [0.8574174174174174, 0.866126126126126, 0.866126126126126, 0.866126126126126, 0.8706906906906906, 0.8706906906906906, 0.875015015015015, 0.875015015015015, 0.875015015015015, 0.875015015015015, 0.875015015015015, 0.875015015015015, 0.875015015015015, 0.875015015015015, 0.875015015015015, 0.875015015015015, 0.8752552552552553, 0.8752552552552553, 0.8974774774774774, 0.8974774774774774]}]}, \"metricName\": null, \"primaryMetricName\": \"accuracy\", \"showLegend\": false}, \"run_metrics\": [{\"name\": \"experiment_status\", \"run_id\": \"AutoML_b7740e25-c266-481a-b486-ff34d918d2bf\", \"categories\": [0, 1, 2, 3, 4, 5, 6, 7, 8, 9, 10, 11, 12, 13], \"series\": [{\"data\": [\"DatasetEvaluation\", \"FeaturesGeneration\", \"DatasetFeaturization\", \"DatasetFeaturizationCompleted\", \"DatasetCrossValidationSplit\", \"ModelSelection\", \"BestRunExplainModel\", \"ModelExplanationDataSetSetup\", \"PickSurrogateModel\", \"EngineeredFeatureExplanations\", \"EngineeredFeatureExplanations\", \"RawFeaturesExplanations\", \"RawFeaturesExplanations\", \"BestRunExplainModel\"]}]}, {\"name\": \"experiment_status_description\", \"run_id\": \"AutoML_b7740e25-c266-481a-b486-ff34d918d2bf\", \"categories\": [0, 1, 2, 3, 4, 5, 6, 7, 8, 9, 10, 11, 12, 13], \"series\": [{\"data\": [\"Gathering dataset statistics.\", \"Generating features for the dataset.\", \"Beginning to fit featurizers and featurize the dataset.\", \"Completed fit featurizers and featurizing the dataset.\", \"Generating individually featurized CV splits.\", \"Beginning model selection.\", \"Best run model explanations started\", \"Model explanations data setup completed\", \"Choosing LightGBM as the surrogate model for explanations\", \"Computation of engineered features started\", \"Computation of engineered features completed\", \"Computation of raw features started\", \"Computation of raw features completed\", \"Best run model explanations completed\"]}]}, {\"name\": \"precision_score_weighted\", \"run_id\": \"AutoML_b7740e25-c266-481a-b486-ff34d918d2bf\", \"categories\": [0], \"series\": [{\"data\": [0.9018098989461217]}]}, {\"name\": \"AUC_weighted\", \"run_id\": \"AutoML_b7740e25-c266-481a-b486-ff34d918d2bf\", \"categories\": [0], \"series\": [{\"data\": [0.9389927689594356]}]}, {\"name\": \"average_precision_score_weighted\", \"run_id\": \"AutoML_b7740e25-c266-481a-b486-ff34d918d2bf\", \"categories\": [0], \"series\": [{\"data\": [0.9433829432466446]}]}, {\"name\": \"f1_score_micro\", \"run_id\": \"AutoML_b7740e25-c266-481a-b486-ff34d918d2bf\", \"categories\": [0], \"series\": [{\"data\": [0.8974774774774775]}]}, {\"name\": \"matthews_correlation\", \"run_id\": \"AutoML_b7740e25-c266-481a-b486-ff34d918d2bf\", \"categories\": [0], \"series\": [{\"data\": [0.7673002428942496]}]}, {\"name\": \"average_precision_score_micro\", \"run_id\": \"AutoML_b7740e25-c266-481a-b486-ff34d918d2bf\", \"categories\": [0], \"series\": [{\"data\": [0.9407831339029317]}]}, {\"name\": \"precision_score_macro\", \"run_id\": \"AutoML_b7740e25-c266-481a-b486-ff34d918d2bf\", \"categories\": [0], \"series\": [{\"data\": [0.8908576416703351]}]}, {\"name\": \"AUC_micro\", \"run_id\": \"AutoML_b7740e25-c266-481a-b486-ff34d918d2bf\", \"categories\": [0], \"series\": [{\"data\": [0.9431034602169737]}]}, {\"name\": \"recall_score_weighted\", \"run_id\": \"AutoML_b7740e25-c266-481a-b486-ff34d918d2bf\", \"categories\": [0], \"series\": [{\"data\": [0.8974774774774774]}]}, {\"name\": \"precision_score_micro\", \"run_id\": \"AutoML_b7740e25-c266-481a-b486-ff34d918d2bf\", \"categories\": [0], \"series\": [{\"data\": [0.8974774774774774]}]}, {\"name\": \"AUC_macro\", \"run_id\": \"AutoML_b7740e25-c266-481a-b486-ff34d918d2bf\", \"categories\": [0], \"series\": [{\"data\": [0.9389927689594356]}]}, {\"name\": \"weighted_accuracy\", \"run_id\": \"AutoML_b7740e25-c266-481a-b486-ff34d918d2bf\", \"categories\": [0], \"series\": [{\"data\": [0.9137485302109578]}]}, {\"name\": \"balanced_accuracy\", \"run_id\": \"AutoML_b7740e25-c266-481a-b486-ff34d918d2bf\", \"categories\": [0], \"series\": [{\"data\": [0.8769973544973545]}]}, {\"name\": \"f1_score_weighted\", \"run_id\": \"AutoML_b7740e25-c266-481a-b486-ff34d918d2bf\", \"categories\": [0], \"series\": [{\"data\": [0.8964915996023645]}]}, {\"name\": \"recall_score_micro\", \"run_id\": \"AutoML_b7740e25-c266-481a-b486-ff34d918d2bf\", \"categories\": [0], \"series\": [{\"data\": [0.8974774774774774]}]}, {\"name\": \"recall_score_macro\", \"run_id\": \"AutoML_b7740e25-c266-481a-b486-ff34d918d2bf\", \"categories\": [0], \"series\": [{\"data\": [0.8769973544973545]}]}, {\"name\": \"norm_macro_recall\", \"run_id\": \"AutoML_b7740e25-c266-481a-b486-ff34d918d2bf\", \"categories\": [0], \"series\": [{\"data\": [0.7539947089947091]}]}, {\"name\": \"log_loss\", \"run_id\": \"AutoML_b7740e25-c266-481a-b486-ff34d918d2bf\", \"categories\": [0], \"series\": [{\"data\": [0.3161240594637804]}]}, {\"name\": \"f1_score_macro\", \"run_id\": \"AutoML_b7740e25-c266-481a-b486-ff34d918d2bf\", \"categories\": [0], \"series\": [{\"data\": [0.8803631187767703]}]}, {\"name\": \"accuracy\", \"run_id\": \"AutoML_b7740e25-c266-481a-b486-ff34d918d2bf\", \"categories\": [0], \"series\": [{\"data\": [0.8974774774774774]}]}, {\"name\": \"average_precision_score_macro\", \"run_id\": \"AutoML_b7740e25-c266-481a-b486-ff34d918d2bf\", \"categories\": [0], \"series\": [{\"data\": [0.9316316915909795]}]}], \"run_logs\": \"\\nRun is completed.\", \"graph\": {}, \"widget_settings\": {\"childWidgetDisplay\": \"popup\", \"send_telemetry\": false, \"log_level\": \"INFO\", \"sdk_version\": \"1.27.0\"}, \"loading\": false}"
     },
     "metadata": {},
     "output_type": "display_data"
    }
   ],
   "source": [
    "from azureml.widgets import RunDetails\n",
    "RunDetails(remote_run).show()"
   ]
  },
  {
   "cell_type": "code",
   "execution_count": 41,
   "metadata": {
    "gather": {
     "logged": 1620679451887
    }
   },
   "outputs": [
    {
     "data": {
      "text/plain": [
       "{'runId': 'AutoML_b7740e25-c266-481a-b486-ff34d918d2bf',\n",
       " 'target': 'cpu-compute',\n",
       " 'status': 'Completed',\n",
       " 'startTimeUtc': '2021-05-10T20:14:49.148641Z',\n",
       " 'endTimeUtc': '2021-05-10T20:41:46.77788Z',\n",
       " 'properties': {'num_iterations': '1000',\n",
       "  'training_type': 'TrainFull',\n",
       "  'acquisition_function': 'EI',\n",
       "  'primary_metric': 'accuracy',\n",
       "  'train_split': '0',\n",
       "  'acquisition_parameter': '0',\n",
       "  'num_cross_validation': '3',\n",
       "  'target': 'cpu-compute',\n",
       "  'AMLSettingsJsonString': '{\"path\":null,\"name\":\"heart-failure-automl\",\"subscription_id\":\"d4ad7261-832d-46b2-b093-22156001df5b\",\"resource_group\":\"aml-quickstarts-144480\",\"workspace_name\":\"quick-starts-ws-144480\",\"region\":\"southcentralus\",\"compute_target\":\"cpu-compute\",\"spark_service\":null,\"azure_service\":\"remote\",\"many_models\":false,\"pipeline_fetch_max_batch_size\":1,\"enable_batch_run\":false,\"enable_run_restructure\":false,\"start_auxiliary_runs_before_parent_complete\":false,\"iterations\":1000,\"primary_metric\":\"accuracy\",\"task_type\":\"classification\",\"data_script\":null,\"test_size\":0.0,\"validation_size\":0.0,\"n_cross_validations\":3,\"y_min\":null,\"y_max\":null,\"num_classes\":null,\"featurization\":\"auto\",\"_ignore_package_version_incompatibilities\":false,\"is_timeseries\":false,\"max_cores_per_iteration\":1,\"max_concurrent_iterations\":1,\"iteration_timeout_minutes\":null,\"mem_in_mb\":null,\"enforce_time_on_windows\":false,\"experiment_timeout_minutes\":18,\"experiment_exit_score\":null,\"whitelist_models\":null,\"blacklist_algos\":[\"TensorFlowLinearClassifier\",\"TensorFlowDNN\"],\"supported_models\":[\"ExtremeRandomTrees\",\"XGBoostClassifier\",\"LinearSVM\",\"RandomForest\",\"AveragedPerceptronClassifier\",\"BernoulliNaiveBayes\",\"KNN\",\"TensorFlowDNN\",\"MultinomialNaiveBayes\",\"GradientBoosting\",\"LogisticRegression\",\"LightGBM\",\"SVM\",\"TensorFlowLinearClassifier\",\"DecisionTree\",\"SGD\"],\"private_models\":[],\"auto_blacklist\":true,\"blacklist_samples_reached\":false,\"exclude_nan_labels\":true,\"verbosity\":20,\"_debug_log\":\"azureml_automl.log\",\"show_warnings\":false,\"model_explainability\":true,\"service_url\":null,\"sdk_url\":null,\"sdk_packages\":null,\"enable_onnx_compatible_models\":false,\"enable_split_onnx_featurizer_estimator_models\":false,\"vm_type\":\"STANDARD_DS3_V2\",\"telemetry_verbosity\":20,\"send_telemetry\":true,\"enable_dnn\":false,\"scenario\":\"SDK-1.13.0\",\"environment_label\":null,\"save_mlflow\":false,\"force_text_dnn\":false,\"enable_feature_sweeping\":true,\"enable_early_stopping\":true,\"early_stopping_n_iters\":10,\"metrics\":null,\"enable_metric_confidence\":false,\"enable_ensembling\":true,\"enable_stack_ensembling\":true,\"ensemble_iterations\":15,\"enable_tf\":false,\"enable_subsampling\":null,\"subsample_seed\":null,\"enable_nimbusml\":false,\"enable_streaming\":false,\"force_streaming\":false,\"track_child_runs\":true,\"allowed_private_models\":[],\"label_column_name\":\"DEATH_EVENT\",\"weight_column_name\":null,\"cv_split_column_names\":null,\"enable_local_managed\":false,\"_local_managed_run_id\":null,\"cost_mode\":1,\"lag_length\":0,\"metric_operation\":\"maximize\",\"preprocess\":true}',\n",
       "  'DataPrepJsonString': '{\\\\\"training_data\\\\\": {\\\\\"datasetId\\\\\": \\\\\"8ecd0f9d-ca67-4d27-a7bf-95acbba8346b\\\\\"}, \\\\\"datasets\\\\\": 0}',\n",
       "  'EnableSubsampling': None,\n",
       "  'runTemplate': 'AutoML',\n",
       "  'azureml.runsource': 'automl',\n",
       "  'display_task_type': 'classification',\n",
       "  'dependencies_versions': '{\"azureml-widgets\": \"1.27.0\", \"azureml-train\": \"1.27.0\", \"azureml-train-restclients-hyperdrive\": \"1.27.0\", \"azureml-train-core\": \"1.27.0\", \"azureml-train-automl\": \"1.27.0\", \"azureml-train-automl-runtime\": \"1.27.0\", \"azureml-train-automl-client\": \"1.27.0\", \"azureml-tensorboard\": \"1.27.0\", \"azureml-telemetry\": \"1.27.0\", \"azureml-sdk\": \"1.27.0\", \"azureml-samples\": \"0+unknown\", \"azureml-pipeline\": \"1.27.0\", \"azureml-pipeline-steps\": \"1.27.0\", \"azureml-pipeline-core\": \"1.27.0\", \"azureml-opendatasets\": \"1.27.0\", \"azureml-model-management-sdk\": \"1.0.1b6.post1\", \"azureml-mlflow\": \"1.27.0\", \"azureml-interpret\": \"1.27.0\", \"azureml-explain-model\": \"1.27.0\", \"azureml-defaults\": \"1.27.0\", \"azureml-dataset-runtime\": \"1.27.0\", \"azureml-dataprep\": \"2.14.2\", \"azureml-dataprep-rslex\": \"1.12.1\", \"azureml-dataprep-native\": \"33.0.0\", \"azureml-datadrift\": \"1.27.0\", \"azureml-core\": \"1.27.0\", \"azureml-contrib-services\": \"1.27.0\", \"azureml-contrib-server\": \"1.27.0\", \"azureml-contrib-reinforcementlearning\": \"1.27.0\", \"azureml-contrib-pipeline-steps\": \"1.27.0\", \"azureml-contrib-notebook\": \"1.27.0\", \"azureml-contrib-gbdt\": \"1.27.0\", \"azureml-contrib-fairness\": \"1.27.0\", \"azureml-contrib-dataset\": \"1.27.0\", \"azureml-cli-common\": \"1.27.0\", \"azureml-automl-runtime\": \"1.27.0\", \"azureml-automl-dnn-nlp\": \"1.27.0\", \"azureml-automl-core\": \"1.27.0\", \"azureml-accel-models\": \"1.27.0\"}',\n",
       "  '_aml_system_scenario_identification': 'Remote.Parent',\n",
       "  'ClientType': 'SDK',\n",
       "  'environment_cpu_name': 'AzureML-AutoML',\n",
       "  'environment_cpu_label': 'prod',\n",
       "  'environment_gpu_name': 'AzureML-AutoML-GPU',\n",
       "  'environment_gpu_label': 'prod',\n",
       "  'root_attribution': 'automl',\n",
       "  'attribution': 'AutoML',\n",
       "  'Orchestrator': 'AutoML',\n",
       "  'CancelUri': 'https://southcentralus.api.azureml.ms/jasmine/v1.0/subscriptions/d4ad7261-832d-46b2-b093-22156001df5b/resourceGroups/aml-quickstarts-144480/providers/Microsoft.MachineLearningServices/workspaces/quick-starts-ws-144480/experimentids/ce43e630-231b-459a-b6bd-f99b34f0bcab/cancel/AutoML_b7740e25-c266-481a-b486-ff34d918d2bf',\n",
       "  'ClientSdkVersion': '1.27.0.post1',\n",
       "  'snapshotId': '00000000-0000-0000-0000-000000000000',\n",
       "  'SetupRunId': 'AutoML_b7740e25-c266-481a-b486-ff34d918d2bf_setup',\n",
       "  'SetupRunContainerId': 'dcid.AutoML_b7740e25-c266-481a-b486-ff34d918d2bf_setup',\n",
       "  'FeaturizationRunJsonPath': 'featurizer_container.json',\n",
       "  'FeaturizationRunId': 'AutoML_b7740e25-c266-481a-b486-ff34d918d2bf_featurize',\n",
       "  'ProblemInfoJsonString': '{\"dataset_num_categorical\": 0, \"is_sparse\": false, \"subsampling\": false, \"dataset_classes\": 2, \"dataset_features\": 12, \"dataset_samples\": 224, \"single_frequency_class_detected\": false}',\n",
       "  'ModelExplainRunId': 'AutoML_b7740e25-c266-481a-b486-ff34d918d2bf_ModelExplain'},\n",
       " 'inputDatasets': [{'dataset': {'id': '8ecd0f9d-ca67-4d27-a7bf-95acbba8346b'}, 'consumptionDetails': {'type': 'RunInput', 'inputName': 'training_data', 'mechanism': 'Direct'}}],\n",
       " 'outputDatasets': [],\n",
       " 'logFiles': {},\n",
       " 'submittedBy': 'ODL_User 144480'}"
      ]
     },
     "execution_count": 41,
     "metadata": {},
     "output_type": "execute_result"
    }
   ],
   "source": [
    "remote_run.wait_for_completion()"
   ]
  },
  {
   "cell_type": "markdown",
   "metadata": {},
   "source": [
    "## Best Model"
   ]
  },
  {
   "cell_type": "code",
   "execution_count": 42,
   "metadata": {
    "gather": {
     "logged": 1620679502820
    },
    "jupyter": {
     "outputs_hidden": false,
     "source_hidden": false
    },
    "nteract": {
     "transient": {
      "deleting": false
     }
    }
   },
   "outputs": [
    {
     "name": "stdout",
     "output_type": "stream",
     "text": [
      "f1_score_macro 0.8803631187767703\n",
      "f1_score_weighted 0.8964915996023645\n",
      "weighted_accuracy 0.9137485302109578\n",
      "average_precision_score_weighted 0.9433829432466446\n",
      "precision_score_micro 0.8974774774774774\n",
      "recall_score_macro 0.8769973544973545\n",
      "recall_score_weighted 0.8974774774774774\n",
      "average_precision_score_micro 0.9407831339029317\n",
      "precision_score_macro 0.8908576416703351\n",
      "AUC_weighted 0.9389927689594356\n",
      "f1_score_micro 0.8974774774774775\n",
      "log_loss 0.3161240594637804\n",
      "average_precision_score_macro 0.9316316915909795\n",
      "norm_macro_recall 0.7539947089947091\n",
      "precision_score_weighted 0.9018098989461217\n",
      "accuracy 0.8974774774774774\n",
      "AUC_micro 0.9431034602169737\n",
      "balanced_accuracy 0.8769973544973545\n",
      "AUC_macro 0.9389927689594356\n",
      "matthews_correlation 0.7673002428942496\n",
      "recall_score_micro 0.8974774774774774\n",
      "confusion_matrix aml://artifactId/ExperimentRun/dcid.AutoML_b7740e25-c266-481a-b486-ff34d918d2bf_19/confusion_matrix\n",
      "accuracy_table aml://artifactId/ExperimentRun/dcid.AutoML_b7740e25-c266-481a-b486-ff34d918d2bf_19/accuracy_table\n"
     ]
    }
   ],
   "source": [
    "#get best model and print all the metrics\n",
    "best_run, fitted_model = remote_run.get_output()\n",
    "\n",
    "best_run_metrics = best_run.get_metrics() \n",
    "for metric_name in best_run_metrics:\n",
    "    metric = best_run_metrics[metric_name]\n",
    "    print(metric_name, metric)\n",
    "    "
   ]
  },
  {
   "cell_type": "code",
   "execution_count": 43,
   "metadata": {
    "gather": {
     "logged": 1620679512623
    }
   },
   "outputs": [
    {
     "data": {
      "text/plain": [
       "Pipeline(memory=None,\n",
       "         steps=[('datatransformer',\n",
       "                 DataTransformer(enable_dnn=None, enable_feature_sweeping=None,\n",
       "                                 feature_sweeping_config=None,\n",
       "                                 feature_sweeping_timeout=None,\n",
       "                                 featurization_config=None, force_text_dnn=None,\n",
       "                                 is_cross_validation=None,\n",
       "                                 is_onnx_compatible=None, logger=None,\n",
       "                                 observer=None, task=None, working_dir=None)),\n",
       "                ('prefittedsoftvotingclassifier',...\n",
       "                                                                                               n_jobs=1,\n",
       "                                                                                               nthread=None,\n",
       "                                                                                               objective='binary:logistic',\n",
       "                                                                                               random_state=0,\n",
       "                                                                                               reg_alpha=0,\n",
       "                                                                                               reg_lambda=1,\n",
       "                                                                                               scale_pos_weight=1,\n",
       "                                                                                               seed=None,\n",
       "                                                                                               silent=None,\n",
       "                                                                                               subsample=1,\n",
       "                                                                                               tree_method='auto',\n",
       "                                                                                               verbose=-10,\n",
       "                                                                                               verbosity=0))],\n",
       "                                                                     verbose=False))],\n",
       "                                               flatten_transform=None,\n",
       "                                               weights=[0.16666666666666666,\n",
       "                                                        0.16666666666666666,\n",
       "                                                        0.16666666666666666,\n",
       "                                                        0.16666666666666666,\n",
       "                                                        0.3333333333333333]))],\n",
       "         verbose=False)"
      ]
     },
     "execution_count": 43,
     "metadata": {},
     "output_type": "execute_result"
    }
   ],
   "source": [
    "# Details of best model as well as the parameters of the best run\n",
    "fitted_model"
   ]
  },
  {
   "cell_type": "code",
   "execution_count": 44,
   "metadata": {
    "gather": {
     "logged": 1620679522905
    }
   },
   "outputs": [
    {
     "data": {
      "text/html": [
       "<table style=\"width:100%\"><tr><th>Experiment</th><th>Id</th><th>Type</th><th>Status</th><th>Details Page</th><th>Docs Page</th></tr><tr><td>heart-failure-automl</td><td>AutoML_b7740e25-c266-481a-b486-ff34d918d2bf_19</td><td>azureml.scriptrun</td><td>Completed</td><td><a href=\"https://ml.azure.com/runs/AutoML_b7740e25-c266-481a-b486-ff34d918d2bf_19?wsid=/subscriptions/d4ad7261-832d-46b2-b093-22156001df5b/resourcegroups/aml-quickstarts-144480/workspaces/quick-starts-ws-144480&amp;tid=660b3398-b80e-49d2-bc5b-ac1dc93b5254\" target=\"_blank\" rel=\"noopener\">Link to Azure Machine Learning studio</a></td><td><a href=\"https://docs.microsoft.com/en-us/python/api/azureml-core/azureml.core.run.Run?view=azure-ml-py\" target=\"_blank\" rel=\"noopener\">Link to Documentation</a></td></tr></table>"
      ],
      "text/plain": [
       "Run(Experiment: heart-failure-automl,\n",
       "Id: AutoML_b7740e25-c266-481a-b486-ff34d918d2bf_19,\n",
       "Type: azureml.scriptrun,\n",
       "Status: Completed)"
      ]
     },
     "execution_count": 44,
     "metadata": {},
     "output_type": "execute_result"
    }
   ],
   "source": [
    "best_run"
   ]
  },
  {
   "cell_type": "code",
   "execution_count": 45,
   "metadata": {
    "gather": {
     "logged": 1620679546322
    },
    "jupyter": {
     "outputs_hidden": false,
     "source_hidden": false
    },
    "nteract": {
     "transient": {
      "deleting": false
     }
    }
   },
   "outputs": [
    {
     "data": {
      "text/plain": [
       "['outputs/automl_model.pkl']"
      ]
     },
     "execution_count": 45,
     "metadata": {},
     "output_type": "execute_result"
    }
   ],
   "source": [
    "#Save the best model\n",
    "best_run.register_model(model_name = \"automl_best_model.pkl\", model_path = \"./outputs/\")\n",
    "joblib.dump(fitted_model, filename= \"outputs/automl_model.pkl\")"
   ]
  },
  {
   "cell_type": "markdown",
   "metadata": {},
   "source": [
    "## Model Deployment"
   ]
  },
  {
   "cell_type": "code",
   "execution_count": 46,
   "metadata": {
    "gather": {
     "logged": 1620679553750
    }
   },
   "outputs": [],
   "source": [
    "# Download score.py and env file\n",
    "best_run.download_file(\"outputs/scoring_file_v_1_0_0.py\", \"inference/score.py\")\n",
    "best_run.download_file(constants.CONDA_ENV_FILE_PATH,\"automl_env.yml\")"
   ]
  },
  {
   "cell_type": "code",
   "execution_count": 47,
   "metadata": {
    "gather": {
     "logged": 1620679558541
    }
   },
   "outputs": [
    {
     "name": "stdout",
     "output_type": "stream",
     "text": [
      "AutoMLb7740e25c19\n"
     ]
    }
   ],
   "source": [
    "# Register the model\n",
    "model_name = best_run.properties[\"model_name\"]\n",
    "description = \"An AutoML model trained on heart failure data to predict whether a death will occur or not. This is only a test!\"\n",
    "tags = None\n",
    "model = remote_run.register_model(model_name = model_name, description = description, tags = tags)\n",
    "\n",
    "print(remote_run.model_id)"
   ]
  },
  {
   "cell_type": "code",
   "execution_count": 48,
   "metadata": {
    "gather": {
     "logged": 1620679856923
    }
   },
   "outputs": [
    {
     "name": "stdout",
     "output_type": "stream",
     "text": [
      "automl-heart-failure\n",
      "Tips: You can try get_logs(): https://aka.ms/debugimage#dockerlog or local deployment: https://aka.ms/debugimage#debug-locally to debug if deployment takes longer than 10 minutes.\n",
      "Running\n",
      "2021-05-10 20:46:23+00:00 Creating Container Registry if not exists..\n",
      "2021-05-10 20:46:59+00:00 Use the existing image.\n",
      "2021-05-10 20:46:59+00:00 Generating deployment configuration..\n",
      "2021-05-10 20:47:00+00:00 Submitting deployment to compute..\n",
      "2021-05-10 20:47:24+00:00 Checking the status of deployment automl-heart-failure..\n",
      "2021-05-10 20:50:50+00:00 Checking the status of inference endpoint automl-heart-failure.\n",
      "Succeeded\n",
      "ACI service creation operation finished, operation \"Succeeded\"\n",
      "Healthy\n"
     ]
    }
   ],
   "source": [
    "# Create inference config\n",
    "script_file_name= \"inference/score.py\"\n",
    "inference_config = InferenceConfig(entry_script=script_file_name)\n",
    "\n",
    "aciconfig = AciWebservice.deploy_configuration(cpu_cores = 2, \n",
    "                                               memory_gb = 4, \n",
    "                                               tags = {\"area\": \"hfData\", \"type\": \"automl_classification\"}, \n",
    "                                               description = \"Heart Failure Prediction (Experiment!)\")\n",
    "\n",
    "aci_service_name = \"automl-heart-failure-model\"\n",
    "print(aci_service_name)\n",
    "aci_service = Model.deploy(ws, aci_service_name, [model], inference_config, aciconfig)\n",
    "aci_service.wait_for_deployment(True)\n",
    "print(aci_service.state)"
   ]
  },
  {
   "cell_type": "code",
   "execution_count": 49,
   "metadata": {
    "gather": {
     "logged": 1620679865507
    }
   },
   "outputs": [],
   "source": [
    "# Enable Application Insights\n",
    "aci_service.update(enable_app_insights=True)"
   ]
  },
  {
   "cell_type": "code",
   "execution_count": 60,
   "metadata": {
    "gather": {
     "logged": 1620680069453
    }
   },
   "outputs": [
    {
     "name": "stdout",
     "output_type": "stream",
     "text": [
      "State Healthy\n",
      "Swagger URI http://0e6c64ff-efc5-4ae7-a193-7e7234d6027e.southcentralus.azurecontainer.io/swagger.json\n",
      "Scoring URI http://0e6c64ff-efc5-4ae7-a193-7e7234d6027e.southcentralus.azurecontainer.io/score\n"
     ]
    }
   ],
   "source": [
    "# State / Swagger/ Scoring information\n",
    "print(\"State \"+ aci_service.state)\n",
    "print(\"Swagger URI \" + aci_service.swagger_uri)\n",
    "print(\"Scoring URI \" + aci_service.scoring_uri)"
   ]
  },
  {
   "cell_type": "markdown",
   "metadata": {
    "collapsed": true,
    "gather": {
     "logged": 1598431657736
    },
    "jupyter": {
     "outputs_hidden": false,
     "source_hidden": false
    },
    "nteract": {
     "transient": {
      "deleting": false
     }
    }
   },
   "source": [
    "In the cell below, a request is sent to the web service deployed to test it."
   ]
  },
  {
   "cell_type": "code",
   "execution_count": 61,
   "metadata": {
    "gather": {
     "logged": 1620680076062
    },
    "jupyter": {
     "outputs_hidden": false,
     "source_hidden": false
    },
    "nteract": {
     "transient": {
      "deleting": false
     }
    }
   },
   "outputs": [
    {
     "name": "stdout",
     "output_type": "stream",
     "text": [
      "{\"result\": [1, 1]}\n"
     ]
    }
   ],
   "source": [
    "import requests\n",
    "import json\n",
    "\n",
    "# Short waiting time, it's stabler in process with this\n",
    "time.sleep(10)\n",
    "\n",
    "# URL for the web service, should be similar to:\n",
    "print (\"Scoring URL: \"+aci_service.scoring_uri)\n",
    "scoring_uri = aci_service.scoring_uri\n",
    "\n",
    "\n",
    "# Two data sets are evaluated, we then receive two results back for this\n",
    "data = {\"data\":\n",
    "        [\n",
    "          {\n",
    "            \"age\": 70.0,\n",
    "            \"anaemia\": 1,\n",
    "            \"creatinine_phosphokinase\": 4020,\n",
    "            \"diabetes\": 1,\n",
    "            \"ejection_fraction\": 32,\n",
    "            \"high_blood_pressure\": 1,\n",
    "            \"platelets\": 234558.23,\n",
    "            \"serum_creatinine\": 1.4,\n",
    "            \"serum_sodium\": 125,\n",
    "            \"sex\": 1,\n",
    "            \"smoking\": 0,\n",
    "            \"time\": 12\n",
    "          },\n",
    "          {\n",
    "            \"age\": 65.0,\n",
    "            \"anaemia\": 0,\n",
    "            \"creatinine_phosphokinase\": 4221,\n",
    "            \"diabetes\": 0,\n",
    "            \"ejection_fraction\": 22,\n",
    "            \"high_blood_pressure\": 0,\n",
    "            \"platelets\": 404567.23,\n",
    "            \"serum_creatinine\": 1.1,\n",
    "            \"serum_sodium\": 115,\n",
    "            \"sex\": 0,\n",
    "            \"smoking\": 1,\n",
    "            \"time\": 7\n",
    "          },\n",
    "      ]\n",
    "    }\n",
    "# Convert to JSON string\n",
    "input_data = json.dumps(data)\n",
    "with open(\"data.json\", \"w\") as _f:\n",
    "    _f.write(input_data)\n",
    "\n",
    "# Set the content type\n",
    "headers = {\"Content-Type\": \"application/json\"}\n",
    "# If authentication is enabled, set the authorization header\n",
    "\n",
    "# Make the request and display the response\n",
    "resp = requests.post(scoring_uri, input_data, headers=headers)\n",
    "print(resp.json())"
   ]
  },
  {
   "cell_type": "code",
   "execution_count": 62,
   "metadata": {
    "gather": {
     "logged": 1620680080836
    },
    "jupyter": {
     "outputs_hidden": false,
     "source_hidden": false
    },
    "nteract": {
     "transient": {
      "deleting": false
     }
    }
   },
   "outputs": [
    {
     "data": {
      "text/plain": [
       "'2021-05-10T20:50:43,963342800+00:00 - rsyslog/run \\n2021-05-10T20:50:43,965931500+00:00 - gunicorn/run \\n2021-05-10T20:50:43,979590700+00:00 - nginx/run \\n2021-05-10T20:50:43,993320900+00:00 - iot-server/run \\n/usr/sbin/nginx: /azureml-envs/azureml_98cae94c606e3ceb655a787040a8a93c/lib/libcrypto.so.1.0.0: no version information available (required by /usr/sbin/nginx)\\n/usr/sbin/nginx: /azureml-envs/azureml_98cae94c606e3ceb655a787040a8a93c/lib/libcrypto.so.1.0.0: no version information available (required by /usr/sbin/nginx)\\n/usr/sbin/nginx: /azureml-envs/azureml_98cae94c606e3ceb655a787040a8a93c/lib/libssl.so.1.0.0: no version information available (required by /usr/sbin/nginx)\\n/usr/sbin/nginx: /azureml-envs/azureml_98cae94c606e3ceb655a787040a8a93c/lib/libssl.so.1.0.0: no version information available (required by /usr/sbin/nginx)\\n/usr/sbin/nginx: /azureml-envs/azureml_98cae94c606e3ceb655a787040a8a93c/lib/libssl.so.1.0.0: no version information available (required by /usr/sbin/nginx)\\nrsyslogd: /azureml-envs/azureml_98cae94c606e3ceb655a787040a8a93c/lib/libuuid.so.1: no version information available (required by rsyslogd)\\nEdgeHubConnectionString and IOTEDGE_IOTHUBHOSTNAME are not set. Exiting...\\n2021-05-10T20:50:44,318041400+00:00 - iot-server/finish 1 0\\n2021-05-10T20:50:44,319843300+00:00 - Exit code 1 is normal. Not restarting iot-server.\\nStarting gunicorn 19.9.0\\nListening at: http://127.0.0.1:31311 (70)\\nUsing worker: sync\\nworker timeout is set to 300\\nBooting worker with pid: 96\\nSPARK_HOME not set. Skipping PySpark Initialization.\\nGenerating new fontManager, this may take some time...\\nInitializing logger\\n2021-05-10 20:50:46,756 | root | INFO | Starting up app insights client\\n2021-05-10 20:50:46,760 | root | INFO | Starting up request id generator\\n2021-05-10 20:50:46,760 | root | INFO | Starting up app insight hooks\\n2021-05-10 20:50:46,761 | root | INFO | Invoking user\\'s init function\\n2021-05-10 20:50:51,148 | azureml.core | WARNING | Failure while loading azureml_run_type_providers. Failed to load entrypoint automl = azureml.train.automl.run:AutoMLRun._from_run_dto with exception cannot import name \\'RunType\\'.\\nFailure while loading azureml_run_type_providers. Failed to load entrypoint automl = azureml.train.automl.run:AutoMLRun._from_run_dto with exception cannot import name \\'RunType\\'.\\n2021-05-10 20:50:51,715 | root | INFO | Users\\'s init has completed successfully\\n2021-05-10 20:50:51,718 | root | INFO | Skipping middleware: dbg_model_info as it\\'s not enabled.\\n2021-05-10 20:50:51,718 | root | INFO | Skipping middleware: dbg_resource_usage as it\\'s not enabled.\\n2021-05-10 20:50:51,720 | root | INFO | Scoring timeout is found from os.environ: 60000 ms\\n2021-05-10 20:50:51,748 | root | INFO | 200\\n127.0.0.1 - - [10/May/2021:20:50:51 +0000] \"GET /swagger.json HTTP/1.0\" 200 3043 \"-\" \"Go-http-client/1.1\"\\n2021-05-10 20:50:56,572 | root | INFO | 200\\n127.0.0.1 - - [10/May/2021:20:50:56 +0000] \"GET /swagger.json HTTP/1.0\" 200 3043 \"-\" \"Go-http-client/1.1\"\\n2021-05-10 20:51:05,183 | root | INFO | 200\\n127.0.0.1 - - [10/May/2021:20:51:05 +0000] \"GET /swagger.json HTTP/1.0\" 200 3043 \"-\" \"Go-http-client/1.1\"\\n2021-05-10 20:51:11,737 | root | INFO | Validation Request Content-Type\\n2021-05-10 20:51:11,737 | root | INFO | Scoring Timer is set to 60.0 seconds\\n2021-05-10 20:51:11,925 | root | INFO | 200\\n127.0.0.1 - - [10/May/2021:20:51:11 +0000] \"POST /score HTTP/1.0\" 200 22 \"-\" \"python-requests/2.25.1\"\\n2021-05-10 20:54:35,767 | root | INFO | Validation Request Content-Type\\n2021-05-10 20:54:35,768 | root | INFO | Scoring Timer is set to 60.0 seconds\\n2021-05-10 20:54:35,925 | root | INFO | 200\\n127.0.0.1 - - [10/May/2021:20:54:35 +0000] \"POST /score HTTP/1.0\" 200 22 \"-\" \"python-requests/2.25.1\"\\n'"
      ]
     },
     "execution_count": 62,
     "metadata": {},
     "output_type": "execute_result"
    }
   ],
   "source": [
    "#Print the logs of the deployed service\n",
    "aci_service.get_logs()"
   ]
  },
  {
   "cell_type": "code",
   "execution_count": 64,
   "metadata": {},
   "outputs": [
    {
     "ename": "WebserviceException",
     "evalue": "WebserviceException:\n\tMessage: There is a deployment operation in flight for the Service: automl-heart-failure\n\tInnerException None\n\tErrorResponse \n{\n    \"error\": {\n        \"message\": \"There is a deployment operation in flight for the Service: automl-heart-failure\"\n    }\n}",
     "output_type": "error",
     "traceback": [
      "\u001b[0;31m---------------------------------------------------------------------------\u001b[0m",
      "\u001b[0;31mWebserviceException\u001b[0m                       Traceback (most recent call last)",
      "\u001b[0;32m<ipython-input-64-289ef27d12e1>\u001b[0m in \u001b[0;36m<module>\u001b[0;34m\u001b[0m\n\u001b[1;32m      1\u001b[0m \u001b[0;31m#Delete the deployed service\u001b[0m\u001b[0;34m\u001b[0m\u001b[0;34m\u001b[0m\u001b[0;34m\u001b[0m\u001b[0m\n\u001b[1;32m      2\u001b[0m \u001b[0;34m\u001b[0m\u001b[0m\n\u001b[0;32m----> 3\u001b[0;31m \u001b[0maci_service\u001b[0m\u001b[0;34m.\u001b[0m\u001b[0mdelete\u001b[0m\u001b[0;34m(\u001b[0m\u001b[0;34m)\u001b[0m\u001b[0;34m\u001b[0m\u001b[0;34m\u001b[0m\u001b[0m\n\u001b[0m",
      "\u001b[0;32m/anaconda/envs/azureml_py36/lib/python3.6/site-packages/azureml/core/webservice/webservice.py\u001b[0m in \u001b[0;36mdelete\u001b[0;34m(self)\u001b[0m\n\u001b[1;32m   1417\u001b[0m         \"\"\"\n\u001b[1;32m   1418\u001b[0m         Webservice._check_for_webservice(self.workspace, self.name, self.compute_type,\n\u001b[0;32m-> 1419\u001b[0;31m                                          None, SERVICE_REQUEST_OPERATION_DELETE)\n\u001b[0m\u001b[1;32m   1420\u001b[0m \u001b[0;34m\u001b[0m\u001b[0m\n\u001b[1;32m   1421\u001b[0m         \u001b[0mheaders\u001b[0m \u001b[0;34m=\u001b[0m \u001b[0mself\u001b[0m\u001b[0;34m.\u001b[0m\u001b[0m_auth\u001b[0m\u001b[0;34m.\u001b[0m\u001b[0mget_authentication_header\u001b[0m\u001b[0;34m(\u001b[0m\u001b[0;34m)\u001b[0m\u001b[0;34m\u001b[0m\u001b[0;34m\u001b[0m\u001b[0m\n",
      "\u001b[0;32m/anaconda/envs/azureml_py36/lib/python3.6/site-packages/azureml/core/webservice/webservice.py\u001b[0m in \u001b[0;36m_check_for_webservice\u001b[0;34m(workspace, name, compute_type, payload, action, request_func, check_func)\u001b[0m\n\u001b[1;32m    743\u001b[0m                 \u001b[0;32mreturn\u001b[0m \u001b[0mWebservice\u001b[0m\u001b[0;34m.\u001b[0m\u001b[0m_check_validate_error\u001b[0m\u001b[0;34m(\u001b[0m\u001b[0mcontent\u001b[0m\u001b[0;34m)\u001b[0m\u001b[0;34m\u001b[0m\u001b[0;34m\u001b[0m\u001b[0m\n\u001b[1;32m    744\u001b[0m \u001b[0;34m\u001b[0m\u001b[0m\n\u001b[0;32m--> 745\u001b[0;31m         \u001b[0mWebservice\u001b[0m\u001b[0;34m.\u001b[0m\u001b[0m_run_validate_framework\u001b[0m\u001b[0;34m(\u001b[0m\u001b[0mrequest_func\u001b[0m\u001b[0;34m,\u001b[0m \u001b[0mcheck_func\u001b[0m\u001b[0;34m)\u001b[0m\u001b[0;34m\u001b[0m\u001b[0;34m\u001b[0m\u001b[0m\n\u001b[0m\u001b[1;32m    746\u001b[0m \u001b[0;34m\u001b[0m\u001b[0m\n\u001b[1;32m    747\u001b[0m     \u001b[0;34m@\u001b[0m\u001b[0mstaticmethod\u001b[0m\u001b[0;34m\u001b[0m\u001b[0;34m\u001b[0m\u001b[0m\n",
      "\u001b[0;32m/anaconda/envs/azureml_py36/lib/python3.6/site-packages/azureml/core/webservice/webservice.py\u001b[0m in \u001b[0;36m_run_validate_framework\u001b[0;34m(request_func, check_func)\u001b[0m\n\u001b[1;32m    637\u001b[0m             \u001b[0;32mreturn\u001b[0m\u001b[0;34m\u001b[0m\u001b[0;34m\u001b[0m\u001b[0m\n\u001b[1;32m    638\u001b[0m \u001b[0;34m\u001b[0m\u001b[0m\n\u001b[0;32m--> 639\u001b[0;31m         \u001b[0;32mraise\u001b[0m \u001b[0mWebserviceException\u001b[0m\u001b[0;34m(\u001b[0m\u001b[0merror\u001b[0m\u001b[0;34m)\u001b[0m\u001b[0;34m\u001b[0m\u001b[0;34m\u001b[0m\u001b[0m\n\u001b[0m\u001b[1;32m    640\u001b[0m \u001b[0;34m\u001b[0m\u001b[0m\n\u001b[1;32m    641\u001b[0m     \u001b[0;34m@\u001b[0m\u001b[0mstaticmethod\u001b[0m\u001b[0;34m\u001b[0m\u001b[0;34m\u001b[0m\u001b[0m\n",
      "\u001b[0;31mWebserviceException\u001b[0m: WebserviceException:\n\tMessage: There is a deployment operation in flight for the Service: automl-heart-failure\n\tInnerException None\n\tErrorResponse \n{\n    \"error\": {\n        \"message\": \"There is a deployment operation in flight for the Service: automl-heart-failure\"\n    }\n}"
     ]
    }
   ],
   "source": [
    "# Save file in ONNX\n",
    "from azureml.automl.runtime.onnx_convert import OnnxConverter\n",
    "automl_best_run_onnx, automl_fitted_model_onnx = remote_run.get_output(return_onnx_model=True)\n",
    "OnnxConverter.save_onnx_model(automl_fitted_model_onnx, './AutoML.onnx' )\n",
    "\n",
    "\n",
    "#Delete the deployed service (wait bevor this do 5 minutes)\n",
    "time.sleep(300)\n",
    "aci_service.delete()\n",
    "\n",
    "print (\"Done\")"
   ]
  },
  {
   "cell_type": "code",
   "execution_count": null,
   "metadata": {},
   "outputs": [],
   "source": []
  }
 ],
 "metadata": {
  "kernel_info": {
   "name": "python3"
  },
  "kernelspec": {
   "display_name": "Python 3",
   "language": "python",
   "name": "python3"
  },
  "language_info": {
   "codemirror_mode": {
    "name": "ipython",
    "version": 3
   },
   "file_extension": ".py",
   "mimetype": "text/x-python",
   "name": "python",
   "nbconvert_exporter": "python",
   "pygments_lexer": "ipython3",
   "version": "3.8.3"
  },
  "nteract": {
   "version": "nteract-front-end@1.0.0"
  }
 },
 "nbformat": 4,
 "nbformat_minor": 2
}

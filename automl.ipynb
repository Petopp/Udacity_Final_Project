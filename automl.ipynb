{
  "cells": [
    {
      "cell_type": "markdown",
      "source": [
        "# Automated ML with MS Azure"
      ],
      "metadata": {}
    },
    {
      "cell_type": "code",
      "source": [
        "from azureml.core import Workspace, Experiment\n",
        "from azureml.core.compute import ComputeTarget, AmlCompute\n",
        "from azureml.core.compute_target import ComputeTargetException\n",
        "from azureml.widgets import RunDetails\n",
        "from azureml.data.dataset_factory import TabularDatasetFactory\n",
        "from sklearn.model_selection import train_test_split\n",
        "import pandas as pd\n",
        "from azureml.core.dataset import Dataset\n",
        "from azureml.train.automl.utilities import get_primary_metrics\n",
        "from azureml.train.automl import AutoMLConfig\n",
        "from azureml.core.model import InferenceConfig\n",
        "from azureml.core.webservice import AciWebservice\n",
        "from azureml.core.webservice import Webservice\n",
        "from azureml.core.model import Model\n",
        "from azureml.core.environment import Environment\n",
        "from azureml.automl.core.shared import constants\n",
        "import joblib\n",
        "import time\n"
      ],
      "outputs": [],
      "execution_count": 1,
      "metadata": {
        "gather": {
          "logged": 1620806698555
        },
        "jupyter": {
          "outputs_hidden": false,
          "source_hidden": false
        },
        "nteract": {
          "transient": {
            "deleting": false
          }
        }
      }
    },
    {
      "cell_type": "markdown",
      "source": [
        "## Dataset\n",
        "\n",
        "### Source of the data set \n",
        "For this project we are using files from [Kaggle](https://www.kaggle.com/andrewmvd/heart-failure-clinical-data). In this dataset are data on cardiovascular diseases (CVDs). Which are the number one cause of death worldwide, claiming the lives of an estimated 17 million people each year. This represents approximately 31% of all deaths worldwide.\n",
        "Heart failure is one of the common events caused by CVDs. This dataset contains 12 characteristics that can be used to predict mortality from heart failure.\n",
        "In order for people with cardiovascular disease or at high cardiovascular risk (due to the presence of one or more risk factors such as hypertension, diabetes, hyperlipidaemia or established disease) to receive early detection and treatment, these datasets attempt to improve prediction.\n",
        "\n",
        "### Content of the data set\n",
        "The dataset contains 12 features that can be used to predict mortality from heart failure:\n",
        "- age: Age of the patient\n",
        "- amaemia: Decrease of red blood cells or hemoglobin\n",
        "- creatinine_phosphokinase: Level of the CPK enzyme in the blood (mcg/L)\n",
        "- diabetes: If the patient has diabetes\n",
        "- ejection_fraction: Percentage of blood leaving the heart at each contraction\n",
        "- high_blood_pressure: If the patient has hypertension\n",
        "- platelets: Platelets in the blood (kiloplatelets/mL)\n",
        "- serum_creatinine: Level of serum creatinine in the blood (mg/dL)\n",
        "- serum_sodium: Level of serum sodium in the blood (mEq/L)\n",
        "- sex: Woman or man (Gender at birth)\n",
        "- smoking: patient smokes or not\n",
        "- time: Follow-up period (days)\n",
        "\n",
        "### Target\n",
        "Our goal is to develop a machine learning algorithm that can detect whether a person is likely to die from heart failure. This will help in diagnosis and early prevention. For this, the above mentioned 12 features in the dataset are used to develop a model for the detection.\n",
        "\n",
        "### Attention!\n",
        "This is an experiment that was developed in the course of a test for the Udacity learning platform. Do not use this model in a medical environment or for acute indications. Always consult your doctor for medical questions or the medical emergency service in acute cases!\n"
      ],
      "metadata": {}
    },
    {
      "cell_type": "code",
      "source": [
        "# Creating a new experiment with AutoML\n",
        "\n",
        "ws = Workspace.from_config()\n",
        "string_name_experiment = \"automl_experiment_heart_failure\"\n",
        "\n",
        "experiment=Experiment(ws, string_name_experiment)\n",
        "\n",
        "print(\"Workspace name: \" + ws.name, \n",
        "      \"Azure region: \" + ws.location, \n",
        "      \"Subscription ID: \"  + ws.subscription_id, \n",
        "      \"Resource group: \" + ws.resource_group, sep = \"\\n\")\n",
        "\n",
        "run = experiment.start_logging()"
      ],
      "outputs": [
        {
          "output_type": "stream",
          "name": "stdout",
          "text": [
            "Workspace name: quick-starts-ws-144621\n",
            "Azure region: southcentralus\n",
            "Subscription ID: 610d6e37-4747-4a20-80eb-3aad70a55f43\n",
            "Resource group: aml-quickstarts-144621\n"
          ]
        }
      ],
      "execution_count": 2,
      "metadata": {
        "gather": {
          "logged": 1620806701343
        },
        "jupyter": {
          "outputs_hidden": false,
          "source_hidden": false
        },
        "nteract": {
          "transient": {
            "deleting": false
          }
        }
      }
    },
    {
      "cell_type": "code",
      "source": [
        "# Checking and printing existing compute targets\n",
        "compute_targets= ws.compute_targets\n",
        "for name, ct in compute_targets.items():\n",
        "    print(\"Name: \"+ name) \n",
        "    print(\"Type: \" +ct.type)\n",
        "    print(\"State: \"+ ct.provisioning_state)"
      ],
      "outputs": [
        {
          "output_type": "stream",
          "name": "stdout",
          "text": [
            "Name: notebook144621\n",
            "Type: ComputeInstance\n",
            "State: Succeeded\n"
          ]
        }
      ],
      "execution_count": 3,
      "metadata": {
        "gather": {
          "logged": 1620806701604
        }
      }
    },
    {
      "cell_type": "code",
      "source": [
        "# Dfine compute claster name\n",
        "compute_cluster_name= \"computcluster\"\n",
        "\n",
        "#Check if compute cluster already exists\n",
        "\n",
        "try:\n",
        "    # Using exist cluster\n",
        "    compute_cluster=ComputeTarget(workspace=ws, name=compute_cluster_name)\n",
        "    print(\"Found existing cluster, use it\")\n",
        "except ComputeTargetException:\n",
        "    #Create compute cluster\n",
        "    print(\"Creating new cluster\")\n",
        "    compute_config = AmlCompute.provisioning_configuration(vm_size='STANDARD_DS3_v2',max_nodes=10)\n",
        "    compute_cluster = ComputeTarget.create(ws, compute_cluster_name, compute_config)\n",
        "\n",
        "# Wait for loading\n",
        "compute_cluster.wait_for_completion(show_output=True)"
      ],
      "outputs": [
        {
          "output_type": "stream",
          "name": "stdout",
          "text": [
            "Creating new cluster\n",
            "Creating...\n",
            "SucceededProvisioning operation finished, operation \"Succeeded\"\n",
            "Succeeded\n",
            "AmlCompute wait for completion finished\n",
            "\n",
            "Minimum number of nodes requested have been provisioned\n"
          ]
        }
      ],
      "execution_count": 4,
      "metadata": {
        "gather": {
          "logged": 1620806726435
        }
      }
    },
    {
      "cell_type": "code",
      "source": [
        "# Get data from CSV file\n",
        "data=pd.read_csv (\"heart_failure_clinical_records_dataset.csv\")\n",
        "data.head()"
      ],
      "outputs": [
        {
          "output_type": "execute_result",
          "execution_count": 5,
          "data": {
            "text/plain": "    age  anaemia  creatinine_phosphokinase  diabetes  ejection_fraction  \\\n0  75.0        0                       582         0                 20   \n1  55.0        0                      7861         0                 38   \n2  65.0        0                       146         0                 20   \n3  50.0        1                       111         0                 20   \n4  65.0        1                       160         1                 20   \n\n   high_blood_pressure  platelets  serum_creatinine  serum_sodium  sex  \\\n0                    1  265000.00               1.9           130    1   \n1                    0  263358.03               1.1           136    1   \n2                    0  162000.00               1.3           129    1   \n3                    0  210000.00               1.9           137    1   \n4                    0  327000.00               2.7           116    0   \n\n   smoking  time  DEATH_EVENT  \n0        0     4            1  \n1        0     6            1  \n2        1     7            1  \n3        0     7            1  \n4        0     8            1  ",
            "text/html": "<div>\n<style scoped>\n    .dataframe tbody tr th:only-of-type {\n        vertical-align: middle;\n    }\n\n    .dataframe tbody tr th {\n        vertical-align: top;\n    }\n\n    .dataframe thead th {\n        text-align: right;\n    }\n</style>\n<table border=\"1\" class=\"dataframe\">\n  <thead>\n    <tr style=\"text-align: right;\">\n      <th></th>\n      <th>age</th>\n      <th>anaemia</th>\n      <th>creatinine_phosphokinase</th>\n      <th>diabetes</th>\n      <th>ejection_fraction</th>\n      <th>high_blood_pressure</th>\n      <th>platelets</th>\n      <th>serum_creatinine</th>\n      <th>serum_sodium</th>\n      <th>sex</th>\n      <th>smoking</th>\n      <th>time</th>\n      <th>DEATH_EVENT</th>\n    </tr>\n  </thead>\n  <tbody>\n    <tr>\n      <th>0</th>\n      <td>75.0</td>\n      <td>0</td>\n      <td>582</td>\n      <td>0</td>\n      <td>20</td>\n      <td>1</td>\n      <td>265000.00</td>\n      <td>1.9</td>\n      <td>130</td>\n      <td>1</td>\n      <td>0</td>\n      <td>4</td>\n      <td>1</td>\n    </tr>\n    <tr>\n      <th>1</th>\n      <td>55.0</td>\n      <td>0</td>\n      <td>7861</td>\n      <td>0</td>\n      <td>38</td>\n      <td>0</td>\n      <td>263358.03</td>\n      <td>1.1</td>\n      <td>136</td>\n      <td>1</td>\n      <td>0</td>\n      <td>6</td>\n      <td>1</td>\n    </tr>\n    <tr>\n      <th>2</th>\n      <td>65.0</td>\n      <td>0</td>\n      <td>146</td>\n      <td>0</td>\n      <td>20</td>\n      <td>0</td>\n      <td>162000.00</td>\n      <td>1.3</td>\n      <td>129</td>\n      <td>1</td>\n      <td>1</td>\n      <td>7</td>\n      <td>1</td>\n    </tr>\n    <tr>\n      <th>3</th>\n      <td>50.0</td>\n      <td>1</td>\n      <td>111</td>\n      <td>0</td>\n      <td>20</td>\n      <td>0</td>\n      <td>210000.00</td>\n      <td>1.9</td>\n      <td>137</td>\n      <td>1</td>\n      <td>0</td>\n      <td>7</td>\n      <td>1</td>\n    </tr>\n    <tr>\n      <th>4</th>\n      <td>65.0</td>\n      <td>1</td>\n      <td>160</td>\n      <td>1</td>\n      <td>20</td>\n      <td>0</td>\n      <td>327000.00</td>\n      <td>2.7</td>\n      <td>116</td>\n      <td>0</td>\n      <td>0</td>\n      <td>8</td>\n      <td>1</td>\n    </tr>\n  </tbody>\n</table>\n</div>"
          },
          "metadata": {}
        }
      ],
      "execution_count": 5,
      "metadata": {
        "gather": {
          "logged": 1620806726706
        }
      }
    },
    {
      "cell_type": "code",
      "source": [
        "# split into train and test datasets\n",
        "train_df,test_df=train_test_split(data,test_size=0.25,shuffle=True)\n",
        "\n",
        "\n",
        "train_df"
      ],
      "outputs": [
        {
          "output_type": "execute_result",
          "execution_count": 6,
          "data": {
            "text/plain": "      age  anaemia  creatinine_phosphokinase  diabetes  ejection_fraction  \\\n153  50.0        0                      1846         1                 35   \n73   65.0        0                       224         1                 50   \n40   70.0        0                       582         0                 20   \n282  42.0        0                        64         0                 30   \n277  70.0        0                       582         1                 38   \n..    ...      ...                       ...       ...                ...   \n228  65.0        0                        56         0                 25   \n166  53.0        0                       196         0                 60   \n47   60.0        0                       582         1                 38   \n170  51.0        1                       582         1                 35   \n69   65.0        0                       113         1                 25   \n\n     high_blood_pressure  platelets  serum_creatinine  serum_sodium  sex  \\\n153                    0  263358.03              1.18           137    1   \n73                     0  149000.00              1.30           137    1   \n40                     1  263358.03              1.83           134    1   \n282                    0  215000.00              3.80           128    1   \n277                    0   25100.00              1.10           140    1   \n..                   ...        ...               ...           ...  ...   \n228                    0  237000.00              5.00           130    0   \n166                    0  220000.00              0.70           133    1   \n47                     1  451000.00              0.60           138    1   \n170                    0  263358.03              1.50           136    1   \n69                     0  497000.00              1.83           135    1   \n\n     smoking  time  DEATH_EVENT  \n153        1   119            0  \n73         1    72            0  \n40         1    31            1  \n282        1   250            0  \n277        0   246            0  \n..       ...   ...          ...  \n228        0   207            0  \n166        1   134            0  \n47         1    40            1  \n170        1   145            0  \n69         0    67            1  \n\n[224 rows x 13 columns]",
            "text/html": "<div>\n<style scoped>\n    .dataframe tbody tr th:only-of-type {\n        vertical-align: middle;\n    }\n\n    .dataframe tbody tr th {\n        vertical-align: top;\n    }\n\n    .dataframe thead th {\n        text-align: right;\n    }\n</style>\n<table border=\"1\" class=\"dataframe\">\n  <thead>\n    <tr style=\"text-align: right;\">\n      <th></th>\n      <th>age</th>\n      <th>anaemia</th>\n      <th>creatinine_phosphokinase</th>\n      <th>diabetes</th>\n      <th>ejection_fraction</th>\n      <th>high_blood_pressure</th>\n      <th>platelets</th>\n      <th>serum_creatinine</th>\n      <th>serum_sodium</th>\n      <th>sex</th>\n      <th>smoking</th>\n      <th>time</th>\n      <th>DEATH_EVENT</th>\n    </tr>\n  </thead>\n  <tbody>\n    <tr>\n      <th>153</th>\n      <td>50.0</td>\n      <td>0</td>\n      <td>1846</td>\n      <td>1</td>\n      <td>35</td>\n      <td>0</td>\n      <td>263358.03</td>\n      <td>1.18</td>\n      <td>137</td>\n      <td>1</td>\n      <td>1</td>\n      <td>119</td>\n      <td>0</td>\n    </tr>\n    <tr>\n      <th>73</th>\n      <td>65.0</td>\n      <td>0</td>\n      <td>224</td>\n      <td>1</td>\n      <td>50</td>\n      <td>0</td>\n      <td>149000.00</td>\n      <td>1.30</td>\n      <td>137</td>\n      <td>1</td>\n      <td>1</td>\n      <td>72</td>\n      <td>0</td>\n    </tr>\n    <tr>\n      <th>40</th>\n      <td>70.0</td>\n      <td>0</td>\n      <td>582</td>\n      <td>0</td>\n      <td>20</td>\n      <td>1</td>\n      <td>263358.03</td>\n      <td>1.83</td>\n      <td>134</td>\n      <td>1</td>\n      <td>1</td>\n      <td>31</td>\n      <td>1</td>\n    </tr>\n    <tr>\n      <th>282</th>\n      <td>42.0</td>\n      <td>0</td>\n      <td>64</td>\n      <td>0</td>\n      <td>30</td>\n      <td>0</td>\n      <td>215000.00</td>\n      <td>3.80</td>\n      <td>128</td>\n      <td>1</td>\n      <td>1</td>\n      <td>250</td>\n      <td>0</td>\n    </tr>\n    <tr>\n      <th>277</th>\n      <td>70.0</td>\n      <td>0</td>\n      <td>582</td>\n      <td>1</td>\n      <td>38</td>\n      <td>0</td>\n      <td>25100.00</td>\n      <td>1.10</td>\n      <td>140</td>\n      <td>1</td>\n      <td>0</td>\n      <td>246</td>\n      <td>0</td>\n    </tr>\n    <tr>\n      <th>...</th>\n      <td>...</td>\n      <td>...</td>\n      <td>...</td>\n      <td>...</td>\n      <td>...</td>\n      <td>...</td>\n      <td>...</td>\n      <td>...</td>\n      <td>...</td>\n      <td>...</td>\n      <td>...</td>\n      <td>...</td>\n      <td>...</td>\n    </tr>\n    <tr>\n      <th>228</th>\n      <td>65.0</td>\n      <td>0</td>\n      <td>56</td>\n      <td>0</td>\n      <td>25</td>\n      <td>0</td>\n      <td>237000.00</td>\n      <td>5.00</td>\n      <td>130</td>\n      <td>0</td>\n      <td>0</td>\n      <td>207</td>\n      <td>0</td>\n    </tr>\n    <tr>\n      <th>166</th>\n      <td>53.0</td>\n      <td>0</td>\n      <td>196</td>\n      <td>0</td>\n      <td>60</td>\n      <td>0</td>\n      <td>220000.00</td>\n      <td>0.70</td>\n      <td>133</td>\n      <td>1</td>\n      <td>1</td>\n      <td>134</td>\n      <td>0</td>\n    </tr>\n    <tr>\n      <th>47</th>\n      <td>60.0</td>\n      <td>0</td>\n      <td>582</td>\n      <td>1</td>\n      <td>38</td>\n      <td>1</td>\n      <td>451000.00</td>\n      <td>0.60</td>\n      <td>138</td>\n      <td>1</td>\n      <td>1</td>\n      <td>40</td>\n      <td>1</td>\n    </tr>\n    <tr>\n      <th>170</th>\n      <td>51.0</td>\n      <td>1</td>\n      <td>582</td>\n      <td>1</td>\n      <td>35</td>\n      <td>0</td>\n      <td>263358.03</td>\n      <td>1.50</td>\n      <td>136</td>\n      <td>1</td>\n      <td>1</td>\n      <td>145</td>\n      <td>0</td>\n    </tr>\n    <tr>\n      <th>69</th>\n      <td>65.0</td>\n      <td>0</td>\n      <td>113</td>\n      <td>1</td>\n      <td>25</td>\n      <td>0</td>\n      <td>497000.00</td>\n      <td>1.83</td>\n      <td>135</td>\n      <td>1</td>\n      <td>0</td>\n      <td>67</td>\n      <td>1</td>\n    </tr>\n  </tbody>\n</table>\n<p>224 rows × 13 columns</p>\n</div>"
          },
          "metadata": {}
        }
      ],
      "execution_count": 6,
      "metadata": {
        "gather": {
          "logged": 1620806726883
        }
      }
    },
    {
      "cell_type": "code",
      "source": [
        "#save train/test dataset as .csv and upload to datastore\n",
        "if not os.path.isdir(\"data\"):\n",
        "    os.mkdir(\"data\")\n",
        "pd.DataFrame(train_df).to_csv(\"data/train_data.csv\", index=False)\n",
        "pd.DataFrame(test_df).to_csv(\"data/test_data.csv\", index=False)\n",
        "\n",
        "ds = ws.get_default_datastore()\n",
        "ds.upload(src_dir=\"./data\", target_path=\"heart_failure\", overwrite=True, show_progress=True)"
      ],
      "outputs": [
        {
          "output_type": "stream",
          "name": "stdout",
          "text": [
            "Uploading an estimated of 2 files\n",
            "Uploading ./data/test_data.csv\n",
            "Uploaded ./data/test_data.csv, 1 files out of an estimated total of 2\n",
            "Uploading ./data/train_data.csv\n",
            "Uploaded ./data/train_data.csv, 2 files out of an estimated total of 2\n",
            "Uploaded 2 files\n"
          ]
        },
        {
          "output_type": "execute_result",
          "execution_count": 7,
          "data": {
            "text/plain": "$AZUREML_DATAREFERENCE_c2ed5fb062a5426c84254706c8138370"
          },
          "metadata": {}
        }
      ],
      "execution_count": 7,
      "metadata": {
        "gather": {
          "logged": 1620806727850
        }
      }
    },
    {
      "cell_type": "code",
      "source": [
        "#Load dataset as TabularDataset\n",
        "train_data = Dataset.Tabular.from_delimited_files(path=ds.path(\"heart_failure/train_data.csv\"))"
      ],
      "outputs": [],
      "execution_count": 8,
      "metadata": {
        "gather": {
          "logged": 1620806733993
        }
      }
    },
    {
      "cell_type": "code",
      "source": [
        "get_primary_metrics(\"classification\")"
      ],
      "outputs": [
        {
          "output_type": "execute_result",
          "execution_count": 9,
          "data": {
            "text/plain": "['AUC_weighted',\n 'precision_score_weighted',\n 'accuracy',\n 'norm_macro_recall',\n 'average_precision_score_weighted']"
          },
          "metadata": {}
        }
      ],
      "execution_count": 9,
      "metadata": {
        "gather": {
          "logged": 1620806734124
        }
      }
    },
    {
      "cell_type": "markdown",
      "source": [
        "## AutoML Configuration\n",
        "The AutoML Config class is a way of leveraging the AutoML SDK to automate machine learning. \n",
        "\n",
        "The AutoML settings file is a dictionary that specifies all the parameters controlling the experiment like experiment_timeout_minutes, whether or not to enable early stoppong, number of cross validations, the primary metric, etc.\n",
        "\n",
        "In the AutoML Config, we specify the task, the training data to be used, the target column name, the compute target and we pass the automl settings dictionary."
      ],
      "metadata": {}
    },
    {
      "cell_type": "code",
      "source": [
        "# automl settings \n",
        "automl_settings = {\n",
        "    \"enable_early_stopping\" : True,\n",
        "    \"experiment_timeout_minutes\": 30,\n",
        "    \"n_cross_validations\": 4,\n",
        "    \"featurization\": \"auto\",\n",
        "    \"primary_metric\": \"accuracy\",\n",
        "    \"verbosity\": logging.INFO\n",
        "}\n",
        "\n",
        "# automl config (with onnx compatible modus)\n",
        "automl_config = AutoMLConfig(\n",
        "    task=\"classification\",\n",
        "    debug_log = \"automl_errors.log\",\n",
        "    training_data=train_data,\n",
        "    label_column_name=\"DEATH_EVENT\",\n",
        "    compute_target=compute_cluster,\n",
        "    enable_onnx_compatible_models=True,\n",
        "    **automl_settings\n",
        ")"
      ],
      "outputs": [],
      "execution_count": 10,
      "metadata": {
        "gather": {
          "logged": 1620806734385
        },
        "jupyter": {
          "outputs_hidden": false,
          "source_hidden": false
        },
        "nteract": {
          "transient": {
            "deleting": false
          }
        }
      }
    },
    {
      "cell_type": "code",
      "source": [
        "# Submit your experiment\n",
        "remote_run = experiment.submit(automl_config,show_output=True)"
      ],
      "outputs": [
        {
          "output_type": "stream",
          "name": "stdout",
          "text": [
            "Submitting remote run.\n",
            "No run_configuration provided, running on computcluster with default configuration\n",
            "Running on remote compute: computcluster\n"
          ]
        },
        {
          "output_type": "display_data",
          "data": {
            "text/plain": "<IPython.core.display.HTML object>",
            "text/html": "<table style=\"width:100%\"><tr><th>Experiment</th><th>Id</th><th>Type</th><th>Status</th><th>Details Page</th><th>Docs Page</th></tr><tr><td>automl_experiment_heart_failure</td><td>AutoML_ff688dad-3209-4522-a54b-3bb5e88c928e</td><td>automl</td><td>NotStarted</td><td><a href=\"https://ml.azure.com/runs/AutoML_ff688dad-3209-4522-a54b-3bb5e88c928e?wsid=/subscriptions/610d6e37-4747-4a20-80eb-3aad70a55f43/resourcegroups/aml-quickstarts-144621/workspaces/quick-starts-ws-144621&amp;tid=660b3398-b80e-49d2-bc5b-ac1dc93b5254\" target=\"_blank\" rel=\"noopener\">Link to Azure Machine Learning studio</a></td><td><a href=\"https://docs.microsoft.com/en-us/python/api/overview/azure/ml/intro?view=azure-ml-py\" target=\"_blank\" rel=\"noopener\">Link to Documentation</a></td></tr></table>"
          },
          "metadata": {}
        },
        {
          "output_type": "stream",
          "name": "stdout",
          "text": [
            "\n",
            "Current status: FeaturesGeneration. Generating features for the dataset.\n",
            "Current status: DatasetCrossValidationSplit. Generating individually featurized CV splits.\n",
            "Current status: ModelSelection. Beginning model selection.\n",
            "\n",
            "****************************************************************************************************\n",
            "DATA GUARDRAILS: \n",
            "\n",
            "TYPE:         Class balancing detection\n",
            "STATUS:       PASSED\n",
            "DESCRIPTION:  Your inputs were analyzed, and all classes are balanced in your training data.\n",
            "              Learn more about imbalanced data: https://aka.ms/AutomatedMLImbalancedData\n",
            "\n",
            "****************************************************************************************************\n",
            "\n",
            "TYPE:         Missing feature values imputation\n",
            "STATUS:       PASSED\n",
            "DESCRIPTION:  No feature missing values were detected in the training data.\n",
            "              Learn more about missing value imputation: https://aka.ms/AutomatedMLFeaturization\n",
            "\n",
            "****************************************************************************************************\n",
            "\n",
            "TYPE:         High cardinality feature detection\n",
            "STATUS:       PASSED\n",
            "DESCRIPTION:  Your inputs were analyzed, and no high cardinality features were detected.\n",
            "              Learn more about high cardinality feature handling: https://aka.ms/AutomatedMLFeaturization\n",
            "\n",
            "****************************************************************************************************\n",
            "\n",
            "****************************************************************************************************\n",
            "ITERATION: The iteration being evaluated.\n",
            "PIPELINE: A summary description of the pipeline being evaluated.\n",
            "DURATION: Time taken for the current iteration.\n",
            "METRIC: The result of computing score on the fitted pipeline.\n",
            "BEST: The best observed score thus far.\n",
            "****************************************************************************************************\n",
            "\n",
            " ITERATION   PIPELINE                                       DURATION      METRIC      BEST\n",
            "         0   MaxAbsScaler LightGBM                          0:00:45       0.8437    0.8437\n",
            "         1   MaxAbsScaler XGBoostClassifier                 0:00:47       0.8170    0.8437\n",
            "         2   MinMaxScaler RandomForest                      0:00:45       0.7946    0.8437\n",
            "         3   MinMaxScaler RandomForest                      0:00:51       0.7857    0.8437\n",
            "         4   MinMaxScaler RandomForest                      0:00:45       0.8304    0.8437\n",
            "         5   MinMaxScaler SVM                               0:00:47       0.6741    0.8437\n",
            "         6   MaxAbsScaler GradientBoosting                  0:00:46       0.8527    0.8527\n",
            "         7   StandardScalerWrapper RandomForest             0:01:57       0.8304    0.8527\n",
            "         8   SparseNormalizer LightGBM                      0:00:43       0.8170    0.8527\n",
            "         9   SparseNormalizer XGBoostClassifier             0:00:44       0.7991    0.8527\n",
            "        10   RobustScaler RandomForest                      0:00:45       0.8125    0.8527\n",
            "        11   MaxAbsScaler LightGBM                          0:00:50       0.8214    0.8527\n",
            "        12   StandardScalerWrapper LightGBM                 0:00:43       0.7366    0.8527\n",
            "        13   SparseNormalizer XGBoostClassifier             0:00:45       0.7812    0.8527\n",
            "        14   StandardScalerWrapper LightGBM                 0:00:45       0.7857    0.8527\n",
            "        15   StandardScalerWrapper XGBoostClassifier        0:00:47       0.7723    0.8527\n",
            "        16   StandardScalerWrapper RandomForest             0:00:44       0.8170    0.8527\n",
            "        17   StandardScalerWrapper XGBoostClassifier        0:00:42       0.8348    0.8527\n",
            "        18   MinMaxScaler RandomForest                      0:00:44       0.7634    0.8527\n",
            "        19   MinMaxScaler LightGBM                          0:00:49       0.8170    0.8527\n",
            "        20   MinMaxScaler LightGBM                          0:00:43       0.7679    0.8527\n",
            "        21   SparseNormalizer ExtremeRandomTrees            0:00:51       0.7768    0.8527\n",
            "        22   MaxAbsScaler ExtremeRandomTrees                0:00:47       0.8125    0.8527\n",
            "        23   StandardScalerWrapper XGBoostClassifier        0:00:46       0.7857    0.8527\n",
            "        24   StandardScalerWrapper XGBoostClassifier        0:00:44       0.8170    0.8527\n",
            "        25   MaxAbsScaler GradientBoosting                  0:00:44       0.6607    0.8527\n",
            "        26   StandardScalerWrapper XGBoostClassifier        0:00:46       0.8304    0.8527\n",
            "        27   MaxAbsScaler LightGBM                          0:00:46       0.8348    0.8527\n",
            "        28   RobustScaler RandomForest                      0:00:47       0.8259    0.8527\n",
            "        29   MaxAbsScaler LightGBM                          0:00:47       0.7589    0.8527\n",
            "        30    VotingEnsemble                                0:00:57       0.8482    0.8527\n"
          ]
        }
      ],
      "execution_count": 11,
      "metadata": {
        "gather": {
          "logged": 1620809023471
        },
        "jupyter": {
          "outputs_hidden": false,
          "source_hidden": false
        },
        "nteract": {
          "transient": {
            "deleting": false
          }
        }
      }
    },
    {
      "cell_type": "markdown",
      "source": [
        "## Run Details"
      ],
      "metadata": {}
    },
    {
      "cell_type": "code",
      "source": [
        "from azureml.widgets import RunDetails\n",
        "RunDetails(remote_run).show()"
      ],
      "outputs": [
        {
          "output_type": "display_data",
          "data": {
            "text/plain": "_AutoMLWidget(widget_settings={'childWidgetDisplay': 'popup', 'send_telemetry': False, 'log_level': 'INFO', 's…",
            "application/vnd.jupyter.widget-view+json": {
              "version_major": 2,
              "version_minor": 0,
              "model_id": "7f62cc35d6dc49e38a7c59dfb5a6d607"
            }
          },
          "metadata": {}
        },
        {
          "output_type": "display_data",
          "data": {
            "application/aml.mini.widget.v1": "{\"status\": \"Completed\", \"workbench_run_details_uri\": \"https://ml.azure.com/runs/AutoML_ff688dad-3209-4522-a54b-3bb5e88c928e?wsid=/subscriptions/610d6e37-4747-4a20-80eb-3aad70a55f43/resourcegroups/aml-quickstarts-144621/workspaces/quick-starts-ws-144621&tid=660b3398-b80e-49d2-bc5b-ac1dc93b5254\", \"run_id\": \"AutoML_ff688dad-3209-4522-a54b-3bb5e88c928e\", \"run_properties\": {\"run_id\": \"AutoML_ff688dad-3209-4522-a54b-3bb5e88c928e\", \"created_utc\": \"2021-05-12T08:05:38.636615Z\", \"properties\": {\"num_iterations\": \"1000\", \"training_type\": \"TrainFull\", \"acquisition_function\": \"EI\", \"primary_metric\": \"accuracy\", \"train_split\": \"0\", \"acquisition_parameter\": \"0\", \"num_cross_validation\": \"4\", \"target\": \"computcluster\", \"AMLSettingsJsonString\": \"{\\\"path\\\":null,\\\"name\\\":\\\"automl_experiment_heart_failure\\\",\\\"subscription_id\\\":\\\"610d6e37-4747-4a20-80eb-3aad70a55f43\\\",\\\"resource_group\\\":\\\"aml-quickstarts-144621\\\",\\\"workspace_name\\\":\\\"quick-starts-ws-144621\\\",\\\"region\\\":\\\"southcentralus\\\",\\\"compute_target\\\":\\\"computcluster\\\",\\\"spark_service\\\":null,\\\"azure_service\\\":\\\"remote\\\",\\\"many_models\\\":false,\\\"pipeline_fetch_max_batch_size\\\":1,\\\"enable_batch_run\\\":false,\\\"enable_run_restructure\\\":false,\\\"start_auxiliary_runs_before_parent_complete\\\":false,\\\"iterations\\\":1000,\\\"primary_metric\\\":\\\"accuracy\\\",\\\"task_type\\\":\\\"classification\\\",\\\"data_script\\\":null,\\\"test_size\\\":0.0,\\\"validation_size\\\":0.0,\\\"n_cross_validations\\\":4,\\\"y_min\\\":null,\\\"y_max\\\":null,\\\"num_classes\\\":null,\\\"featurization\\\":\\\"auto\\\",\\\"_ignore_package_version_incompatibilities\\\":false,\\\"is_timeseries\\\":false,\\\"max_cores_per_iteration\\\":1,\\\"max_concurrent_iterations\\\":1,\\\"iteration_timeout_minutes\\\":null,\\\"mem_in_mb\\\":null,\\\"enforce_time_on_windows\\\":false,\\\"experiment_timeout_minutes\\\":30,\\\"experiment_exit_score\\\":null,\\\"whitelist_models\\\":null,\\\"blacklist_algos\\\":[\\\"TensorFlowLinearClassifier\\\",\\\"TensorFlowDNN\\\"],\\\"supported_models\\\":[\\\"TensorFlowLinearClassifier\\\",\\\"XGBoostClassifier\\\",\\\"TensorFlowDNN\\\",\\\"LogisticRegression\\\",\\\"ExtremeRandomTrees\\\",\\\"SVM\\\",\\\"GradientBoosting\\\",\\\"MultinomialNaiveBayes\\\",\\\"LinearSVM\\\",\\\"AveragedPerceptronClassifier\\\",\\\"SGD\\\",\\\"KNN\\\",\\\"LightGBM\\\",\\\"RandomForest\\\",\\\"BernoulliNaiveBayes\\\",\\\"DecisionTree\\\"],\\\"private_models\\\":[],\\\"auto_blacklist\\\":true,\\\"blacklist_samples_reached\\\":false,\\\"exclude_nan_labels\\\":true,\\\"verbosity\\\":20,\\\"_debug_log\\\":\\\"azureml_automl.log\\\",\\\"show_warnings\\\":false,\\\"model_explainability\\\":true,\\\"service_url\\\":null,\\\"sdk_url\\\":null,\\\"sdk_packages\\\":null,\\\"enable_onnx_compatible_models\\\":true,\\\"enable_split_onnx_featurizer_estimator_models\\\":false,\\\"vm_type\\\":\\\"STANDARD_DS3_V2\\\",\\\"telemetry_verbosity\\\":20,\\\"send_telemetry\\\":true,\\\"enable_dnn\\\":false,\\\"scenario\\\":\\\"SDK-1.13.0\\\",\\\"environment_label\\\":null,\\\"save_mlflow\\\":false,\\\"force_text_dnn\\\":false,\\\"enable_feature_sweeping\\\":false,\\\"enable_early_stopping\\\":true,\\\"early_stopping_n_iters\\\":10,\\\"metrics\\\":null,\\\"enable_metric_confidence\\\":false,\\\"enable_ensembling\\\":true,\\\"enable_stack_ensembling\\\":false,\\\"ensemble_iterations\\\":15,\\\"enable_tf\\\":false,\\\"enable_subsampling\\\":null,\\\"subsample_seed\\\":null,\\\"enable_nimbusml\\\":false,\\\"enable_streaming\\\":false,\\\"force_streaming\\\":false,\\\"track_child_runs\\\":true,\\\"allowed_private_models\\\":[],\\\"label_column_name\\\":\\\"DEATH_EVENT\\\",\\\"weight_column_name\\\":null,\\\"cv_split_column_names\\\":null,\\\"enable_local_managed\\\":false,\\\"_local_managed_run_id\\\":null,\\\"cost_mode\\\":1,\\\"lag_length\\\":0,\\\"metric_operation\\\":\\\"maximize\\\",\\\"preprocess\\\":true}\", \"DataPrepJsonString\": \"{\\\\\\\"training_data\\\\\\\": {\\\\\\\"datasetId\\\\\\\": \\\\\\\"6852208a-6897-47b5-ac53-0c245b0eef4a\\\\\\\"}, \\\\\\\"datasets\\\\\\\": 0}\", \"EnableSubsampling\": null, \"runTemplate\": \"AutoML\", \"azureml.runsource\": \"automl\", \"display_task_type\": \"classification\", \"dependencies_versions\": \"{\\\"azureml-widgets\\\": \\\"1.27.0\\\", \\\"azureml-train\\\": \\\"1.27.0\\\", \\\"azureml-train-restclients-hyperdrive\\\": \\\"1.27.0\\\", \\\"azureml-train-core\\\": \\\"1.27.0\\\", \\\"azureml-train-automl\\\": \\\"1.27.0\\\", \\\"azureml-train-automl-runtime\\\": \\\"1.27.0\\\", \\\"azureml-train-automl-client\\\": \\\"1.27.0\\\", \\\"azureml-tensorboard\\\": \\\"1.27.0\\\", \\\"azureml-telemetry\\\": \\\"1.27.0\\\", \\\"azureml-sdk\\\": \\\"1.27.0\\\", \\\"azureml-samples\\\": \\\"0+unknown\\\", \\\"azureml-pipeline\\\": \\\"1.27.0\\\", \\\"azureml-pipeline-steps\\\": \\\"1.27.0\\\", \\\"azureml-pipeline-core\\\": \\\"1.27.0\\\", \\\"azureml-opendatasets\\\": \\\"1.27.0\\\", \\\"azureml-model-management-sdk\\\": \\\"1.0.1b6.post1\\\", \\\"azureml-mlflow\\\": \\\"1.27.0\\\", \\\"azureml-interpret\\\": \\\"1.27.0\\\", \\\"azureml-explain-model\\\": \\\"1.27.0\\\", \\\"azureml-defaults\\\": \\\"1.27.0\\\", \\\"azureml-dataset-runtime\\\": \\\"1.27.0\\\", \\\"azureml-dataprep\\\": \\\"2.14.2\\\", \\\"azureml-dataprep-rslex\\\": \\\"1.12.1\\\", \\\"azureml-dataprep-native\\\": \\\"33.0.0\\\", \\\"azureml-datadrift\\\": \\\"1.27.0\\\", \\\"azureml-core\\\": \\\"1.27.0\\\", \\\"azureml-contrib-services\\\": \\\"1.27.0\\\", \\\"azureml-contrib-server\\\": \\\"1.27.0\\\", \\\"azureml-contrib-reinforcementlearning\\\": \\\"1.27.0\\\", \\\"azureml-contrib-pipeline-steps\\\": \\\"1.27.0\\\", \\\"azureml-contrib-notebook\\\": \\\"1.27.0\\\", \\\"azureml-contrib-gbdt\\\": \\\"1.27.0\\\", \\\"azureml-contrib-fairness\\\": \\\"1.27.0\\\", \\\"azureml-contrib-dataset\\\": \\\"1.27.0\\\", \\\"azureml-cli-common\\\": \\\"1.27.0\\\", \\\"azureml-automl-runtime\\\": \\\"1.27.0\\\", \\\"azureml-automl-dnn-nlp\\\": \\\"1.27.0\\\", \\\"azureml-automl-core\\\": \\\"1.27.0\\\", \\\"azureml-accel-models\\\": \\\"1.27.0\\\"}\", \"_aml_system_scenario_identification\": \"Remote.Parent\", \"ClientType\": \"SDK\", \"environment_cpu_name\": \"AzureML-AutoML\", \"environment_cpu_label\": \"prod\", \"environment_gpu_name\": \"AzureML-AutoML-GPU\", \"environment_gpu_label\": \"prod\", \"root_attribution\": \"automl\", \"attribution\": \"AutoML\", \"Orchestrator\": \"AutoML\", \"CancelUri\": \"https://southcentralus.api.azureml.ms/jasmine/v1.0/subscriptions/610d6e37-4747-4a20-80eb-3aad70a55f43/resourceGroups/aml-quickstarts-144621/providers/Microsoft.MachineLearningServices/workspaces/quick-starts-ws-144621/experimentids/27c9a3cf-eb37-42e8-988e-dc46b0138ad1/cancel/AutoML_ff688dad-3209-4522-a54b-3bb5e88c928e\", \"ClientSdkVersion\": \"1.27.0.post1\", \"snapshotId\": \"00000000-0000-0000-0000-000000000000\", \"SetupRunId\": \"AutoML_ff688dad-3209-4522-a54b-3bb5e88c928e_setup\", \"SetupRunContainerId\": \"dcid.AutoML_ff688dad-3209-4522-a54b-3bb5e88c928e_setup\", \"FeaturizationRunJsonPath\": \"featurizer_container.json\", \"FeaturizationRunId\": \"AutoML_ff688dad-3209-4522-a54b-3bb5e88c928e_featurize\", \"ProblemInfoJsonString\": \"{\\\"dataset_num_categorical\\\": 0, \\\"is_sparse\\\": false, \\\"subsampling\\\": false, \\\"dataset_classes\\\": 2, \\\"dataset_features\\\": 12, \\\"dataset_samples\\\": 224, \\\"single_frequency_class_detected\\\": false}\", \"ModelExplainRunId\": \"AutoML_ff688dad-3209-4522-a54b-3bb5e88c928e_ModelExplain\"}, \"tags\": {\"model_explain_run\": \"best_run\", \"_aml_system_azureml.automlComponent\": \"AutoML\", \"pipeline_id\": \"\", \"score\": \"\", \"predicted_cost\": \"\", \"fit_time\": \"\", \"training_percent\": \"\", \"iteration\": \"\", \"run_preprocessor\": \"\", \"run_algorithm\": \"\", \"dynamic_whitelisting_iterations\": \"<25>;\", \"automl_best_child_run_id\": \"AutoML_ff688dad-3209-4522-a54b-3bb5e88c928e_6\", \"model_explain_best_run_child_id\": \"AutoML_ff688dad-3209-4522-a54b-3bb5e88c928e_6\"}, \"end_time_utc\": \"2021-05-12T08:43:32.760373Z\", \"status\": \"Completed\", \"log_files\": {}, \"log_groups\": [], \"run_duration\": \"0:37:54\", \"run_number\": \"2\", \"run_queued_details\": {\"status\": \"Completed\", \"details\": null}}, \"child_runs\": [{\"run_id\": \"AutoML_ff688dad-3209-4522-a54b-3bb5e88c928e_0\", \"run_number\": 6, \"metric\": null, \"status\": \"Completed\", \"run_type\": \"azureml.scriptrun\", \"training_percent\": \"100\", \"start_time\": \"2021-05-12T08:13:10.717158Z\", \"end_time\": \"2021-05-12T08:13:56.039189Z\", \"created_time\": \"2021-05-12T08:12:56.009442Z\", \"created_time_dt\": \"2021-05-12T08:12:56.009442Z\", \"duration\": \"0:01:00\", \"iteration\": \"0\", \"goal\": \"accuracy_max\", \"run_name\": \"MaxAbsScaler, LightGBM\", \"run_properties\": \"copy=True\", \"primary_metric\": 0.84375, \"best_metric\": 0.84375}, {\"run_id\": \"AutoML_ff688dad-3209-4522-a54b-3bb5e88c928e_1\", \"run_number\": 7, \"metric\": null, \"status\": \"Completed\", \"run_type\": \"azureml.scriptrun\", \"training_percent\": \"100\", \"start_time\": \"2021-05-12T08:14:11.089647Z\", \"end_time\": \"2021-05-12T08:14:58.062393Z\", \"created_time\": \"2021-05-12T08:13:57.847389Z\", \"created_time_dt\": \"2021-05-12T08:13:57.847389Z\", \"duration\": \"0:01:00\", \"iteration\": \"1\", \"goal\": \"accuracy_max\", \"run_name\": \"MaxAbsScaler, XGBoostClassifier\", \"run_properties\": \"copy=True\", \"primary_metric\": 0.81696429, \"best_metric\": 0.84375}, {\"run_id\": \"AutoML_ff688dad-3209-4522-a54b-3bb5e88c928e_2\", \"run_number\": 8, \"metric\": null, \"status\": \"Completed\", \"run_type\": \"azureml.scriptrun\", \"training_percent\": \"100\", \"start_time\": \"2021-05-12T08:15:16.834154Z\", \"end_time\": \"2021-05-12T08:16:02.210452Z\", \"created_time\": \"2021-05-12T08:14:59.239872Z\", \"created_time_dt\": \"2021-05-12T08:14:59.239872Z\", \"duration\": \"0:01:02\", \"iteration\": \"2\", \"goal\": \"accuracy_max\", \"run_name\": \"MinMaxScaler, RandomForest\", \"run_properties\": \"copy=True, feature_range=(0, 1\", \"primary_metric\": 0.79464286, \"best_metric\": 0.84375}, {\"run_id\": \"AutoML_ff688dad-3209-4522-a54b-3bb5e88c928e_3\", \"run_number\": 9, \"metric\": null, \"status\": \"Completed\", \"run_type\": \"azureml.scriptrun\", \"training_percent\": \"100\", \"start_time\": \"2021-05-12T08:16:18.362227Z\", \"end_time\": \"2021-05-12T08:17:09.137721Z\", \"created_time\": \"2021-05-12T08:16:04.492689Z\", \"created_time_dt\": \"2021-05-12T08:16:04.492689Z\", \"duration\": \"0:01:04\", \"iteration\": \"3\", \"goal\": \"accuracy_max\", \"run_name\": \"MinMaxScaler, RandomForest\", \"run_properties\": \"copy=True, feature_range=(0, 1\", \"primary_metric\": 0.78571429, \"best_metric\": 0.84375}, {\"run_id\": \"AutoML_ff688dad-3209-4522-a54b-3bb5e88c928e_4\", \"run_number\": 10, \"metric\": null, \"status\": \"Completed\", \"run_type\": \"azureml.scriptrun\", \"training_percent\": \"100\", \"start_time\": \"2021-05-12T08:17:25.246353Z\", \"end_time\": \"2021-05-12T08:18:10.021564Z\", \"created_time\": \"2021-05-12T08:17:11.906374Z\", \"created_time_dt\": \"2021-05-12T08:17:11.906374Z\", \"duration\": \"0:00:58\", \"iteration\": \"4\", \"goal\": \"accuracy_max\", \"run_name\": \"MinMaxScaler, RandomForest\", \"run_properties\": \"copy=True, feature_range=(0, 1\", \"primary_metric\": 0.83035714, \"best_metric\": 0.84375}, {\"run_id\": \"AutoML_ff688dad-3209-4522-a54b-3bb5e88c928e_5\", \"run_number\": 11, \"metric\": null, \"status\": \"Completed\", \"run_type\": \"azureml.scriptrun\", \"training_percent\": \"100\", \"start_time\": \"2021-05-12T08:18:25.615403Z\", \"end_time\": \"2021-05-12T08:19:12.770474Z\", \"created_time\": \"2021-05-12T08:18:11.964531Z\", \"created_time_dt\": \"2021-05-12T08:18:11.964531Z\", \"duration\": \"0:01:00\", \"iteration\": \"5\", \"goal\": \"accuracy_max\", \"run_name\": \"MinMaxScaler, SVM\", \"run_properties\": \"copy=True, feature_range=(0, 1\", \"primary_metric\": 0.67410714, \"best_metric\": 0.84375}, {\"run_id\": \"AutoML_ff688dad-3209-4522-a54b-3bb5e88c928e_6\", \"run_number\": 12, \"metric\": null, \"status\": \"Completed\", \"run_type\": \"azureml.scriptrun\", \"training_percent\": \"100\", \"start_time\": \"2021-05-12T08:19:29.258505Z\", \"end_time\": \"2021-05-12T08:20:15.53321Z\", \"created_time\": \"2021-05-12T08:19:15.549115Z\", \"created_time_dt\": \"2021-05-12T08:19:15.549115Z\", \"duration\": \"0:00:59\", \"iteration\": \"6\", \"goal\": \"accuracy_max\", \"run_name\": \"MaxAbsScaler, GradientBoosting\", \"run_properties\": \"copy=True\", \"primary_metric\": 0.85267857, \"best_metric\": 0.85267857}, {\"run_id\": \"AutoML_ff688dad-3209-4522-a54b-3bb5e88c928e_7\", \"run_number\": 13, \"metric\": null, \"status\": \"Completed\", \"run_type\": \"azureml.scriptrun\", \"training_percent\": \"100\", \"start_time\": \"2021-05-12T08:20:28.908194Z\", \"end_time\": \"2021-05-12T08:22:25.635565Z\", \"created_time\": \"2021-05-12T08:20:17.640047Z\", \"created_time_dt\": \"2021-05-12T08:20:17.640047Z\", \"duration\": \"0:02:07\", \"iteration\": \"7\", \"goal\": \"accuracy_max\", \"run_name\": \"StandardScalerWrapper, RandomForest\", \"run_properties\": \"<azureml.automl.runtime.shared.model_wrappers.StandardScalerWrapper object at 0x7fac14f0f9e8\", \"primary_metric\": 0.83035714, \"best_metric\": 0.85267857}, {\"run_id\": \"AutoML_ff688dad-3209-4522-a54b-3bb5e88c928e_8\", \"run_number\": 14, \"metric\": null, \"status\": \"Completed\", \"run_type\": \"azureml.scriptrun\", \"training_percent\": \"100\", \"start_time\": \"2021-05-12T08:22:34.051995Z\", \"end_time\": \"2021-05-12T08:23:16.664346Z\", \"created_time\": \"2021-05-12T08:22:27.554448Z\", \"created_time_dt\": \"2021-05-12T08:22:27.554448Z\", \"duration\": \"0:00:49\", \"iteration\": \"8\", \"goal\": \"accuracy_max\", \"run_name\": \"SparseNormalizer, LightGBM\", \"run_properties\": \"<azureml.automl.runtime.shared.model_wrappers.SparseNormalizer object at 0x7f691d695828\", \"primary_metric\": 0.81696429, \"best_metric\": 0.85267857}, {\"run_id\": \"AutoML_ff688dad-3209-4522-a54b-3bb5e88c928e_9\", \"run_number\": 15, \"metric\": null, \"status\": \"Completed\", \"run_type\": \"azureml.scriptrun\", \"training_percent\": \"100\", \"start_time\": \"2021-05-12T08:23:28.554001Z\", \"end_time\": \"2021-05-12T08:24:12.072845Z\", \"created_time\": \"2021-05-12T08:23:18.708834Z\", \"created_time_dt\": \"2021-05-12T08:23:18.708834Z\", \"duration\": \"0:00:53\", \"iteration\": \"9\", \"goal\": \"accuracy_max\", \"run_name\": \"SparseNormalizer, XGBoostClassifier\", \"run_properties\": \"<azureml.automl.runtime.shared.model_wrappers.SparseNormalizer object at 0x7f9fc7b07278\", \"primary_metric\": 0.79910714, \"best_metric\": 0.85267857}, {\"run_id\": \"AutoML_ff688dad-3209-4522-a54b-3bb5e88c928e_10\", \"run_number\": 16, \"metric\": null, \"status\": \"Completed\", \"run_type\": \"azureml.scriptrun\", \"training_percent\": \"100\", \"start_time\": \"2021-05-12T08:24:23.875317Z\", \"end_time\": \"2021-05-12T08:25:09.08379Z\", \"created_time\": \"2021-05-12T08:24:14.446562Z\", \"created_time_dt\": \"2021-05-12T08:24:14.446562Z\", \"duration\": \"0:00:54\", \"iteration\": \"10\", \"goal\": \"accuracy_max\", \"run_name\": \"RobustScaler, RandomForest\", \"run_properties\": \"copy=True, quantile_range=[10, 90], with_centering=True,\\n             with_scaling=True\", \"primary_metric\": 0.8125, \"best_metric\": 0.85267857}, {\"run_id\": \"AutoML_ff688dad-3209-4522-a54b-3bb5e88c928e_11\", \"run_number\": 17, \"metric\": null, \"status\": \"Completed\", \"run_type\": \"azureml.scriptrun\", \"training_percent\": \"100\", \"start_time\": \"2021-05-12T08:25:16.68887Z\", \"end_time\": \"2021-05-12T08:26:06.631642Z\", \"created_time\": \"2021-05-12T08:25:10.994242Z\", \"created_time_dt\": \"2021-05-12T08:25:10.994242Z\", \"duration\": \"0:00:55\", \"iteration\": \"11\", \"goal\": \"accuracy_max\", \"run_name\": \"MaxAbsScaler, LightGBM\", \"run_properties\": \"copy=True\", \"primary_metric\": 0.82142857, \"best_metric\": 0.85267857}, {\"run_id\": \"AutoML_ff688dad-3209-4522-a54b-3bb5e88c928e_12\", \"run_number\": 18, \"metric\": null, \"status\": \"Completed\", \"run_type\": \"azureml.scriptrun\", \"training_percent\": \"100\", \"start_time\": \"2021-05-12T08:26:15.412624Z\", \"end_time\": \"2021-05-12T08:26:58.775665Z\", \"created_time\": \"2021-05-12T08:26:08.401621Z\", \"created_time_dt\": \"2021-05-12T08:26:08.401621Z\", \"duration\": \"0:00:50\", \"iteration\": \"12\", \"goal\": \"accuracy_max\", \"run_name\": \"StandardScalerWrapper, LightGBM\", \"run_properties\": \"<azureml.automl.runtime.shared.model_wrappers.StandardScalerWrapper object at 0x7fac533f2630\", \"primary_metric\": 0.73660714, \"best_metric\": 0.85267857}, {\"run_id\": \"AutoML_ff688dad-3209-4522-a54b-3bb5e88c928e_13\", \"run_number\": 19, \"metric\": null, \"status\": \"Completed\", \"run_type\": \"azureml.scriptrun\", \"training_percent\": \"100\", \"start_time\": \"2021-05-12T08:27:06.311605Z\", \"end_time\": \"2021-05-12T08:27:51.670543Z\", \"created_time\": \"2021-05-12T08:27:00.590665Z\", \"created_time_dt\": \"2021-05-12T08:27:00.590665Z\", \"duration\": \"0:00:51\", \"iteration\": \"13\", \"goal\": \"accuracy_max\", \"run_name\": \"SparseNormalizer, XGBoostClassifier\", \"run_properties\": \"<azureml.automl.runtime.shared.model_wrappers.SparseNormalizer object at 0x7f747daeb5f8\", \"primary_metric\": 0.78125, \"best_metric\": 0.85267857}, {\"run_id\": \"AutoML_ff688dad-3209-4522-a54b-3bb5e88c928e_14\", \"run_number\": 20, \"metric\": null, \"status\": \"Completed\", \"run_type\": \"azureml.scriptrun\", \"training_percent\": \"100\", \"start_time\": \"2021-05-12T08:27:58.695517Z\", \"end_time\": \"2021-05-12T08:28:44.117573Z\", \"created_time\": \"2021-05-12T08:27:53.599453Z\", \"created_time_dt\": \"2021-05-12T08:27:53.599453Z\", \"duration\": \"0:00:50\", \"iteration\": \"14\", \"goal\": \"accuracy_max\", \"run_name\": \"StandardScalerWrapper, LightGBM\", \"run_properties\": \"<azureml.automl.runtime.shared.model_wrappers.StandardScalerWrapper object at 0x7f777cbbb860\", \"primary_metric\": 0.78571429, \"best_metric\": 0.85267857}, {\"run_id\": \"AutoML_ff688dad-3209-4522-a54b-3bb5e88c928e_15\", \"run_number\": 21, \"metric\": null, \"status\": \"Completed\", \"run_type\": \"azureml.scriptrun\", \"training_percent\": \"100\", \"start_time\": \"2021-05-12T08:28:53.2067Z\", \"end_time\": \"2021-05-12T08:29:39.971677Z\", \"created_time\": \"2021-05-12T08:28:46.129445Z\", \"created_time_dt\": \"2021-05-12T08:28:46.129445Z\", \"duration\": \"0:00:53\", \"iteration\": \"15\", \"goal\": \"accuracy_max\", \"run_name\": \"StandardScalerWrapper, XGBoostClassifier\", \"run_properties\": \"<azureml.automl.runtime.shared.model_wrappers.StandardScalerWrapper object at 0x7f4f5c734ef0\", \"primary_metric\": 0.77232143, \"best_metric\": 0.85267857}, {\"run_id\": \"AutoML_ff688dad-3209-4522-a54b-3bb5e88c928e_16\", \"run_number\": 22, \"metric\": null, \"status\": \"Completed\", \"run_type\": \"azureml.scriptrun\", \"training_percent\": \"100\", \"start_time\": \"2021-05-12T08:29:48.291754Z\", \"end_time\": \"2021-05-12T08:30:32.501253Z\", \"created_time\": \"2021-05-12T08:29:42.775476Z\", \"created_time_dt\": \"2021-05-12T08:29:42.775476Z\", \"duration\": \"0:00:49\", \"iteration\": \"16\", \"goal\": \"accuracy_max\", \"run_name\": \"StandardScalerWrapper, RandomForest\", \"run_properties\": \"<azureml.automl.runtime.shared.model_wrappers.StandardScalerWrapper object at 0x7f1b05f1cdd8\", \"primary_metric\": 0.81696429, \"best_metric\": 0.85267857}, {\"run_id\": \"AutoML_ff688dad-3209-4522-a54b-3bb5e88c928e_17\", \"run_number\": 23, \"metric\": null, \"status\": \"Completed\", \"run_type\": \"azureml.scriptrun\", \"training_percent\": \"100\", \"start_time\": \"2021-05-12T08:30:41.422664Z\", \"end_time\": \"2021-05-12T08:31:23.442084Z\", \"created_time\": \"2021-05-12T08:30:34.654969Z\", \"created_time_dt\": \"2021-05-12T08:30:34.654969Z\", \"duration\": \"0:00:48\", \"iteration\": \"17\", \"goal\": \"accuracy_max\", \"run_name\": \"StandardScalerWrapper, XGBoostClassifier\", \"run_properties\": \"<azureml.automl.runtime.shared.model_wrappers.StandardScalerWrapper object at 0x7f224c126f98\", \"primary_metric\": 0.83482143, \"best_metric\": 0.85267857}, {\"run_id\": \"AutoML_ff688dad-3209-4522-a54b-3bb5e88c928e_18\", \"run_number\": 24, \"metric\": null, \"status\": \"Completed\", \"run_type\": \"azureml.scriptrun\", \"training_percent\": \"100\", \"start_time\": \"2021-05-12T08:31:31.638203Z\", \"end_time\": \"2021-05-12T08:32:16.118938Z\", \"created_time\": \"2021-05-12T08:31:25.415202Z\", \"created_time_dt\": \"2021-05-12T08:31:25.415202Z\", \"duration\": \"0:00:50\", \"iteration\": \"18\", \"goal\": \"accuracy_max\", \"run_name\": \"MinMaxScaler, RandomForest\", \"run_properties\": \"copy=True, feature_range=(0, 1\", \"primary_metric\": 0.76339286, \"best_metric\": 0.85267857}, {\"run_id\": \"AutoML_ff688dad-3209-4522-a54b-3bb5e88c928e_19\", \"run_number\": 25, \"metric\": null, \"status\": \"Completed\", \"run_type\": \"azureml.scriptrun\", \"training_percent\": \"100\", \"start_time\": \"2021-05-12T08:32:22.887538Z\", \"end_time\": \"2021-05-12T08:33:11.903334Z\", \"created_time\": \"2021-05-12T08:32:18.307556Z\", \"created_time_dt\": \"2021-05-12T08:32:18.307556Z\", \"duration\": \"0:00:53\", \"iteration\": \"19\", \"goal\": \"accuracy_max\", \"run_name\": \"MinMaxScaler, LightGBM\", \"run_properties\": \"copy=True, feature_range=(0, 1\", \"primary_metric\": 0.81696429, \"best_metric\": 0.85267857}, {\"run_id\": \"AutoML_ff688dad-3209-4522-a54b-3bb5e88c928e_20\", \"run_number\": 26, \"metric\": null, \"status\": \"Completed\", \"run_type\": \"azureml.scriptrun\", \"training_percent\": \"100\", \"start_time\": \"2021-05-12T08:33:21.23729Z\", \"end_time\": \"2021-05-12T08:34:04.351714Z\", \"created_time\": \"2021-05-12T08:33:13.834145Z\", \"created_time_dt\": \"2021-05-12T08:33:13.834145Z\", \"duration\": \"0:00:50\", \"iteration\": \"20\", \"goal\": \"accuracy_max\", \"run_name\": \"MinMaxScaler, LightGBM\", \"run_properties\": \"copy=True, feature_range=(0, 1\", \"primary_metric\": 0.76785714, \"best_metric\": 0.85267857}, {\"run_id\": \"AutoML_ff688dad-3209-4522-a54b-3bb5e88c928e_21\", \"run_number\": 27, \"metric\": null, \"status\": \"Completed\", \"run_type\": \"azureml.scriptrun\", \"training_percent\": \"100\", \"start_time\": \"2021-05-12T08:34:16.273283Z\", \"end_time\": \"2021-05-12T08:35:06.994963Z\", \"created_time\": \"2021-05-12T08:34:06.376495Z\", \"created_time_dt\": \"2021-05-12T08:34:06.376495Z\", \"duration\": \"0:01:00\", \"iteration\": \"21\", \"goal\": \"accuracy_max\", \"run_name\": \"SparseNormalizer, ExtremeRandomTrees\", \"run_properties\": \"<azureml.automl.runtime.shared.model_wrappers.SparseNormalizer object at 0x7f8ea7278fd0\", \"primary_metric\": 0.77678571, \"best_metric\": 0.85267857}, {\"run_id\": \"AutoML_ff688dad-3209-4522-a54b-3bb5e88c928e_22\", \"run_number\": 28, \"metric\": null, \"status\": \"Completed\", \"run_type\": \"azureml.scriptrun\", \"training_percent\": \"100\", \"start_time\": \"2021-05-12T08:35:16.678059Z\", \"end_time\": \"2021-05-12T08:36:03.370005Z\", \"created_time\": \"2021-05-12T08:35:09.719455Z\", \"created_time_dt\": \"2021-05-12T08:35:09.719455Z\", \"duration\": \"0:00:53\", \"iteration\": \"22\", \"goal\": \"accuracy_max\", \"run_name\": \"MaxAbsScaler, ExtremeRandomTrees\", \"run_properties\": \"copy=True\", \"primary_metric\": 0.8125, \"best_metric\": 0.85267857}, {\"run_id\": \"AutoML_ff688dad-3209-4522-a54b-3bb5e88c928e_23\", \"run_number\": 29, \"metric\": null, \"status\": \"Completed\", \"run_type\": \"azureml.scriptrun\", \"training_percent\": \"100\", \"start_time\": \"2021-05-12T08:36:09.828655Z\", \"end_time\": \"2021-05-12T08:36:56.119597Z\", \"created_time\": \"2021-05-12T08:36:05.265443Z\", \"created_time_dt\": \"2021-05-12T08:36:05.265443Z\", \"duration\": \"0:00:50\", \"iteration\": \"23\", \"goal\": \"accuracy_max\", \"run_name\": \"StandardScalerWrapper, XGBoostClassifier\", \"run_properties\": \"<azureml.automl.runtime.shared.model_wrappers.StandardScalerWrapper object at 0x7fd951d3e4a8\", \"primary_metric\": 0.78571429, \"best_metric\": 0.85267857}, {\"run_id\": \"AutoML_ff688dad-3209-4522-a54b-3bb5e88c928e_24\", \"run_number\": 30, \"metric\": null, \"status\": \"Completed\", \"run_type\": \"azureml.scriptrun\", \"training_percent\": \"100\", \"start_time\": \"2021-05-12T08:37:05.839635Z\", \"end_time\": \"2021-05-12T08:37:49.472147Z\", \"created_time\": \"2021-05-12T08:36:58.522377Z\", \"created_time_dt\": \"2021-05-12T08:36:58.522377Z\", \"duration\": \"0:00:50\", \"iteration\": \"24\", \"goal\": \"accuracy_max\", \"run_name\": \"StandardScalerWrapper, XGBoostClassifier\", \"run_properties\": \"<azureml.automl.runtime.shared.model_wrappers.StandardScalerWrapper object at 0x7f448178e7b8\", \"primary_metric\": 0.81696429, \"best_metric\": 0.85267857}, {\"run_id\": \"AutoML_ff688dad-3209-4522-a54b-3bb5e88c928e_25\", \"run_number\": 31, \"metric\": null, \"status\": \"Completed\", \"run_type\": \"azureml.scriptrun\", \"training_percent\": \"100\", \"start_time\": \"2021-05-12T08:38:01.206472Z\", \"end_time\": \"2021-05-12T08:38:45.011327Z\", \"created_time\": \"2021-05-12T08:37:53.017313Z\", \"created_time_dt\": \"2021-05-12T08:37:53.017313Z\", \"duration\": \"0:00:51\", \"iteration\": \"25\", \"goal\": \"accuracy_max\", \"run_name\": \"MaxAbsScaler, GradientBoosting\", \"run_properties\": \"copy=True\", \"primary_metric\": 0.66071429, \"best_metric\": 0.85267857}, {\"run_id\": \"AutoML_ff688dad-3209-4522-a54b-3bb5e88c928e_26\", \"run_number\": 32, \"metric\": null, \"status\": \"Completed\", \"run_type\": \"azureml.scriptrun\", \"training_percent\": \"100\", \"start_time\": \"2021-05-12T08:38:51.502637Z\", \"end_time\": \"2021-05-12T08:39:37.643761Z\", \"created_time\": \"2021-05-12T08:38:46.788198Z\", \"created_time_dt\": \"2021-05-12T08:38:46.788198Z\", \"duration\": \"0:00:50\", \"iteration\": \"26\", \"goal\": \"accuracy_max\", \"run_name\": \"StandardScalerWrapper, XGBoostClassifier\", \"run_properties\": \"<azureml.automl.runtime.shared.model_wrappers.StandardScalerWrapper object at 0x7f5c04d3c358\", \"primary_metric\": 0.83035714, \"best_metric\": 0.85267857}, {\"run_id\": \"AutoML_ff688dad-3209-4522-a54b-3bb5e88c928e_27\", \"run_number\": 33, \"metric\": null, \"status\": \"Completed\", \"run_type\": \"azureml.scriptrun\", \"training_percent\": \"100\", \"start_time\": \"2021-05-12T08:39:45.775591Z\", \"end_time\": \"2021-05-12T08:40:31.506245Z\", \"created_time\": \"2021-05-12T08:39:39.439365Z\", \"created_time_dt\": \"2021-05-12T08:39:39.439365Z\", \"duration\": \"0:00:52\", \"iteration\": \"27\", \"goal\": \"accuracy_max\", \"run_name\": \"MaxAbsScaler, LightGBM\", \"run_properties\": \"copy=True\", \"primary_metric\": 0.83482143, \"best_metric\": 0.85267857}, {\"run_id\": \"AutoML_ff688dad-3209-4522-a54b-3bb5e88c928e_28\", \"run_number\": 34, \"metric\": null, \"status\": \"Completed\", \"run_type\": \"azureml.scriptrun\", \"training_percent\": \"100\", \"start_time\": \"2021-05-12T08:40:39.073278Z\", \"end_time\": \"2021-05-12T08:41:25.88833Z\", \"created_time\": \"2021-05-12T08:40:33.324217Z\", \"created_time_dt\": \"2021-05-12T08:40:33.324217Z\", \"duration\": \"0:00:52\", \"iteration\": \"28\", \"goal\": \"accuracy_max\", \"run_name\": \"RobustScaler, RandomForest\", \"run_properties\": \"copy=True, quantile_range=[25, 75], with_centering=False,\\n             with_scaling=True\", \"primary_metric\": 0.82589286, \"best_metric\": 0.85267857}, {\"run_id\": \"AutoML_ff688dad-3209-4522-a54b-3bb5e88c928e_29\", \"run_number\": 35, \"metric\": null, \"status\": \"Completed\", \"run_type\": \"azureml.scriptrun\", \"training_percent\": \"100\", \"start_time\": \"2021-05-12T08:41:35.277866Z\", \"end_time\": \"2021-05-12T08:42:22.38686Z\", \"created_time\": \"2021-05-12T08:41:27.816041Z\", \"created_time_dt\": \"2021-05-12T08:41:27.816041Z\", \"duration\": \"0:00:54\", \"iteration\": \"29\", \"goal\": \"accuracy_max\", \"run_name\": \"MaxAbsScaler, LightGBM\", \"run_properties\": \"copy=True\", \"primary_metric\": 0.75892857, \"best_metric\": 0.85267857}, {\"run_id\": \"AutoML_ff688dad-3209-4522-a54b-3bb5e88c928e_30\", \"run_number\": 36, \"metric\": null, \"status\": \"Completed\", \"run_type\": \"azureml.scriptrun\", \"training_percent\": \"100\", \"start_time\": \"2021-05-12T08:42:32.575749Z\", \"end_time\": \"2021-05-12T08:43:30.038195Z\", \"created_time\": \"2021-05-12T08:42:23.361616Z\", \"created_time_dt\": \"2021-05-12T08:42:23.361616Z\", \"duration\": \"0:01:06\", \"iteration\": \"30\", \"goal\": \"accuracy_max\", \"run_name\": \"VotingEnsemble\", \"run_properties\": \"classification_labels=None,\\n                              estimators=[('6',\\n                                           Pipeline(memory=None,\\n                                                    steps=[('maxabsscaler',\\n                                                            MaxAbsScaler(copy=True\", \"primary_metric\": 0.84821429, \"best_metric\": 0.85267857}], \"children_metrics\": {\"categories\": [0], \"series\": {\"f1_score_macro\": [{\"categories\": [\"0\", \"1\", \"2\", \"3\", \"4\", \"5\", \"6\", \"7\", \"8\", \"9\", \"10\", \"11\", \"12\", \"13\", \"14\", \"15\", \"16\", \"17\", \"18\", \"19\", \"20\", \"21\", \"22\", \"23\", \"24\", \"25\", \"26\", \"27\", \"28\", \"29\", \"30\"], \"mode\": \"markers\", \"name\": \"f1_score_macro\", \"stepped\": false, \"type\": \"scatter\", \"data\": [0.8223214285714285, 0.7875275176458637, 0.763063174799168, 0.7428908775823333, 0.8092117068391816, 0.5869940797304534, 0.8302122909614373, 0.8000033429610611, 0.7893539724039526, 0.7666580191687795, 0.7843486310993829, 0.7871621510394682, 0.6042127336082405, 0.7425757919162146, 0.729598092008422, 0.728373495246837, 0.7879186760573154, 0.8099575500864348, 0.7334138100073132, 0.7850009907483394, 0.7033472688918052, 0.7524142502956541, 0.7696731620464914, 0.7398109047773022, 0.7827425727935066, 0.39719057092904075, 0.8039622209918342, 0.8065316161668257, 0.7974836524798052, 0.6861402398193106, 0.8255351120095704]}, {\"categories\": [\"0\", \"1\", \"2\", \"3\", \"4\", \"5\", \"6\", \"7\", \"8\", \"9\", \"10\", \"11\", \"12\", \"13\", \"14\", \"15\", \"16\", \"17\", \"18\", \"19\", \"20\", \"21\", \"22\", \"23\", \"24\", \"25\", \"26\", \"27\", \"28\", \"29\", \"30\"], \"mode\": \"lines\", \"name\": \"f1_score_macro_max\", \"stepped\": true, \"type\": \"scatter\", \"data\": [0.8223214285714285, 0.8223214285714285, 0.8223214285714285, 0.8223214285714285, 0.8223214285714285, 0.8223214285714285, 0.8302122909614373, 0.8302122909614373, 0.8302122909614373, 0.8302122909614373, 0.8302122909614373, 0.8302122909614373, 0.8302122909614373, 0.8302122909614373, 0.8302122909614373, 0.8302122909614373, 0.8302122909614373, 0.8302122909614373, 0.8302122909614373, 0.8302122909614373, 0.8302122909614373, 0.8302122909614373, 0.8302122909614373, 0.8302122909614373, 0.8302122909614373, 0.8302122909614373, 0.8302122909614373, 0.8302122909614373, 0.8302122909614373, 0.8302122909614373, 0.8302122909614373]}], \"balanced_accuracy\": [{\"categories\": [\"0\", \"1\", \"2\", \"3\", \"4\", \"5\", \"6\", \"7\", \"8\", \"9\", \"10\", \"11\", \"12\", \"13\", \"14\", \"15\", \"16\", \"17\", \"18\", \"19\", \"20\", \"21\", \"22\", \"23\", \"24\", \"25\", \"26\", \"27\", \"28\", \"29\", \"30\"], \"mode\": \"markers\", \"name\": \"balanced_accuracy\", \"stepped\": false, \"type\": \"scatter\", \"data\": [0.822878269506677, 0.7836591552875628, 0.7605376689307822, 0.7403663051439234, 0.8120236829167963, 0.591254142796467, 0.8272831783233505, 0.7919184115740787, 0.787335625875798, 0.7634908432074861, 0.7806319039640417, 0.7772540407942129, 0.6155341072127298, 0.7393920164006248, 0.7223040887854375, 0.7208479648042059, 0.7839741499533466, 0.8085666007832436, 0.7366669676569246, 0.7796861674910456, 0.6939426128629859, 0.7597469424406296, 0.7561053365572734, 0.7309154618695508, 0.7742052603064081, 0.5, 0.8013507773909496, 0.7995840481851959, 0.7941541839318023, 0.6805736289057667, 0.8240780501182223]}, {\"categories\": [\"0\", \"1\", \"2\", \"3\", \"4\", \"5\", \"6\", \"7\", \"8\", \"9\", \"10\", \"11\", \"12\", \"13\", \"14\", \"15\", \"16\", \"17\", \"18\", \"19\", \"20\", \"21\", \"22\", \"23\", \"24\", \"25\", \"26\", \"27\", \"28\", \"29\", \"30\"], \"mode\": \"lines\", \"name\": \"balanced_accuracy_max\", \"stepped\": true, \"type\": \"scatter\", \"data\": [0.822878269506677, 0.822878269506677, 0.822878269506677, 0.822878269506677, 0.822878269506677, 0.822878269506677, 0.8272831783233505, 0.8272831783233505, 0.8272831783233505, 0.8272831783233505, 0.8272831783233505, 0.8272831783233505, 0.8272831783233505, 0.8272831783233505, 0.8272831783233505, 0.8272831783233505, 0.8272831783233505, 0.8272831783233505, 0.8272831783233505, 0.8272831783233505, 0.8272831783233505, 0.8272831783233505, 0.8272831783233505, 0.8272831783233505, 0.8272831783233505, 0.8272831783233505, 0.8272831783233505, 0.8272831783233505, 0.8272831783233505, 0.8272831783233505, 0.8272831783233505]}], \"recall_score_macro\": [{\"categories\": [\"0\", \"1\", \"2\", \"3\", \"4\", \"5\", \"6\", \"7\", \"8\", \"9\", \"10\", \"11\", \"12\", \"13\", \"14\", \"15\", \"16\", \"17\", \"18\", \"19\", \"20\", \"21\", \"22\", \"23\", \"24\", \"25\", \"26\", \"27\", \"28\", \"29\", \"30\"], \"mode\": \"markers\", \"name\": \"recall_score_macro\", \"stepped\": false, \"type\": \"scatter\", \"data\": [0.822878269506677, 0.7836591552875628, 0.7605376689307822, 0.7403663051439234, 0.8120236829167963, 0.591254142796467, 0.8272831783233505, 0.7919184115740787, 0.787335625875798, 0.7634908432074861, 0.7806319039640417, 0.7772540407942129, 0.6155341072127298, 0.7393920164006248, 0.7223040887854375, 0.7208479648042059, 0.7839741499533466, 0.8085666007832436, 0.7366669676569246, 0.7796861674910456, 0.6939426128629859, 0.7597469424406296, 0.7561053365572734, 0.7309154618695508, 0.7742052603064081, 0.5, 0.8013507773909496, 0.7995840481851959, 0.7941541839318023, 0.6805736289057667, 0.8240780501182223]}, {\"categories\": [\"0\", \"1\", \"2\", \"3\", \"4\", \"5\", \"6\", \"7\", \"8\", \"9\", \"10\", \"11\", \"12\", \"13\", \"14\", \"15\", \"16\", \"17\", \"18\", \"19\", \"20\", \"21\", \"22\", \"23\", \"24\", \"25\", \"26\", \"27\", \"28\", \"29\", \"30\"], \"mode\": \"lines\", \"name\": \"recall_score_macro_max\", \"stepped\": true, \"type\": \"scatter\", \"data\": [0.822878269506677, 0.822878269506677, 0.822878269506677, 0.822878269506677, 0.822878269506677, 0.822878269506677, 0.8272831783233505, 0.8272831783233505, 0.8272831783233505, 0.8272831783233505, 0.8272831783233505, 0.8272831783233505, 0.8272831783233505, 0.8272831783233505, 0.8272831783233505, 0.8272831783233505, 0.8272831783233505, 0.8272831783233505, 0.8272831783233505, 0.8272831783233505, 0.8272831783233505, 0.8272831783233505, 0.8272831783233505, 0.8272831783233505, 0.8272831783233505, 0.8272831783233505, 0.8272831783233505, 0.8272831783233505, 0.8272831783233505, 0.8272831783233505, 0.8272831783233505]}], \"average_precision_score_weighted\": [{\"categories\": [\"0\", \"1\", \"2\", \"3\", \"4\", \"5\", \"6\", \"7\", \"8\", \"9\", \"10\", \"11\", \"12\", \"13\", \"14\", \"15\", \"16\", \"17\", \"18\", \"19\", \"20\", \"21\", \"22\", \"23\", \"24\", \"25\", \"26\", \"27\", \"28\", \"29\", \"30\"], \"mode\": \"markers\", \"name\": \"average_precision_score_weighted\", \"stepped\": false, \"type\": \"scatter\", \"data\": [0.8915451155516638, 0.8913470012602862, 0.8961639669849726, 0.8749301371567985, 0.8836010755729575, 0.7736799177215785, 0.8918432865605734, 0.8765168372131058, 0.8713095437736048, 0.8725454318264576, 0.8790592247669682, 0.8939043081928485, 0.8965451662467712, 0.8600788027859689, 0.8945349998750345, 0.8739009265965001, 0.9009731174863231, 0.8890117193234185, 0.8533995199001521, 0.8917596857332494, 0.881299343105653, 0.8466207619568875, 0.876625769449142, 0.8740482456786656, 0.8648811886506418, 0.7428593023629142, 0.8975489697376579, 0.8774909730214753, 0.8989756571328316, 0.8833022728612102, 0.8949588279552736]}, {\"categories\": [\"0\", \"1\", \"2\", \"3\", \"4\", \"5\", \"6\", \"7\", \"8\", \"9\", \"10\", \"11\", \"12\", \"13\", \"14\", \"15\", \"16\", \"17\", \"18\", \"19\", \"20\", \"21\", \"22\", \"23\", \"24\", \"25\", \"26\", \"27\", \"28\", \"29\", \"30\"], \"mode\": \"lines\", \"name\": \"average_precision_score_weighted_max\", \"stepped\": true, \"type\": \"scatter\", \"data\": [0.8915451155516638, 0.8915451155516638, 0.8961639669849726, 0.8961639669849726, 0.8961639669849726, 0.8961639669849726, 0.8961639669849726, 0.8961639669849726, 0.8961639669849726, 0.8961639669849726, 0.8961639669849726, 0.8961639669849726, 0.8965451662467712, 0.8965451662467712, 0.8965451662467712, 0.8965451662467712, 0.9009731174863231, 0.9009731174863231, 0.9009731174863231, 0.9009731174863231, 0.9009731174863231, 0.9009731174863231, 0.9009731174863231, 0.9009731174863231, 0.9009731174863231, 0.9009731174863231, 0.9009731174863231, 0.9009731174863231, 0.9009731174863231, 0.9009731174863231, 0.9009731174863231]}], \"average_precision_score_macro\": [{\"categories\": [\"0\", \"1\", \"2\", \"3\", \"4\", \"5\", \"6\", \"7\", \"8\", \"9\", \"10\", \"11\", \"12\", \"13\", \"14\", \"15\", \"16\", \"17\", \"18\", \"19\", \"20\", \"21\", \"22\", \"23\", \"24\", \"25\", \"26\", \"27\", \"28\", \"29\", \"30\"], \"mode\": \"markers\", \"name\": \"average_precision_score_macro\", \"stepped\": false, \"type\": \"scatter\", \"data\": [0.8579123380657636, 0.8603521141324126, 0.8670024788638219, 0.8395087508737461, 0.8598935708787732, 0.7249147862464846, 0.8628411026717255, 0.8406810090301156, 0.8415608028608399, 0.8418013918496077, 0.8469268177843186, 0.8657262104342061, 0.872102386900308, 0.820261583720604, 0.8737097441345314, 0.8457939445556326, 0.8707644439285621, 0.8560473768789854, 0.8147596049984247, 0.8621264798161612, 0.8505884793736966, 0.8118010984684878, 0.8450690351260183, 0.843563180643859, 0.8396104903336473, 0.6971645423326724, 0.8695358066750447, 0.8470882029197309, 0.872254455461813, 0.8506551394417724, 0.8651058672309662]}, {\"categories\": [\"0\", \"1\", \"2\", \"3\", \"4\", \"5\", \"6\", \"7\", \"8\", \"9\", \"10\", \"11\", \"12\", \"13\", \"14\", \"15\", \"16\", \"17\", \"18\", \"19\", \"20\", \"21\", \"22\", \"23\", \"24\", \"25\", \"26\", \"27\", \"28\", \"29\", \"30\"], \"mode\": \"lines\", \"name\": \"average_precision_score_macro_max\", \"stepped\": true, \"type\": \"scatter\", \"data\": [0.8579123380657636, 0.8603521141324126, 0.8670024788638219, 0.8670024788638219, 0.8670024788638219, 0.8670024788638219, 0.8670024788638219, 0.8670024788638219, 0.8670024788638219, 0.8670024788638219, 0.8670024788638219, 0.8670024788638219, 0.872102386900308, 0.872102386900308, 0.8737097441345314, 0.8737097441345314, 0.8737097441345314, 0.8737097441345314, 0.8737097441345314, 0.8737097441345314, 0.8737097441345314, 0.8737097441345314, 0.8737097441345314, 0.8737097441345314, 0.8737097441345314, 0.8737097441345314, 0.8737097441345314, 0.8737097441345314, 0.8737097441345314, 0.8737097441345314, 0.8737097441345314]}], \"log_loss\": [{\"categories\": [\"0\", \"1\", \"2\", \"3\", \"4\", \"5\", \"6\", \"7\", \"8\", \"9\", \"10\", \"11\", \"12\", \"13\", \"14\", \"15\", \"16\", \"17\", \"18\", \"19\", \"20\", \"21\", \"22\", \"23\", \"24\", \"25\", \"26\", \"27\", \"28\", \"29\", \"30\"], \"mode\": \"markers\", \"name\": \"log_loss\", \"stepped\": false, \"type\": \"scatter\", \"data\": [0.46771146352100657, 0.4372842127269605, 0.4065722076938265, 0.45272808954331617, 0.42524795417812317, 0.5773162235269879, 0.3910068947924633, 0.42374890461731807, 0.43275083935629616, 0.44336466294750426, 0.4150025121695867, 0.4477095191560204, 0.5239244970185938, 0.5055109090583003, 0.4864325929861371, 0.5144951790103324, 0.4130782003833423, 0.40569696970828223, 0.8934286479342661, 0.4188354003693635, 0.47944920120024465, 0.5624867969864662, 0.46436396871893515, 0.5174059824910244, 0.49710615668021835, 0.6295644156724755, 0.4108736713110689, 0.42778809274417884, 0.41827565787980747, 0.49303507980973915, 0.39099415685263816]}, {\"categories\": [\"0\", \"1\", \"2\", \"3\", \"4\", \"5\", \"6\", \"7\", \"8\", \"9\", \"10\", \"11\", \"12\", \"13\", \"14\", \"15\", \"16\", \"17\", \"18\", \"19\", \"20\", \"21\", \"22\", \"23\", \"24\", \"25\", \"26\", \"27\", \"28\", \"29\", \"30\"], \"mode\": \"lines\", \"name\": \"log_loss_min\", \"stepped\": true, \"type\": \"scatter\", \"data\": [0.46771146352100657, 0.4372842127269605, 0.4065722076938265, 0.4065722076938265, 0.4065722076938265, 0.4065722076938265, 0.3910068947924633, 0.3910068947924633, 0.3910068947924633, 0.3910068947924633, 0.3910068947924633, 0.3910068947924633, 0.3910068947924633, 0.3910068947924633, 0.3910068947924633, 0.3910068947924633, 0.3910068947924633, 0.3910068947924633, 0.3910068947924633, 0.3910068947924633, 0.3910068947924633, 0.3910068947924633, 0.3910068947924633, 0.3910068947924633, 0.3910068947924633, 0.3910068947924633, 0.3910068947924633, 0.3910068947924633, 0.3910068947924633, 0.3910068947924633, 0.39099415685263816]}], \"AUC_weighted\": [{\"categories\": [\"0\", \"1\", \"2\", \"3\", \"4\", \"5\", \"6\", \"7\", \"8\", \"9\", \"10\", \"11\", \"12\", \"13\", \"14\", \"15\", \"16\", \"17\", \"18\", \"19\", \"20\", \"21\", \"22\", \"23\", \"24\", \"25\", \"26\", \"27\", \"28\", \"29\", \"30\"], \"mode\": \"markers\", \"name\": \"AUC_weighted\", \"stepped\": false, \"type\": \"scatter\", \"data\": [0.8931070304635584, 0.8921181102493871, 0.890070582215489, 0.8666925852722123, 0.8798719871711264, 0.7457578767478338, 0.8915759515472571, 0.8826141338336461, 0.8700370677863505, 0.8684209800242799, 0.8796146823047828, 0.8953543616832712, 0.8926195516582891, 0.8543700232096931, 0.8864118157070093, 0.8635955836368319, 0.9003649088835602, 0.8903881269376248, 0.8539499282998207, 0.8899771080187149, 0.8720773845953187, 0.8340260707728426, 0.8696450070732711, 0.8730628559627843, 0.8630606988659355, 0.6923776934447666, 0.8942150717527331, 0.8765219237959554, 0.8965282027871698, 0.8782882767638865, 0.8933644607425095]}, {\"categories\": [\"0\", \"1\", \"2\", \"3\", \"4\", \"5\", \"6\", \"7\", \"8\", \"9\", \"10\", \"11\", \"12\", \"13\", \"14\", \"15\", \"16\", \"17\", \"18\", \"19\", \"20\", \"21\", \"22\", \"23\", \"24\", \"25\", \"26\", \"27\", \"28\", \"29\", \"30\"], \"mode\": \"lines\", \"name\": \"AUC_weighted_max\", \"stepped\": true, \"type\": \"scatter\", \"data\": [0.8931070304635584, 0.8931070304635584, 0.8931070304635584, 0.8931070304635584, 0.8931070304635584, 0.8931070304635584, 0.8931070304635584, 0.8931070304635584, 0.8931070304635584, 0.8931070304635584, 0.8931070304635584, 0.8953543616832712, 0.8953543616832712, 0.8953543616832712, 0.8953543616832712, 0.8953543616832712, 0.9003649088835602, 0.9003649088835602, 0.9003649088835602, 0.9003649088835602, 0.9003649088835602, 0.9003649088835602, 0.9003649088835602, 0.9003649088835602, 0.9003649088835602, 0.9003649088835602, 0.9003649088835602, 0.9003649088835602, 0.9003649088835602, 0.9003649088835602, 0.9003649088835602]}], \"f1_score_micro\": [{\"categories\": [\"0\", \"1\", \"2\", \"3\", \"4\", \"5\", \"6\", \"7\", \"8\", \"9\", \"10\", \"11\", \"12\", \"13\", \"14\", \"15\", \"16\", \"17\", \"18\", \"19\", \"20\", \"21\", \"22\", \"23\", \"24\", \"25\", \"26\", \"27\", \"28\", \"29\", \"30\"], \"mode\": \"markers\", \"name\": \"f1_score_micro\", \"stepped\": false, \"type\": \"scatter\", \"data\": [0.8437499999999999, 0.8169642857142856, 0.7946428571428572, 0.7857142857142857, 0.8303571428571428, 0.6741071428571429, 0.8526785714285714, 0.8303571428571428, 0.8169642857142858, 0.7991071428571428, 0.8125, 0.8214285714285714, 0.7366071428571429, 0.78125, 0.7857142857142858, 0.7723214285714286, 0.8169642857142857, 0.8348214285714286, 0.7633928571428572, 0.8169642857142858, 0.7678571428571429, 0.7767857142857142, 0.8125, 0.7857142857142856, 0.8169642857142858, 0.6607142857142857, 0.8303571428571428, 0.8348214285714286, 0.8258928571428572, 0.7589285714285715, 0.8482142857142857]}, {\"categories\": [\"0\", \"1\", \"2\", \"3\", \"4\", \"5\", \"6\", \"7\", \"8\", \"9\", \"10\", \"11\", \"12\", \"13\", \"14\", \"15\", \"16\", \"17\", \"18\", \"19\", \"20\", \"21\", \"22\", \"23\", \"24\", \"25\", \"26\", \"27\", \"28\", \"29\", \"30\"], \"mode\": \"lines\", \"name\": \"f1_score_micro_max\", \"stepped\": true, \"type\": \"scatter\", \"data\": [0.8437499999999999, 0.8437499999999999, 0.8437499999999999, 0.8437499999999999, 0.8437499999999999, 0.8437499999999999, 0.8526785714285714, 0.8526785714285714, 0.8526785714285714, 0.8526785714285714, 0.8526785714285714, 0.8526785714285714, 0.8526785714285714, 0.8526785714285714, 0.8526785714285714, 0.8526785714285714, 0.8526785714285714, 0.8526785714285714, 0.8526785714285714, 0.8526785714285714, 0.8526785714285714, 0.8526785714285714, 0.8526785714285714, 0.8526785714285714, 0.8526785714285714, 0.8526785714285714, 0.8526785714285714, 0.8526785714285714, 0.8526785714285714, 0.8526785714285714, 0.8526785714285714]}], \"precision_score_micro\": [{\"categories\": [\"0\", \"1\", \"2\", \"3\", \"4\", \"5\", \"6\", \"7\", \"8\", \"9\", \"10\", \"11\", \"12\", \"13\", \"14\", \"15\", \"16\", \"17\", \"18\", \"19\", \"20\", \"21\", \"22\", \"23\", \"24\", \"25\", \"26\", \"27\", \"28\", \"29\", \"30\"], \"mode\": \"markers\", \"name\": \"precision_score_micro\", \"stepped\": false, \"type\": \"scatter\", \"data\": [0.8437499999999999, 0.8169642857142856, 0.7946428571428572, 0.7857142857142857, 0.8303571428571428, 0.6741071428571429, 0.8526785714285714, 0.8303571428571428, 0.8169642857142858, 0.7991071428571428, 0.8125, 0.8214285714285714, 0.7366071428571429, 0.78125, 0.7857142857142858, 0.7723214285714286, 0.8169642857142857, 0.8348214285714286, 0.7633928571428572, 0.8169642857142858, 0.7678571428571429, 0.7767857142857142, 0.8125, 0.7857142857142856, 0.8169642857142858, 0.6607142857142857, 0.8303571428571428, 0.8348214285714286, 0.8258928571428572, 0.7589285714285715, 0.8482142857142857]}, {\"categories\": [\"0\", \"1\", \"2\", \"3\", \"4\", \"5\", \"6\", \"7\", \"8\", \"9\", \"10\", \"11\", \"12\", \"13\", \"14\", \"15\", \"16\", \"17\", \"18\", \"19\", \"20\", \"21\", \"22\", \"23\", \"24\", \"25\", \"26\", \"27\", \"28\", \"29\", \"30\"], \"mode\": \"lines\", \"name\": \"precision_score_micro_max\", \"stepped\": true, \"type\": \"scatter\", \"data\": [0.8437499999999999, 0.8437499999999999, 0.8437499999999999, 0.8437499999999999, 0.8437499999999999, 0.8437499999999999, 0.8526785714285714, 0.8526785714285714, 0.8526785714285714, 0.8526785714285714, 0.8526785714285714, 0.8526785714285714, 0.8526785714285714, 0.8526785714285714, 0.8526785714285714, 0.8526785714285714, 0.8526785714285714, 0.8526785714285714, 0.8526785714285714, 0.8526785714285714, 0.8526785714285714, 0.8526785714285714, 0.8526785714285714, 0.8526785714285714, 0.8526785714285714, 0.8526785714285714, 0.8526785714285714, 0.8526785714285714, 0.8526785714285714, 0.8526785714285714, 0.8526785714285714]}], \"f1_score_weighted\": [{\"categories\": [\"0\", \"1\", \"2\", \"3\", \"4\", \"5\", \"6\", \"7\", \"8\", \"9\", \"10\", \"11\", \"12\", \"13\", \"14\", \"15\", \"16\", \"17\", \"18\", \"19\", \"20\", \"21\", \"22\", \"23\", \"24\", \"25\", \"26\", \"27\", \"28\", \"29\", \"30\"], \"mode\": \"markers\", \"name\": \"f1_score_weighted\", \"stepped\": false, \"type\": \"scatter\", \"data\": [0.843781887755102, 0.8135631417252809, 0.7914955268005232, 0.7753859311273417, 0.8299846719952493, 0.6469738650536759, 0.8514396384822305, 0.8259173323934836, 0.8142300869295112, 0.7944418676561533, 0.810562179177639, 0.8150087426742776, 0.6791886816458984, 0.7762109873607047, 0.7675212213488499, 0.7650128827122504, 0.8137643094222041, 0.8325259065505151, 0.7638097005135762, 0.8112572605820941, 0.748375879754045, 0.7789074884896778, 0.802515168208095, 0.7757278893256392, 0.8110333771397722, 0.5270474295704897, 0.8276349677334266, 0.8311719144917955, 0.8227274000242372, 0.7339962215420545, 0.8471721200927028]}, {\"categories\": [\"0\", \"1\", \"2\", \"3\", \"4\", \"5\", \"6\", \"7\", \"8\", \"9\", \"10\", \"11\", \"12\", \"13\", \"14\", \"15\", \"16\", \"17\", \"18\", \"19\", \"20\", \"21\", \"22\", \"23\", \"24\", \"25\", \"26\", \"27\", \"28\", \"29\", \"30\"], \"mode\": \"lines\", \"name\": \"f1_score_weighted_max\", \"stepped\": true, \"type\": \"scatter\", \"data\": [0.843781887755102, 0.843781887755102, 0.843781887755102, 0.843781887755102, 0.843781887755102, 0.843781887755102, 0.8514396384822305, 0.8514396384822305, 0.8514396384822305, 0.8514396384822305, 0.8514396384822305, 0.8514396384822305, 0.8514396384822305, 0.8514396384822305, 0.8514396384822305, 0.8514396384822305, 0.8514396384822305, 0.8514396384822305, 0.8514396384822305, 0.8514396384822305, 0.8514396384822305, 0.8514396384822305, 0.8514396384822305, 0.8514396384822305, 0.8514396384822305, 0.8514396384822305, 0.8514396384822305, 0.8514396384822305, 0.8514396384822305, 0.8514396384822305, 0.8514396384822305]}], \"matthews_correlation\": [{\"categories\": [\"0\", \"1\", \"2\", \"3\", \"4\", \"5\", \"6\", \"7\", \"8\", \"9\", \"10\", \"11\", \"12\", \"13\", \"14\", \"15\", \"16\", \"17\", \"18\", \"19\", \"20\", \"21\", \"22\", \"23\", \"24\", \"25\", \"26\", \"27\", \"28\", \"29\", \"30\"], \"mode\": \"markers\", \"name\": \"matthews_correlation\", \"stepped\": false, \"type\": \"scatter\", \"data\": [0.6488045728305141, 0.588185322720192, 0.5392779003978355, 0.5192569921060878, 0.6240900810382155, 0.21464211070539177, 0.6668815981626451, 0.6137872384673937, 0.588257982169817, 0.54648614076623, 0.5750695270469588, 0.5938693316980741, 0.38791244055691765, 0.5047517498900276, 0.5157203102022397, 0.47496781121080645, 0.5899446964116182, 0.6315188288336121, 0.4771632661100125, 0.5895182683946187, 0.4584789515817308, 0.510794149890626, 0.5703226879635228, 0.5087598508372475, 0.585205812522124, 0.0, 0.6205743929518672, 0.627242951351044, 0.6091835496278659, 0.44425738849138974, 0.6584257815491596]}, {\"categories\": [\"0\", \"1\", \"2\", \"3\", \"4\", \"5\", \"6\", \"7\", \"8\", \"9\", \"10\", \"11\", \"12\", \"13\", \"14\", \"15\", \"16\", \"17\", \"18\", \"19\", \"20\", \"21\", \"22\", \"23\", \"24\", \"25\", \"26\", \"27\", \"28\", \"29\", \"30\"], \"mode\": \"lines\", \"name\": \"matthews_correlation_max\", \"stepped\": true, \"type\": \"scatter\", \"data\": [0.6488045728305141, 0.6488045728305141, 0.6488045728305141, 0.6488045728305141, 0.6488045728305141, 0.6488045728305141, 0.6668815981626451, 0.6668815981626451, 0.6668815981626451, 0.6668815981626451, 0.6668815981626451, 0.6668815981626451, 0.6668815981626451, 0.6668815981626451, 0.6668815981626451, 0.6668815981626451, 0.6668815981626451, 0.6668815981626451, 0.6668815981626451, 0.6668815981626451, 0.6668815981626451, 0.6668815981626451, 0.6668815981626451, 0.6668815981626451, 0.6668815981626451, 0.6668815981626451, 0.6668815981626451, 0.6668815981626451, 0.6668815981626451, 0.6668815981626451, 0.6668815981626451]}], \"norm_macro_recall\": [{\"categories\": [\"0\", \"1\", \"2\", \"3\", \"4\", \"5\", \"6\", \"7\", \"8\", \"9\", \"10\", \"11\", \"12\", \"13\", \"14\", \"15\", \"16\", \"17\", \"18\", \"19\", \"20\", \"21\", \"22\", \"23\", \"24\", \"25\", \"26\", \"27\", \"28\", \"29\", \"30\"], \"mode\": \"markers\", \"name\": \"norm_macro_recall\", \"stepped\": false, \"type\": \"scatter\", \"data\": [0.645756539013354, 0.5673183105751255, 0.5210753378615646, 0.480732610287847, 0.6240473658335925, 0.18250828559293408, 0.654566356646701, 0.5838368231481574, 0.5746712517515961, 0.5269816864149719, 0.5612638079280834, 0.5545080815884259, 0.23106821442545977, 0.4787840328012495, 0.44460817757087484, 0.4416959296084117, 0.5679482999066929, 0.6171332015664871, 0.47333393531384926, 0.5593723349820912, 0.38788522572597184, 0.5194938848812594, 0.5122106731145468, 0.4618309237391016, 0.5484105206128161, 0.0, 0.6027015547818992, 0.5991680963703919, 0.5883083678636046, 0.3611472578115333, 0.6481561002364447]}, {\"categories\": [\"0\", \"1\", \"2\", \"3\", \"4\", \"5\", \"6\", \"7\", \"8\", \"9\", \"10\", \"11\", \"12\", \"13\", \"14\", \"15\", \"16\", \"17\", \"18\", \"19\", \"20\", \"21\", \"22\", \"23\", \"24\", \"25\", \"26\", \"27\", \"28\", \"29\", \"30\"], \"mode\": \"lines\", \"name\": \"norm_macro_recall_max\", \"stepped\": true, \"type\": \"scatter\", \"data\": [0.645756539013354, 0.645756539013354, 0.645756539013354, 0.645756539013354, 0.645756539013354, 0.645756539013354, 0.654566356646701, 0.654566356646701, 0.654566356646701, 0.654566356646701, 0.654566356646701, 0.654566356646701, 0.654566356646701, 0.654566356646701, 0.654566356646701, 0.654566356646701, 0.654566356646701, 0.654566356646701, 0.654566356646701, 0.654566356646701, 0.654566356646701, 0.654566356646701, 0.654566356646701, 0.654566356646701, 0.654566356646701, 0.654566356646701, 0.654566356646701, 0.654566356646701, 0.654566356646701, 0.654566356646701, 0.654566356646701]}], \"average_precision_score_micro\": [{\"categories\": [\"0\", \"1\", \"2\", \"3\", \"4\", \"5\", \"6\", \"7\", \"8\", \"9\", \"10\", \"11\", \"12\", \"13\", \"14\", \"15\", \"16\", \"17\", \"18\", \"19\", \"20\", \"21\", \"22\", \"23\", \"24\", \"25\", \"26\", \"27\", \"28\", \"29\", \"30\"], \"mode\": \"markers\", \"name\": \"average_precision_score_micro\", \"stepped\": false, \"type\": \"scatter\", \"data\": [0.8967964692616329, 0.9006146716438024, 0.8992356349125934, 0.8781079515674783, 0.8884790628538034, 0.7894835391985775, 0.9023036133513627, 0.8940839863511454, 0.8788569339698461, 0.8757568036946091, 0.8879865260160806, 0.8978770746829912, 0.8582710018364916, 0.8745782024611689, 0.8783362442449975, 0.8787423268125855, 0.9113720191166453, 0.9011814360743678, 0.8540992768344278, 0.8974515692881755, 0.8774355567546165, 0.8453556024704415, 0.8779229704968791, 0.8813241417124922, 0.8712225197999484, 0.7542766006364693, 0.907150033514907, 0.8860467083756659, 0.9041324623325644, 0.8731188070580438, 0.903503086823612]}, {\"categories\": [\"0\", \"1\", \"2\", \"3\", \"4\", \"5\", \"6\", \"7\", \"8\", \"9\", \"10\", \"11\", \"12\", \"13\", \"14\", \"15\", \"16\", \"17\", \"18\", \"19\", \"20\", \"21\", \"22\", \"23\", \"24\", \"25\", \"26\", \"27\", \"28\", \"29\", \"30\"], \"mode\": \"lines\", \"name\": \"average_precision_score_micro_max\", \"stepped\": true, \"type\": \"scatter\", \"data\": [0.8967964692616329, 0.9006146716438024, 0.9006146716438024, 0.9006146716438024, 0.9006146716438024, 0.9006146716438024, 0.9023036133513627, 0.9023036133513627, 0.9023036133513627, 0.9023036133513627, 0.9023036133513627, 0.9023036133513627, 0.9023036133513627, 0.9023036133513627, 0.9023036133513627, 0.9023036133513627, 0.9113720191166453, 0.9113720191166453, 0.9113720191166453, 0.9113720191166453, 0.9113720191166453, 0.9113720191166453, 0.9113720191166453, 0.9113720191166453, 0.9113720191166453, 0.9113720191166453, 0.9113720191166453, 0.9113720191166453, 0.9113720191166453, 0.9113720191166453, 0.9113720191166453]}], \"AUC_macro\": [{\"categories\": [\"0\", \"1\", \"2\", \"3\", \"4\", \"5\", \"6\", \"7\", \"8\", \"9\", \"10\", \"11\", \"12\", \"13\", \"14\", \"15\", \"16\", \"17\", \"18\", \"19\", \"20\", \"21\", \"22\", \"23\", \"24\", \"25\", \"26\", \"27\", \"28\", \"29\", \"30\"], \"mode\": \"markers\", \"name\": \"AUC_macro\", \"stepped\": false, \"type\": \"scatter\", \"data\": [0.8931070304635584, 0.8921181102493871, 0.890070582215489, 0.8666925852722123, 0.8798719871711264, 0.7457578767478337, 0.8915759515472572, 0.8826141338336461, 0.8700370677863505, 0.8684209800242799, 0.8796146823047826, 0.8953543616832713, 0.8926195516582891, 0.8543700232096931, 0.8864118157070093, 0.8635955836368318, 0.9003649088835601, 0.8903881269376248, 0.8539857380782775, 0.8899771080187149, 0.8720773845953187, 0.8340260707728426, 0.8696450070732711, 0.8730628559627842, 0.8630606988659356, 0.6923776934447666, 0.8942150717527331, 0.8765219237959554, 0.8965282027871698, 0.8782882767638864, 0.8933644607425095]}, {\"categories\": [\"0\", \"1\", \"2\", \"3\", \"4\", \"5\", \"6\", \"7\", \"8\", \"9\", \"10\", \"11\", \"12\", \"13\", \"14\", \"15\", \"16\", \"17\", \"18\", \"19\", \"20\", \"21\", \"22\", \"23\", \"24\", \"25\", \"26\", \"27\", \"28\", \"29\", \"30\"], \"mode\": \"lines\", \"name\": \"AUC_macro_max\", \"stepped\": true, \"type\": \"scatter\", \"data\": [0.8931070304635584, 0.8931070304635584, 0.8931070304635584, 0.8931070304635584, 0.8931070304635584, 0.8931070304635584, 0.8931070304635584, 0.8931070304635584, 0.8931070304635584, 0.8931070304635584, 0.8931070304635584, 0.8953543616832713, 0.8953543616832713, 0.8953543616832713, 0.8953543616832713, 0.8953543616832713, 0.9003649088835601, 0.9003649088835601, 0.9003649088835601, 0.9003649088835601, 0.9003649088835601, 0.9003649088835601, 0.9003649088835601, 0.9003649088835601, 0.9003649088835601, 0.9003649088835601, 0.9003649088835601, 0.9003649088835601, 0.9003649088835601, 0.9003649088835601, 0.9003649088835601]}], \"recall_score_weighted\": [{\"categories\": [\"0\", \"1\", \"2\", \"3\", \"4\", \"5\", \"6\", \"7\", \"8\", \"9\", \"10\", \"11\", \"12\", \"13\", \"14\", \"15\", \"16\", \"17\", \"18\", \"19\", \"20\", \"21\", \"22\", \"23\", \"24\", \"25\", \"26\", \"27\", \"28\", \"29\", \"30\"], \"mode\": \"markers\", \"name\": \"recall_score_weighted\", \"stepped\": false, \"type\": \"scatter\", \"data\": [0.8437499999999999, 0.8169642857142856, 0.7946428571428572, 0.7857142857142857, 0.8303571428571428, 0.6741071428571429, 0.8526785714285714, 0.8303571428571428, 0.8169642857142858, 0.7991071428571428, 0.8125, 0.8214285714285714, 0.7366071428571429, 0.78125, 0.7857142857142858, 0.7723214285714286, 0.8169642857142857, 0.8348214285714286, 0.7633928571428572, 0.8169642857142858, 0.7678571428571429, 0.7767857142857142, 0.8125, 0.7857142857142856, 0.8169642857142858, 0.6607142857142857, 0.8303571428571428, 0.8348214285714286, 0.8258928571428572, 0.7589285714285715, 0.8482142857142857]}, {\"categories\": [\"0\", \"1\", \"2\", \"3\", \"4\", \"5\", \"6\", \"7\", \"8\", \"9\", \"10\", \"11\", \"12\", \"13\", \"14\", \"15\", \"16\", \"17\", \"18\", \"19\", \"20\", \"21\", \"22\", \"23\", \"24\", \"25\", \"26\", \"27\", \"28\", \"29\", \"30\"], \"mode\": \"lines\", \"name\": \"recall_score_weighted_max\", \"stepped\": true, \"type\": \"scatter\", \"data\": [0.8437499999999999, 0.8437499999999999, 0.8437499999999999, 0.8437499999999999, 0.8437499999999999, 0.8437499999999999, 0.8526785714285714, 0.8526785714285714, 0.8526785714285714, 0.8526785714285714, 0.8526785714285714, 0.8526785714285714, 0.8526785714285714, 0.8526785714285714, 0.8526785714285714, 0.8526785714285714, 0.8526785714285714, 0.8526785714285714, 0.8526785714285714, 0.8526785714285714, 0.8526785714285714, 0.8526785714285714, 0.8526785714285714, 0.8526785714285714, 0.8526785714285714, 0.8526785714285714, 0.8526785714285714, 0.8526785714285714, 0.8526785714285714, 0.8526785714285714, 0.8526785714285714]}], \"recall_score_micro\": [{\"categories\": [\"0\", \"1\", \"2\", \"3\", \"4\", \"5\", \"6\", \"7\", \"8\", \"9\", \"10\", \"11\", \"12\", \"13\", \"14\", \"15\", \"16\", \"17\", \"18\", \"19\", \"20\", \"21\", \"22\", \"23\", \"24\", \"25\", \"26\", \"27\", \"28\", \"29\", \"30\"], \"mode\": \"markers\", \"name\": \"recall_score_micro\", \"stepped\": false, \"type\": \"scatter\", \"data\": [0.8437499999999999, 0.8169642857142856, 0.7946428571428572, 0.7857142857142857, 0.8303571428571428, 0.6741071428571429, 0.8526785714285714, 0.8303571428571428, 0.8169642857142858, 0.7991071428571428, 0.8125, 0.8214285714285714, 0.7366071428571429, 0.78125, 0.7857142857142858, 0.7723214285714286, 0.8169642857142857, 0.8348214285714286, 0.7633928571428572, 0.8169642857142858, 0.7678571428571429, 0.7767857142857142, 0.8125, 0.7857142857142856, 0.8169642857142858, 0.6607142857142857, 0.8303571428571428, 0.8348214285714286, 0.8258928571428572, 0.7589285714285715, 0.8482142857142857]}, {\"categories\": [\"0\", \"1\", \"2\", \"3\", \"4\", \"5\", \"6\", \"7\", \"8\", \"9\", \"10\", \"11\", \"12\", \"13\", \"14\", \"15\", \"16\", \"17\", \"18\", \"19\", \"20\", \"21\", \"22\", \"23\", \"24\", \"25\", \"26\", \"27\", \"28\", \"29\", \"30\"], \"mode\": \"lines\", \"name\": \"recall_score_micro_max\", \"stepped\": true, \"type\": \"scatter\", \"data\": [0.8437499999999999, 0.8437499999999999, 0.8437499999999999, 0.8437499999999999, 0.8437499999999999, 0.8437499999999999, 0.8526785714285714, 0.8526785714285714, 0.8526785714285714, 0.8526785714285714, 0.8526785714285714, 0.8526785714285714, 0.8526785714285714, 0.8526785714285714, 0.8526785714285714, 0.8526785714285714, 0.8526785714285714, 0.8526785714285714, 0.8526785714285714, 0.8526785714285714, 0.8526785714285714, 0.8526785714285714, 0.8526785714285714, 0.8526785714285714, 0.8526785714285714, 0.8526785714285714, 0.8526785714285714, 0.8526785714285714, 0.8526785714285714, 0.8526785714285714, 0.8526785714285714]}], \"precision_score_macro\": [{\"categories\": [\"0\", \"1\", \"2\", \"3\", \"4\", \"5\", \"6\", \"7\", \"8\", \"9\", \"10\", \"11\", \"12\", \"13\", \"14\", \"15\", \"16\", \"17\", \"18\", \"19\", \"20\", \"21\", \"22\", \"23\", \"24\", \"25\", \"26\", \"27\", \"28\", \"29\", \"30\"], \"mode\": \"markers\", \"name\": \"precision_score_macro\", \"stepped\": false, \"type\": \"scatter\", \"data\": [0.8262807282157127, 0.8058393001262584, 0.7800477756892231, 0.783008979387145, 0.8126169710922033, 0.6277601828574617, 0.8401540867194891, 0.8232715936181918, 0.8016744644888995, 0.7843718621733202, 0.7948882444587723, 0.8186265969802555, 0.8272228506787329, 0.767888870479331, 0.8029552870427106, 0.7561501917200446, 0.8072409440088355, 0.8242391799377093, 0.7414505251343171, 0.812033981750124, 0.7722987857296368, 0.7514399520978469, 0.8181382570917455, 0.7813218498272383, 0.8130371660859467, 0.33035714285714285, 0.8204061361880588, 0.8290762740368193, 0.8164154696143293, 0.777037175212641, 0.8350309514831574]}, {\"categories\": [\"0\", \"1\", \"2\", \"3\", \"4\", \"5\", \"6\", \"7\", \"8\", \"9\", \"10\", \"11\", \"12\", \"13\", \"14\", \"15\", \"16\", \"17\", \"18\", \"19\", \"20\", \"21\", \"22\", \"23\", \"24\", \"25\", \"26\", \"27\", \"28\", \"29\", \"30\"], \"mode\": \"lines\", \"name\": \"precision_score_macro_max\", \"stepped\": true, \"type\": \"scatter\", \"data\": [0.8262807282157127, 0.8262807282157127, 0.8262807282157127, 0.8262807282157127, 0.8262807282157127, 0.8262807282157127, 0.8401540867194891, 0.8401540867194891, 0.8401540867194891, 0.8401540867194891, 0.8401540867194891, 0.8401540867194891, 0.8401540867194891, 0.8401540867194891, 0.8401540867194891, 0.8401540867194891, 0.8401540867194891, 0.8401540867194891, 0.8401540867194891, 0.8401540867194891, 0.8401540867194891, 0.8401540867194891, 0.8401540867194891, 0.8401540867194891, 0.8401540867194891, 0.8401540867194891, 0.8401540867194891, 0.8401540867194891, 0.8401540867194891, 0.8401540867194891, 0.8401540867194891]}], \"AUC_micro\": [{\"categories\": [\"0\", \"1\", \"2\", \"3\", \"4\", \"5\", \"6\", \"7\", \"8\", \"9\", \"10\", \"11\", \"12\", \"13\", \"14\", \"15\", \"16\", \"17\", \"18\", \"19\", \"20\", \"21\", \"22\", \"23\", \"24\", \"25\", \"26\", \"27\", \"28\", \"29\", \"30\"], \"mode\": \"markers\", \"name\": \"AUC_micro\", \"stepped\": false, \"type\": \"scatter\", \"data\": [0.8966039540816326, 0.8983577806122449, 0.8938934948979592, 0.8705357142857142, 0.8931760204081634, 0.7759885204081634, 0.9021843112244897, 0.8925382653061223, 0.8821747448979591, 0.877311862244898, 0.8872767857142857, 0.9004304846938775, 0.8500478316326531, 0.8691007653061225, 0.875876913265306, 0.8751594387755102, 0.9066485969387754, 0.8989955357142857, 0.8630420918367346, 0.8954878826530612, 0.8692602040816326, 0.8432716836734694, 0.8727678571428571, 0.8812181122448981, 0.8778698979591837, 0.7462531887755102, 0.9050542091836735, 0.8868781887755102, 0.9047353316326531, 0.8647959183673469, 0.9024234693877551]}, {\"categories\": [\"0\", \"1\", \"2\", \"3\", \"4\", \"5\", \"6\", \"7\", \"8\", \"9\", \"10\", \"11\", \"12\", \"13\", \"14\", \"15\", \"16\", \"17\", \"18\", \"19\", \"20\", \"21\", \"22\", \"23\", \"24\", \"25\", \"26\", \"27\", \"28\", \"29\", \"30\"], \"mode\": \"lines\", \"name\": \"AUC_micro_max\", \"stepped\": true, \"type\": \"scatter\", \"data\": [0.8966039540816326, 0.8983577806122449, 0.8983577806122449, 0.8983577806122449, 0.8983577806122449, 0.8983577806122449, 0.9021843112244897, 0.9021843112244897, 0.9021843112244897, 0.9021843112244897, 0.9021843112244897, 0.9021843112244897, 0.9021843112244897, 0.9021843112244897, 0.9021843112244897, 0.9021843112244897, 0.9066485969387754, 0.9066485969387754, 0.9066485969387754, 0.9066485969387754, 0.9066485969387754, 0.9066485969387754, 0.9066485969387754, 0.9066485969387754, 0.9066485969387754, 0.9066485969387754, 0.9066485969387754, 0.9066485969387754, 0.9066485969387754, 0.9066485969387754, 0.9066485969387754]}], \"precision_score_weighted\": [{\"categories\": [\"0\", \"1\", \"2\", \"3\", \"4\", \"5\", \"6\", \"7\", \"8\", \"9\", \"10\", \"11\", \"12\", \"13\", \"14\", \"15\", \"16\", \"17\", \"18\", \"19\", \"20\", \"21\", \"22\", \"23\", \"24\", \"25\", \"26\", \"27\", \"28\", \"29\", \"30\"], \"mode\": \"markers\", \"name\": \"precision_score_weighted\", \"stepped\": false, \"type\": \"scatter\", \"data\": [0.8476498679768804, 0.8228061317728846, 0.8009937884144885, 0.7974470620745352, 0.8347528535705779, 0.6565893225821354, 0.8562379666893017, 0.8346981347095962, 0.820591027613812, 0.8025096189340376, 0.8147027282572947, 0.827204143852663, 0.7989408936651585, 0.7898774717236889, 0.8038397388443205, 0.7746426728471109, 0.8240658876199233, 0.8413046709068243, 0.7737685150043176, 0.8240990828352808, 0.7785899937828129, 0.7863245963574911, 0.8220640447592276, 0.7936415398001777, 0.8238559295669488, 0.4395727040816326, 0.8369502866812767, 0.8408115098759954, 0.832879386448961, 0.78017708577408, 0.8530677094555771]}, {\"categories\": [\"0\", \"1\", \"2\", \"3\", \"4\", \"5\", \"6\", \"7\", \"8\", \"9\", \"10\", \"11\", \"12\", \"13\", \"14\", \"15\", \"16\", \"17\", \"18\", \"19\", \"20\", \"21\", \"22\", \"23\", \"24\", \"25\", \"26\", \"27\", \"28\", \"29\", \"30\"], \"mode\": \"lines\", \"name\": \"precision_score_weighted_max\", \"stepped\": true, \"type\": \"scatter\", \"data\": [0.8476498679768804, 0.8476498679768804, 0.8476498679768804, 0.8476498679768804, 0.8476498679768804, 0.8476498679768804, 0.8562379666893017, 0.8562379666893017, 0.8562379666893017, 0.8562379666893017, 0.8562379666893017, 0.8562379666893017, 0.8562379666893017, 0.8562379666893017, 0.8562379666893017, 0.8562379666893017, 0.8562379666893017, 0.8562379666893017, 0.8562379666893017, 0.8562379666893017, 0.8562379666893017, 0.8562379666893017, 0.8562379666893017, 0.8562379666893017, 0.8562379666893017, 0.8562379666893017, 0.8562379666893017, 0.8562379666893017, 0.8562379666893017, 0.8562379666893017, 0.8562379666893017]}], \"accuracy\": [{\"categories\": [\"0\", \"1\", \"2\", \"3\", \"4\", \"5\", \"6\", \"7\", \"8\", \"9\", \"10\", \"11\", \"12\", \"13\", \"14\", \"15\", \"16\", \"17\", \"18\", \"19\", \"20\", \"21\", \"22\", \"23\", \"24\", \"25\", \"26\", \"27\", \"28\", \"29\", \"30\"], \"mode\": \"markers\", \"name\": \"accuracy\", \"stepped\": false, \"type\": \"scatter\", \"data\": [0.8437499999999999, 0.8169642857142856, 0.7946428571428572, 0.7857142857142857, 0.8303571428571428, 0.6741071428571429, 0.8526785714285714, 0.8303571428571428, 0.8169642857142858, 0.7991071428571428, 0.8125, 0.8214285714285714, 0.7366071428571429, 0.78125, 0.7857142857142858, 0.7723214285714286, 0.8169642857142857, 0.8348214285714286, 0.7633928571428572, 0.8169642857142858, 0.7678571428571429, 0.7767857142857142, 0.8125, 0.7857142857142856, 0.8169642857142858, 0.6607142857142857, 0.8303571428571428, 0.8348214285714286, 0.8258928571428572, 0.7589285714285715, 0.8482142857142857]}, {\"categories\": [\"0\", \"1\", \"2\", \"3\", \"4\", \"5\", \"6\", \"7\", \"8\", \"9\", \"10\", \"11\", \"12\", \"13\", \"14\", \"15\", \"16\", \"17\", \"18\", \"19\", \"20\", \"21\", \"22\", \"23\", \"24\", \"25\", \"26\", \"27\", \"28\", \"29\", \"30\"], \"mode\": \"lines\", \"name\": \"accuracy_max\", \"stepped\": true, \"type\": \"scatter\", \"data\": [0.8437499999999999, 0.8437499999999999, 0.8437499999999999, 0.8437499999999999, 0.8437499999999999, 0.8437499999999999, 0.8526785714285714, 0.8526785714285714, 0.8526785714285714, 0.8526785714285714, 0.8526785714285714, 0.8526785714285714, 0.8526785714285714, 0.8526785714285714, 0.8526785714285714, 0.8526785714285714, 0.8526785714285714, 0.8526785714285714, 0.8526785714285714, 0.8526785714285714, 0.8526785714285714, 0.8526785714285714, 0.8526785714285714, 0.8526785714285714, 0.8526785714285714, 0.8526785714285714, 0.8526785714285714, 0.8526785714285714, 0.8526785714285714, 0.8526785714285714, 0.8526785714285714]}], \"weighted_accuracy\": [{\"categories\": [\"0\", \"1\", \"2\", \"3\", \"4\", \"5\", \"6\", \"7\", \"8\", \"9\", \"10\", \"11\", \"12\", \"13\", \"14\", \"15\", \"16\", \"17\", \"18\", \"19\", \"20\", \"21\", \"22\", \"23\", \"24\", \"25\", \"26\", \"27\", \"28\", \"29\", \"30\"], \"mode\": \"markers\", \"name\": \"weighted_accuracy\", \"stepped\": false, \"type\": \"scatter\", \"data\": [0.8603431627412805, 0.8436404807095035, 0.8219823483823239, 0.8230087173562222, 0.8454412766555532, 0.7381444923958032, 0.8729459116969469, 0.8605934945681076, 0.8408056201785779, 0.8271517186346057, 0.8374210784516813, 0.8563088403163197, 0.8288114059913072, 0.8124124124937979, 0.8363586988259546, 0.812252482002451, 0.8434276813353897, 0.8558727409652396, 0.7844794691562599, 0.8473260491447302, 0.8250605591913027, 0.7896905484181543, 0.8562362481163959, 0.828819766175029, 0.8509310858567184, 0.7830098301620722, 0.8541445372191138, 0.8629595326102311, 0.8518054567926616, 0.8201825104108149, 0.8675591713654551]}, {\"categories\": [\"0\", \"1\", \"2\", \"3\", \"4\", \"5\", \"6\", \"7\", \"8\", \"9\", \"10\", \"11\", \"12\", \"13\", \"14\", \"15\", \"16\", \"17\", \"18\", \"19\", \"20\", \"21\", \"22\", \"23\", \"24\", \"25\", \"26\", \"27\", \"28\", \"29\", \"30\"], \"mode\": \"lines\", \"name\": \"weighted_accuracy_max\", \"stepped\": true, \"type\": \"scatter\", \"data\": [0.8603431627412805, 0.8603431627412805, 0.8603431627412805, 0.8603431627412805, 0.8603431627412805, 0.8603431627412805, 0.8729459116969469, 0.8729459116969469, 0.8729459116969469, 0.8729459116969469, 0.8729459116969469, 0.8729459116969469, 0.8729459116969469, 0.8729459116969469, 0.8729459116969469, 0.8729459116969469, 0.8729459116969469, 0.8729459116969469, 0.8729459116969469, 0.8729459116969469, 0.8729459116969469, 0.8729459116969469, 0.8729459116969469, 0.8729459116969469, 0.8729459116969469, 0.8729459116969469, 0.8729459116969469, 0.8729459116969469, 0.8729459116969469, 0.8729459116969469, 0.8729459116969469]}]}, \"metricName\": null, \"primaryMetricName\": \"accuracy\", \"showLegend\": false}, \"run_metrics\": [{\"name\": \"experiment_status\", \"run_id\": \"AutoML_ff688dad-3209-4522-a54b-3bb5e88c928e\", \"categories\": [0, 1, 2, 3, 4, 5, 6, 7, 8, 9, 10, 11, 12, 13], \"series\": [{\"data\": [\"DatasetEvaluation\", \"FeaturesGeneration\", \"DatasetFeaturization\", \"DatasetFeaturizationCompleted\", \"DatasetCrossValidationSplit\", \"ModelSelection\", \"BestRunExplainModel\", \"ModelExplanationDataSetSetup\", \"PickSurrogateModel\", \"EngineeredFeatureExplanations\", \"EngineeredFeatureExplanations\", \"RawFeaturesExplanations\", \"RawFeaturesExplanations\", \"BestRunExplainModel\"]}]}, {\"name\": \"experiment_status_description\", \"run_id\": \"AutoML_ff688dad-3209-4522-a54b-3bb5e88c928e\", \"categories\": [0, 1, 2, 3, 4, 5, 6, 7, 8, 9, 10, 11, 12, 13], \"series\": [{\"data\": [\"Gathering dataset statistics.\", \"Generating features for the dataset.\", \"Beginning to fit featurizers and featurize the dataset.\", \"Completed fit featurizers and featurizing the dataset.\", \"Generating individually featurized CV splits.\", \"Beginning model selection.\", \"Best run model explanations started\", \"Model explanations data setup completed\", \"Choosing LightGBM as the surrogate model for explanations\", \"Computation of engineered features started\", \"Computation of engineered features completed\", \"Computation of raw features started\", \"Computation of raw features completed\", \"Best run model explanations completed\"]}]}, {\"name\": \"AUC_macro\", \"run_id\": \"AutoML_ff688dad-3209-4522-a54b-3bb5e88c928e\", \"categories\": [0], \"series\": [{\"data\": [0.8915759515472572]}]}, {\"name\": \"f1_score_macro\", \"run_id\": \"AutoML_ff688dad-3209-4522-a54b-3bb5e88c928e\", \"categories\": [0], \"series\": [{\"data\": [0.8302122909614373]}]}, {\"name\": \"recall_score_micro\", \"run_id\": \"AutoML_ff688dad-3209-4522-a54b-3bb5e88c928e\", \"categories\": [0], \"series\": [{\"data\": [0.8526785714285714]}]}, {\"name\": \"accuracy\", \"run_id\": \"AutoML_ff688dad-3209-4522-a54b-3bb5e88c928e\", \"categories\": [0], \"series\": [{\"data\": [0.8526785714285714]}]}, {\"name\": \"f1_score_weighted\", \"run_id\": \"AutoML_ff688dad-3209-4522-a54b-3bb5e88c928e\", \"categories\": [0], \"series\": [{\"data\": [0.8514396384822305]}]}, {\"name\": \"precision_score_macro\", \"run_id\": \"AutoML_ff688dad-3209-4522-a54b-3bb5e88c928e\", \"categories\": [0], \"series\": [{\"data\": [0.8401540867194891]}]}, {\"name\": \"log_loss\", \"run_id\": \"AutoML_ff688dad-3209-4522-a54b-3bb5e88c928e\", \"categories\": [0], \"series\": [{\"data\": [0.3910068947924633]}]}, {\"name\": \"average_precision_score_macro\", \"run_id\": \"AutoML_ff688dad-3209-4522-a54b-3bb5e88c928e\", \"categories\": [0], \"series\": [{\"data\": [0.8628411026717255]}]}, {\"name\": \"recall_score_macro\", \"run_id\": \"AutoML_ff688dad-3209-4522-a54b-3bb5e88c928e\", \"categories\": [0], \"series\": [{\"data\": [0.8272831783233505]}]}, {\"name\": \"f1_score_micro\", \"run_id\": \"AutoML_ff688dad-3209-4522-a54b-3bb5e88c928e\", \"categories\": [0], \"series\": [{\"data\": [0.8526785714285714]}]}, {\"name\": \"AUC_micro\", \"run_id\": \"AutoML_ff688dad-3209-4522-a54b-3bb5e88c928e\", \"categories\": [0], \"series\": [{\"data\": [0.9021843112244897]}]}, {\"name\": \"average_precision_score_weighted\", \"run_id\": \"AutoML_ff688dad-3209-4522-a54b-3bb5e88c928e\", \"categories\": [0], \"series\": [{\"data\": [0.8918432865605734]}]}, {\"name\": \"matthews_correlation\", \"run_id\": \"AutoML_ff688dad-3209-4522-a54b-3bb5e88c928e\", \"categories\": [0], \"series\": [{\"data\": [0.6668815981626451]}]}, {\"name\": \"recall_score_weighted\", \"run_id\": \"AutoML_ff688dad-3209-4522-a54b-3bb5e88c928e\", \"categories\": [0], \"series\": [{\"data\": [0.8526785714285714]}]}, {\"name\": \"average_precision_score_micro\", \"run_id\": \"AutoML_ff688dad-3209-4522-a54b-3bb5e88c928e\", \"categories\": [0], \"series\": [{\"data\": [0.9023036133513627]}]}, {\"name\": \"weighted_accuracy\", \"run_id\": \"AutoML_ff688dad-3209-4522-a54b-3bb5e88c928e\", \"categories\": [0], \"series\": [{\"data\": [0.8729459116969469]}]}, {\"name\": \"balanced_accuracy\", \"run_id\": \"AutoML_ff688dad-3209-4522-a54b-3bb5e88c928e\", \"categories\": [0], \"series\": [{\"data\": [0.8272831783233505]}]}, {\"name\": \"precision_score_micro\", \"run_id\": \"AutoML_ff688dad-3209-4522-a54b-3bb5e88c928e\", \"categories\": [0], \"series\": [{\"data\": [0.8526785714285714]}]}, {\"name\": \"precision_score_weighted\", \"run_id\": \"AutoML_ff688dad-3209-4522-a54b-3bb5e88c928e\", \"categories\": [0], \"series\": [{\"data\": [0.8562379666893017]}]}, {\"name\": \"norm_macro_recall\", \"run_id\": \"AutoML_ff688dad-3209-4522-a54b-3bb5e88c928e\", \"categories\": [0], \"series\": [{\"data\": [0.654566356646701]}]}, {\"name\": \"AUC_weighted\", \"run_id\": \"AutoML_ff688dad-3209-4522-a54b-3bb5e88c928e\", \"categories\": [0], \"series\": [{\"data\": [0.8915759515472571]}]}], \"run_logs\": \"\\nRun is completed.\", \"graph\": {}, \"widget_settings\": {\"childWidgetDisplay\": \"popup\", \"send_telemetry\": false, \"log_level\": \"INFO\", \"sdk_version\": \"1.27.0\"}, \"loading\": false}"
          },
          "metadata": {}
        }
      ],
      "execution_count": 12,
      "metadata": {
        "gather": {
          "logged": 1620809024071
        },
        "jupyter": {
          "outputs_hidden": false,
          "source_hidden": false
        },
        "nteract": {
          "transient": {
            "deleting": false
          }
        }
      }
    },
    {
      "cell_type": "code",
      "source": [
        "remote_run.wait_for_completion()"
      ],
      "outputs": [
        {
          "output_type": "execute_result",
          "execution_count": 13,
          "data": {
            "text/plain": "{'runId': 'AutoML_ff688dad-3209-4522-a54b-3bb5e88c928e',\n 'target': 'computcluster',\n 'status': 'Completed',\n 'startTimeUtc': '2021-05-12T08:05:52.669839Z',\n 'endTimeUtc': '2021-05-12T08:43:32.760373Z',\n 'properties': {'num_iterations': '1000',\n  'training_type': 'TrainFull',\n  'acquisition_function': 'EI',\n  'primary_metric': 'accuracy',\n  'train_split': '0',\n  'acquisition_parameter': '0',\n  'num_cross_validation': '4',\n  'target': 'computcluster',\n  'AMLSettingsJsonString': '{\"path\":null,\"name\":\"automl_experiment_heart_failure\",\"subscription_id\":\"610d6e37-4747-4a20-80eb-3aad70a55f43\",\"resource_group\":\"aml-quickstarts-144621\",\"workspace_name\":\"quick-starts-ws-144621\",\"region\":\"southcentralus\",\"compute_target\":\"computcluster\",\"spark_service\":null,\"azure_service\":\"remote\",\"many_models\":false,\"pipeline_fetch_max_batch_size\":1,\"enable_batch_run\":false,\"enable_run_restructure\":false,\"start_auxiliary_runs_before_parent_complete\":false,\"iterations\":1000,\"primary_metric\":\"accuracy\",\"task_type\":\"classification\",\"data_script\":null,\"test_size\":0.0,\"validation_size\":0.0,\"n_cross_validations\":4,\"y_min\":null,\"y_max\":null,\"num_classes\":null,\"featurization\":\"auto\",\"_ignore_package_version_incompatibilities\":false,\"is_timeseries\":false,\"max_cores_per_iteration\":1,\"max_concurrent_iterations\":1,\"iteration_timeout_minutes\":null,\"mem_in_mb\":null,\"enforce_time_on_windows\":false,\"experiment_timeout_minutes\":30,\"experiment_exit_score\":null,\"whitelist_models\":null,\"blacklist_algos\":[\"TensorFlowLinearClassifier\",\"TensorFlowDNN\"],\"supported_models\":[\"TensorFlowLinearClassifier\",\"XGBoostClassifier\",\"TensorFlowDNN\",\"LogisticRegression\",\"ExtremeRandomTrees\",\"SVM\",\"GradientBoosting\",\"MultinomialNaiveBayes\",\"LinearSVM\",\"AveragedPerceptronClassifier\",\"SGD\",\"KNN\",\"LightGBM\",\"RandomForest\",\"BernoulliNaiveBayes\",\"DecisionTree\"],\"private_models\":[],\"auto_blacklist\":true,\"blacklist_samples_reached\":false,\"exclude_nan_labels\":true,\"verbosity\":20,\"_debug_log\":\"azureml_automl.log\",\"show_warnings\":false,\"model_explainability\":true,\"service_url\":null,\"sdk_url\":null,\"sdk_packages\":null,\"enable_onnx_compatible_models\":true,\"enable_split_onnx_featurizer_estimator_models\":false,\"vm_type\":\"STANDARD_DS3_V2\",\"telemetry_verbosity\":20,\"send_telemetry\":true,\"enable_dnn\":false,\"scenario\":\"SDK-1.13.0\",\"environment_label\":null,\"save_mlflow\":false,\"force_text_dnn\":false,\"enable_feature_sweeping\":false,\"enable_early_stopping\":true,\"early_stopping_n_iters\":10,\"metrics\":null,\"enable_metric_confidence\":false,\"enable_ensembling\":true,\"enable_stack_ensembling\":false,\"ensemble_iterations\":15,\"enable_tf\":false,\"enable_subsampling\":null,\"subsample_seed\":null,\"enable_nimbusml\":false,\"enable_streaming\":false,\"force_streaming\":false,\"track_child_runs\":true,\"allowed_private_models\":[],\"label_column_name\":\"DEATH_EVENT\",\"weight_column_name\":null,\"cv_split_column_names\":null,\"enable_local_managed\":false,\"_local_managed_run_id\":null,\"cost_mode\":1,\"lag_length\":0,\"metric_operation\":\"maximize\",\"preprocess\":true}',\n  'DataPrepJsonString': '{\\\\\"training_data\\\\\": {\\\\\"datasetId\\\\\": \\\\\"6852208a-6897-47b5-ac53-0c245b0eef4a\\\\\"}, \\\\\"datasets\\\\\": 0}',\n  'EnableSubsampling': None,\n  'runTemplate': 'AutoML',\n  'azureml.runsource': 'automl',\n  'display_task_type': 'classification',\n  'dependencies_versions': '{\"azureml-widgets\": \"1.27.0\", \"azureml-train\": \"1.27.0\", \"azureml-train-restclients-hyperdrive\": \"1.27.0\", \"azureml-train-core\": \"1.27.0\", \"azureml-train-automl\": \"1.27.0\", \"azureml-train-automl-runtime\": \"1.27.0\", \"azureml-train-automl-client\": \"1.27.0\", \"azureml-tensorboard\": \"1.27.0\", \"azureml-telemetry\": \"1.27.0\", \"azureml-sdk\": \"1.27.0\", \"azureml-samples\": \"0+unknown\", \"azureml-pipeline\": \"1.27.0\", \"azureml-pipeline-steps\": \"1.27.0\", \"azureml-pipeline-core\": \"1.27.0\", \"azureml-opendatasets\": \"1.27.0\", \"azureml-model-management-sdk\": \"1.0.1b6.post1\", \"azureml-mlflow\": \"1.27.0\", \"azureml-interpret\": \"1.27.0\", \"azureml-explain-model\": \"1.27.0\", \"azureml-defaults\": \"1.27.0\", \"azureml-dataset-runtime\": \"1.27.0\", \"azureml-dataprep\": \"2.14.2\", \"azureml-dataprep-rslex\": \"1.12.1\", \"azureml-dataprep-native\": \"33.0.0\", \"azureml-datadrift\": \"1.27.0\", \"azureml-core\": \"1.27.0\", \"azureml-contrib-services\": \"1.27.0\", \"azureml-contrib-server\": \"1.27.0\", \"azureml-contrib-reinforcementlearning\": \"1.27.0\", \"azureml-contrib-pipeline-steps\": \"1.27.0\", \"azureml-contrib-notebook\": \"1.27.0\", \"azureml-contrib-gbdt\": \"1.27.0\", \"azureml-contrib-fairness\": \"1.27.0\", \"azureml-contrib-dataset\": \"1.27.0\", \"azureml-cli-common\": \"1.27.0\", \"azureml-automl-runtime\": \"1.27.0\", \"azureml-automl-dnn-nlp\": \"1.27.0\", \"azureml-automl-core\": \"1.27.0\", \"azureml-accel-models\": \"1.27.0\"}',\n  '_aml_system_scenario_identification': 'Remote.Parent',\n  'ClientType': 'SDK',\n  'environment_cpu_name': 'AzureML-AutoML',\n  'environment_cpu_label': 'prod',\n  'environment_gpu_name': 'AzureML-AutoML-GPU',\n  'environment_gpu_label': 'prod',\n  'root_attribution': 'automl',\n  'attribution': 'AutoML',\n  'Orchestrator': 'AutoML',\n  'CancelUri': 'https://southcentralus.api.azureml.ms/jasmine/v1.0/subscriptions/610d6e37-4747-4a20-80eb-3aad70a55f43/resourceGroups/aml-quickstarts-144621/providers/Microsoft.MachineLearningServices/workspaces/quick-starts-ws-144621/experimentids/27c9a3cf-eb37-42e8-988e-dc46b0138ad1/cancel/AutoML_ff688dad-3209-4522-a54b-3bb5e88c928e',\n  'ClientSdkVersion': '1.27.0.post1',\n  'snapshotId': '00000000-0000-0000-0000-000000000000',\n  'SetupRunId': 'AutoML_ff688dad-3209-4522-a54b-3bb5e88c928e_setup',\n  'SetupRunContainerId': 'dcid.AutoML_ff688dad-3209-4522-a54b-3bb5e88c928e_setup',\n  'FeaturizationRunJsonPath': 'featurizer_container.json',\n  'FeaturizationRunId': 'AutoML_ff688dad-3209-4522-a54b-3bb5e88c928e_featurize',\n  'ProblemInfoJsonString': '{\"dataset_num_categorical\": 0, \"is_sparse\": false, \"subsampling\": false, \"dataset_classes\": 2, \"dataset_features\": 12, \"dataset_samples\": 224, \"single_frequency_class_detected\": false}',\n  'ModelExplainRunId': 'AutoML_ff688dad-3209-4522-a54b-3bb5e88c928e_ModelExplain'},\n 'inputDatasets': [{'dataset': {'id': '6852208a-6897-47b5-ac53-0c245b0eef4a'}, 'consumptionDetails': {'type': 'RunInput', 'inputName': 'training_data', 'mechanism': 'Direct'}}],\n 'outputDatasets': [],\n 'logFiles': {},\n 'submittedBy': 'ODL_User 144621'}"
          },
          "metadata": {}
        }
      ],
      "execution_count": 13,
      "metadata": {
        "gather": {
          "logged": 1620809026659
        }
      }
    },
    {
      "cell_type": "markdown",
      "source": [
        "## Best Model"
      ],
      "metadata": {}
    },
    {
      "cell_type": "code",
      "source": [
        "#get best model and print all the metrics\n",
        "best_run, fitted_model = remote_run.get_output()\n",
        "\n",
        "best_run_metrics = best_run.get_metrics() \n",
        "for metric_name in best_run_metrics:\n",
        "    metric = best_run_metrics[metric_name]\n",
        "    print(metric_name, metric)\n",
        "    "
      ],
      "outputs": [
        {
          "output_type": "stream",
          "name": "stdout",
          "text": [
            "AUC_weighted 0.8915759515472571\n",
            "matthews_correlation 0.6668815981626451\n",
            "AUC_macro 0.8915759515472572\n",
            "recall_score_micro 0.8526785714285714\n",
            "balanced_accuracy 0.8272831783233505\n",
            "accuracy 0.8526785714285714\n",
            "norm_macro_recall 0.654566356646701\n",
            "f1_score_micro 0.8526785714285714\n",
            "average_precision_score_macro 0.8628411026717255\n",
            "recall_score_weighted 0.8526785714285714\n",
            "f1_score_weighted 0.8514396384822305\n",
            "average_precision_score_weighted 0.8918432865605734\n",
            "f1_score_macro 0.8302122909614373\n",
            "weighted_accuracy 0.8729459116969469\n",
            "average_precision_score_micro 0.9023036133513627\n",
            "precision_score_macro 0.8401540867194891\n",
            "precision_score_weighted 0.8562379666893017\n",
            "AUC_micro 0.9021843112244897\n",
            "log_loss 0.3910068947924633\n",
            "precision_score_micro 0.8526785714285714\n",
            "recall_score_macro 0.8272831783233505\n",
            "confusion_matrix aml://artifactId/ExperimentRun/dcid.AutoML_ff688dad-3209-4522-a54b-3bb5e88c928e_6/confusion_matrix\n",
            "accuracy_table aml://artifactId/ExperimentRun/dcid.AutoML_ff688dad-3209-4522-a54b-3bb5e88c928e_6/accuracy_table\n"
          ]
        }
      ],
      "execution_count": 14,
      "metadata": {
        "gather": {
          "logged": 1620809049659
        },
        "jupyter": {
          "outputs_hidden": false,
          "source_hidden": false
        },
        "nteract": {
          "transient": {
            "deleting": false
          }
        }
      }
    },
    {
      "cell_type": "code",
      "source": [
        "# Details of best model as well as the parameters of the best run\n",
        "fitted_model"
      ],
      "outputs": [
        {
          "output_type": "execute_result",
          "execution_count": 15,
          "data": {
            "text/plain": "Pipeline(memory=None,\n         steps=[('datatransformer',\n                 DataTransformer(enable_dnn=None, enable_feature_sweeping=None,\n                                 feature_sweeping_config=None,\n                                 feature_sweeping_timeout=None,\n                                 featurization_config=None, force_text_dnn=None,\n                                 is_cross_validation=None,\n                                 is_onnx_compatible=None, logger=None,\n                                 observer=None, task=None, working_dir=None)),\n                ('MaxAbsScaler', MaxAbsScaler(copy...\n                                            max_features=0.4,\n                                            max_leaf_nodes=None,\n                                            min_impurity_decrease=0.0,\n                                            min_impurity_split=None,\n                                            min_samples_leaf=0.08736842105263157,\n                                            min_samples_split=0.5252631578947369,\n                                            min_weight_fraction_leaf=0.0,\n                                            n_estimators=100,\n                                            n_iter_no_change=None,\n                                            presort='deprecated',\n                                            random_state=None, subsample=1,\n                                            tol=0.0001, validation_fraction=0.1,\n                                            verbose=0, warm_start=False))],\n         verbose=False)"
          },
          "metadata": {}
        }
      ],
      "execution_count": 15,
      "metadata": {
        "gather": {
          "logged": 1620809049900
        }
      }
    },
    {
      "cell_type": "code",
      "source": [
        "best_run"
      ],
      "outputs": [
        {
          "output_type": "execute_result",
          "execution_count": 16,
          "data": {
            "text/plain": "Run(Experiment: automl_experiment_heart_failure,\nId: AutoML_ff688dad-3209-4522-a54b-3bb5e88c928e_6,\nType: azureml.scriptrun,\nStatus: Completed)",
            "text/html": "<table style=\"width:100%\"><tr><th>Experiment</th><th>Id</th><th>Type</th><th>Status</th><th>Details Page</th><th>Docs Page</th></tr><tr><td>automl_experiment_heart_failure</td><td>AutoML_ff688dad-3209-4522-a54b-3bb5e88c928e_6</td><td>azureml.scriptrun</td><td>Completed</td><td><a href=\"https://ml.azure.com/runs/AutoML_ff688dad-3209-4522-a54b-3bb5e88c928e_6?wsid=/subscriptions/610d6e37-4747-4a20-80eb-3aad70a55f43/resourcegroups/aml-quickstarts-144621/workspaces/quick-starts-ws-144621&amp;tid=660b3398-b80e-49d2-bc5b-ac1dc93b5254\" target=\"_blank\" rel=\"noopener\">Link to Azure Machine Learning studio</a></td><td><a href=\"https://docs.microsoft.com/en-us/python/api/azureml-core/azureml.core.run.Run?view=azure-ml-py\" target=\"_blank\" rel=\"noopener\">Link to Documentation</a></td></tr></table>"
          },
          "metadata": {}
        }
      ],
      "execution_count": 16,
      "metadata": {
        "gather": {
          "logged": 1620809050101
        }
      }
    },
    {
      "cell_type": "code",
      "source": [
        "#Save the best model\n",
        "best_run.register_model(model_name = \"automl_best_model.pkl\", model_path = \"./outputs/\")\n",
        "joblib.dump(fitted_model, filename= \"outputs/automl_model.pkl\")"
      ],
      "outputs": [
        {
          "output_type": "execute_result",
          "execution_count": 17,
          "data": {
            "text/plain": "['outputs/automl_model.pkl']"
          },
          "metadata": {}
        }
      ],
      "execution_count": 17,
      "metadata": {
        "gather": {
          "logged": 1620809050745
        },
        "jupyter": {
          "outputs_hidden": false,
          "source_hidden": false
        },
        "nteract": {
          "transient": {
            "deleting": false
          }
        }
      }
    },
    {
      "cell_type": "markdown",
      "source": [
        "## Model Deployment"
      ],
      "metadata": {}
    },
    {
      "cell_type": "code",
      "source": [
        "# Download score.py and env file\n",
        "best_run.download_file(\"outputs/scoring_file_v_1_0_0.py\", \"inference/score.py\")\n",
        "best_run.download_file(constants.CONDA_ENV_FILE_PATH,\"automl_env.yml\")"
      ],
      "outputs": [],
      "execution_count": 18,
      "metadata": {
        "gather": {
          "logged": 1620809051399
        }
      }
    },
    {
      "cell_type": "code",
      "source": [
        "# Register the model\n",
        "model_name = best_run.properties[\"model_name\"]\n",
        "description = \"An AutoML model trained on heart failure data to predict whether a death will occur or not. This is only a test!\"\n",
        "tags = None\n",
        "model = remote_run.register_model(model_name = model_name, description = description, tags = tags)\n",
        "\n",
        "print(remote_run.model_id)"
      ],
      "outputs": [
        {
          "output_type": "stream",
          "name": "stdout",
          "text": [
            "AutoMLff688dad36\n"
          ]
        }
      ],
      "execution_count": 19,
      "metadata": {
        "gather": {
          "logged": 1620809052216
        }
      }
    },
    {
      "cell_type": "code",
      "source": [
        "# Create inference config\n",
        "script_file_name= \"inference/score.py\"\n",
        "inference_config = InferenceConfig(entry_script=script_file_name)\n",
        "\n",
        "aciconfig = AciWebservice.deploy_configuration(cpu_cores = 2, \n",
        "                                               memory_gb = 4, \n",
        "                                               tags = {\"area\": \"hfData\", \"type\": \"automl_classification\"}, \n",
        "                                               description = \"Heart Failure Prediction (Experiment!)\")\n",
        "\n",
        "aci_service_name = \"automl-heart-failure-model\"\n",
        "print(aci_service_name)\n",
        "aci_service = Model.deploy(ws, aci_service_name, [model], inference_config, aciconfig)\n",
        "aci_service.wait_for_deployment(True)\n",
        "print(aci_service.state)"
      ],
      "outputs": [
        {
          "output_type": "stream",
          "name": "stdout",
          "text": [
            "automl-heart-failure-model\n",
            "Tips: You can try get_logs(): https://aka.ms/debugimage#dockerlog or local deployment: https://aka.ms/debugimage#debug-locally to debug if deployment takes longer than 10 minutes.\n",
            "Running\n",
            "2021-05-12 08:44:14+00:00 Creating Container Registry if not exists..\n",
            "2021-05-12 08:44:25+00:00 Use the existing image.\n",
            "2021-05-12 08:44:25+00:00 Generating deployment configuration.\n",
            "2021-05-12 08:44:25+00:00 Submitting deployment to compute.\n",
            "2021-05-12 08:44:29+00:00 Checking the status of deployment automl-heart-failure-model..\n",
            "2021-05-12 08:48:15+00:00 Checking the status of inference endpoint automl-heart-failure-model.\n",
            "Succeeded\n",
            "ACI service creation operation finished, operation \"Succeeded\"\n",
            "Healthy\n"
          ]
        }
      ],
      "execution_count": 20,
      "metadata": {
        "gather": {
          "logged": 1620809297900
        }
      }
    },
    {
      "cell_type": "code",
      "source": [
        "# Enable Application Insights\n",
        "aci_service.update(enable_app_insights=True)"
      ],
      "outputs": [],
      "execution_count": 21,
      "metadata": {
        "gather": {
          "logged": 1620809298800
        }
      }
    },
    {
      "cell_type": "code",
      "source": [
        "# State / Swagger/ Scoring information\n",
        "print(\"State \"+ aci_service.state)\n",
        "print(\"Swagger URI \" + aci_service.swagger_uri)\n",
        "print(\"Scoring URI \" + aci_service.scoring_uri)"
      ],
      "outputs": [
        {
          "output_type": "stream",
          "name": "stdout",
          "text": [
            "State Healthy\n",
            "Swagger URI http://ed926a23-aca1-4a20-980a-71f05596ce2b.southcentralus.azurecontainer.io/swagger.json\n",
            "Scoring URI http://ed926a23-aca1-4a20-980a-71f05596ce2b.southcentralus.azurecontainer.io/score\n"
          ]
        }
      ],
      "execution_count": 22,
      "metadata": {
        "gather": {
          "logged": 1620809299014
        }
      }
    },
    {
      "cell_type": "markdown",
      "source": [
        "In the cell below, a request is sent to the web service deployed to test it."
      ],
      "metadata": {
        "collapsed": true,
        "gather": {
          "logged": 1598431657736
        },
        "jupyter": {
          "outputs_hidden": false,
          "source_hidden": false
        },
        "nteract": {
          "transient": {
            "deleting": false
          }
        }
      }
    },
    {
      "cell_type": "code",
      "source": [
        "import requests\n",
        "import json\n",
        "\n",
        "# Short waiting time, it's stabler in process with this\n",
        "time.sleep(30)\n",
        "\n",
        "# URL for the web service, should be similar to:\n",
        "print (\"Scoring URL: \"+aci_service.scoring_uri)\n",
        "scoring_uri = aci_service.scoring_uri\n",
        "\n",
        "\n",
        "# Two data sets are evaluated, we then receive two results back for this\n",
        "data = {\"data\":\n",
        "        [\n",
        "          {\n",
        "            \"age\": 70.0,\n",
        "            \"anaemia\": 1,\n",
        "            \"creatinine_phosphokinase\": 4020,\n",
        "            \"diabetes\": 1,\n",
        "            \"ejection_fraction\": 32,\n",
        "            \"high_blood_pressure\": 1,\n",
        "            \"platelets\": 234558.23,\n",
        "            \"serum_creatinine\": 1.4,\n",
        "            \"serum_sodium\": 125,\n",
        "            \"sex\": 1,\n",
        "            \"smoking\": 0,\n",
        "            \"time\": 12\n",
        "          },\n",
        "          {\n",
        "            \"age\": 65.0,\n",
        "            \"anaemia\": 0,\n",
        "            \"creatinine_phosphokinase\": 4221,\n",
        "            \"diabetes\": 0,\n",
        "            \"ejection_fraction\": 22,\n",
        "            \"high_blood_pressure\": 0,\n",
        "            \"platelets\": 404567.23,\n",
        "            \"serum_creatinine\": 1.1,\n",
        "            \"serum_sodium\": 115,\n",
        "            \"sex\": 0,\n",
        "            \"smoking\": 1,\n",
        "            \"time\": 7\n",
        "          },\n",
        "      ]\n",
        "    }\n",
        "# Convert to JSON string\n",
        "input_data = json.dumps(data)\n",
        "with open(\"data.json\", \"w\") as _f:\n",
        "    _f.write(input_data)\n",
        "\n",
        "# Set the content type\n",
        "headers = {\"Content-Type\": \"application/json\"}\n",
        "# If authentication is enabled, set the authorization header\n",
        "\n",
        "# Make the request and display the response\n",
        "resp = requests.post(scoring_uri, input_data, headers=headers)\n",
        "print(resp.json())"
      ],
      "outputs": [
        {
          "output_type": "stream",
          "name": "stdout",
          "text": [
            "Scoring URL: http://ed926a23-aca1-4a20-980a-71f05596ce2b.southcentralus.azurecontainer.io/score\n",
            "{\"result\": [1, 1]}\n"
          ]
        }
      ],
      "execution_count": 23,
      "metadata": {
        "gather": {
          "logged": 1620809329099
        },
        "jupyter": {
          "outputs_hidden": false,
          "source_hidden": false
        },
        "nteract": {
          "transient": {
            "deleting": false
          }
        }
      }
    },
    {
      "cell_type": "code",
      "source": [
        "#Print the logs of the deployed service\n",
        "aci_service.get_logs()"
      ],
      "outputs": [
        {
          "output_type": "execute_result",
          "execution_count": 24,
          "data": {
            "text/plain": "'2021-05-12T08:48:26,190469475+00:00 - rsyslog/run \\n2021-05-12T08:48:26,191005375+00:00 - gunicorn/run \\n/usr/sbin/nginx: /azureml-envs/azureml_98cae94c606e3ceb655a787040a8a93c/lib/libcrypto.so.1.0.0: no version information available (required by /usr/sbin/nginx)\\n/usr/sbin/nginx: /azureml-envs/azureml_98cae94c606e3ceb655a787040a8a93c/lib/libcrypto.so.1.0.0: no version information available (required by /usr/sbin/nginx)\\n/usr/sbin/nginx: /azureml-envs/azureml_98cae94c606e3ceb655a787040a8a93c/lib/libssl.so.1.0.0: no version information available (required by /usr/sbin/nginx)\\n/usr/sbin/nginx: /azureml-envs/azureml_98cae94c606e3ceb655a787040a8a93c/lib/libssl.so.1.0.0: no version information available (required by /usr/sbin/nginx)\\n/usr/sbin/nginx: /azureml-envs/azureml_98cae94c606e3ceb655a787040a8a93c/lib/libssl.so.1.0.0: no version information available (required by /usr/sbin/nginx)\\n2021-05-12T08:48:26,193184775+00:00 - iot-server/run \\n2021-05-12T08:48:26,192562475+00:00 - nginx/run \\nrsyslogd: /azureml-envs/azureml_98cae94c606e3ceb655a787040a8a93c/lib/libuuid.so.1: no version information available (required by rsyslogd)\\nEdgeHubConnectionString and IOTEDGE_IOTHUBHOSTNAME are not set. Exiting...\\n2021-05-12T08:48:26,301401451+00:00 - iot-server/finish 1 0\\n2021-05-12T08:48:26,302799451+00:00 - Exit code 1 is normal. Not restarting iot-server.\\nStarting gunicorn 19.9.0\\nListening at: http://127.0.0.1:31311 (12)\\nUsing worker: sync\\nworker timeout is set to 300\\nBooting worker with pid: 41\\nSPARK_HOME not set. Skipping PySpark Initialization.\\nGenerating new fontManager, this may take some time...\\nInitializing logger\\n2021-05-12 08:48:27,676 | root | INFO | Starting up app insights client\\n2021-05-12 08:48:27,676 | root | INFO | Starting up request id generator\\n2021-05-12 08:48:27,677 | root | INFO | Starting up app insight hooks\\n2021-05-12 08:48:27,677 | root | INFO | Invoking user\\'s init function\\n2021-05-12 08:48:30,037 | azureml.core | WARNING | Failure while loading azureml_run_type_providers. Failed to load entrypoint automl = azureml.train.automl.run:AutoMLRun._from_run_dto with exception cannot import name \\'RunType\\'.\\nFailure while loading azureml_run_type_providers. Failed to load entrypoint automl = azureml.train.automl.run:AutoMLRun._from_run_dto with exception cannot import name \\'RunType\\'.\\n2021-05-12 08:48:30,332 | root | INFO | Users\\'s init has completed successfully\\n2021-05-12 08:48:30,335 | root | INFO | Skipping middleware: dbg_model_info as it\\'s not enabled.\\n2021-05-12 08:48:30,335 | root | INFO | Skipping middleware: dbg_resource_usage as it\\'s not enabled.\\n2021-05-12 08:48:30,336 | root | INFO | Scoring timeout is found from os.environ: 60000 ms\\n2021-05-12 08:48:31,957 | root | INFO | 200\\n127.0.0.1 - - [12/May/2021:08:48:31 +0000] \"GET /swagger.json HTTP/1.0\" 200 3055 \"-\" \"Go-http-client/1.1\"\\n2021-05-12 08:48:32,535 | root | INFO | 200\\n127.0.0.1 - - [12/May/2021:08:48:32 +0000] \"GET /swagger.json HTTP/1.0\" 200 3055 \"-\" \"Go-http-client/1.1\"\\n2021-05-12 08:48:48,940 | root | INFO | Validation Request Content-Type\\n2021-05-12 08:48:48,941 | root | INFO | Scoring Timer is set to 60.0 seconds\\n2021-05-12 08:48:49,015 | root | INFO | 200\\n127.0.0.1 - - [12/May/2021:08:48:49 +0000] \"POST /score HTTP/1.0\" 200 22 \"-\" \"python-requests/2.25.1\"\\n'"
          },
          "metadata": {}
        }
      ],
      "execution_count": 24,
      "metadata": {
        "gather": {
          "logged": 1620809329565
        },
        "jupyter": {
          "outputs_hidden": false,
          "source_hidden": false
        },
        "nteract": {
          "transient": {
            "deleting": false
          }
        }
      }
    },
    {
      "cell_type": "code",
      "source": [
        "# Save file in ONNX\n",
        "from azureml.automl.runtime.onnx_convert import OnnxConverter\n",
        "automl_best_run_onnx, automl_fitted_model_onnx = remote_run.get_output(return_onnx_model=True)\n",
        "OnnxConverter.save_onnx_model(automl_fitted_model_onnx, './outputs/AutoML.onnx' )\n",
        "print (\"ONNX saved\")\n",
        "\n",
        "#Delete the deployed service (wait bevor this do 5 minutes)\n",
        "time.sleep(300)\n",
        "aci_service.delete()\n",
        "print (\"Done\")"
      ],
      "outputs": [
        {
          "output_type": "stream",
          "name": "stdout",
          "text": [
            "ONNX saved\n",
            "Done\n"
          ]
        }
      ],
      "execution_count": 25,
      "metadata": {
        "gather": {
          "logged": 1620809721274
        }
      }
    },
    {
      "cell_type": "code",
      "source": [],
      "outputs": [],
      "execution_count": null,
      "metadata": {}
    }
  ],
  "metadata": {
    "kernel_info": {
      "name": "python3"
    },
    "kernelspec": {
      "name": "python3",
      "language": "python",
      "display_name": "Python 3"
    },
    "language_info": {
      "name": "python",
      "version": "3.6.9",
      "mimetype": "text/x-python",
      "codemirror_mode": {
        "name": "ipython",
        "version": 3
      },
      "pygments_lexer": "ipython3",
      "nbconvert_exporter": "python",
      "file_extension": ".py"
    },
    "nteract": {
      "version": "nteract-front-end@1.0.0"
    },
    "microsoft": {
      "host": {
        "AzureML": {
          "notebookHasBeenCompleted": true
        }
      }
    }
  },
  "nbformat": 4,
  "nbformat_minor": 2
}